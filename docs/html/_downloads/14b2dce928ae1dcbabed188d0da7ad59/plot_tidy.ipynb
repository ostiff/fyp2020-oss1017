{
  "cells": [
    {
      "cell_type": "code",
      "execution_count": null,
      "metadata": {
        "collapsed": false
      },
      "outputs": [],
      "source": [
        "%matplotlib inline"
      ]
    },
    {
      "cell_type": "markdown",
      "metadata": {},
      "source": [
        "\n# TidyWidget\n"
      ]
    },
    {
      "cell_type": "code",
      "execution_count": null,
      "metadata": {
        "collapsed": false
      },
      "outputs": [],
      "source": [
        "# Import\nimport numpy as np\nimport pandas as pd\n\n# DataBlend library\nfrom pkgname.utils.widgets import TidyWidget\n\n# ------------------------\n# Constants\n# ------------------------\n# Transformed data\ndata = [\n    {'id': '32dx-001', 'date': '2020/12/05', 'column': 'bt', 'result': 37.2, 'unit': 'celsius'},\n    {'id': '32dx-001', 'date': '2020/12/05', 'column': 'age', 'result': 32, 'unit': 'year'},\n    {'id': '32dx-001', 'date': '2020/12/05', 'column': 'gender', 'result': 'Male'},\n    {'id': '32dx-001', 'date': '2020/12/05', 'column': 'pregnant', 'result': False},\n    {'id': '32dx-001', 'date': '2020/12/05', 'column': 'pcr_dengue_serotype', 'result': 'DENV-1'},\n    {'id': '32dx-001', 'date': '2020/12/05', 'column': 'pcr_dengue_serotype', 'result': 'DENV-2'},\n    {'id': '32dx-002', 'date': '2020/12/05', 'column': 'bt', 'result': 38.2},\n    {'id': '32dx-002', 'date': '2020/12/05', 'column': 'bt', 'result': 39.7},\n    {'id': '32dx-002', 'date': '2020/12/05', 'column': 'age', 'result': np.nan},\n    {'id': '32dx-002', 'date': '2020/12/05', 'column': 'gender', 'result': 'Female'},\n    {'id': '32dx-002', 'date': '2020/12/05', 'column': 'pregnant', 'result': True},\n    {'id': '32dx-002', 'date': '2020/12/05', 'column': 'pregnant', 'result': False},\n    {'id': '32dx-002', 'date': '2020/12/05', 'column': 'pcr_dengue_serotype', 'result': 'DENV-3'},\n    {'id': '32dx-002', 'date': '2020/12/05', 'column': 'pcr_dengue_serotype', 'result': 'DENV-4'},\n    {'id': '32dx-002', 'date': '2020/12/05', 'column': 'wbc', 'result': '15'},\n    {'id': '32dx-002', 'date': '2020/12/05', 'column': 'wbc', 'result': '18'},\n    {'id': '32dx-003', 'date': '2020/12/05', 'column': 'vomiting', 'result': 'False'},\n    {'id': '32dx-003', 'date': '2020/12/05', 'column': 'vomiting', 'result': False},\n    {'id': '32dx-004', 'date': '2020/12/05', 'column': 'vomiting', 'result': 'False'},\n    {'id': '32dx-004', 'date': '2020/12/05', 'column': 'vomiting', 'result': False},\n    {'id': '32dx-004', 'date': '2020/12/05', 'column': 'vomiting', 'result': 'True'},\n    {'id': '32dx-004', 'date': '2020/12/05', 'column': 'vomiting', 'result': True},\n]\n\n# Parameters\nindex = ['id', 'date', 'column']\nvalue = 'result'\n\n# --------------------\n# Main\n# --------------------\n# Create data\ndata = pd.DataFrame(data)\n\n# Create widget\nwidget = TidyWidget(index=index, value=value)\n\n# Transform (keep all)\ntransform, duplicated = \\\n    widget.transform(data, report_duplicated=True)\n\n# Transform (keep first)\ntransform_first = \\\n    widget.transform(data, keep='first')\n\n# Show\nprint(\"\\nStacked:\")\nprint(data)\nprint(\"\\nDuplicated:\")\nprint(duplicated)\nprint(\"\\nTidy (all):\")\nprint(transform)\nprint(\"\\nTidy (first):\")\nprint(transform_first)\nprint(\"\\nDtypes:\")\nprint(transform.dtypes)"
      ]
    }
  ],
  "metadata": {
    "kernelspec": {
      "display_name": "Python 3",
      "language": "python",
      "name": "python3"
    },
    "language_info": {
      "codemirror_mode": {
        "name": "ipython",
        "version": 3
      },
      "file_extension": ".py",
      "mimetype": "text/x-python",
      "name": "python",
      "nbconvert_exporter": "python",
      "pygments_lexer": "ipython3",
      "version": "3.8.5"
    }
  },
  "nbformat": 4,
  "nbformat_minor": 0
}