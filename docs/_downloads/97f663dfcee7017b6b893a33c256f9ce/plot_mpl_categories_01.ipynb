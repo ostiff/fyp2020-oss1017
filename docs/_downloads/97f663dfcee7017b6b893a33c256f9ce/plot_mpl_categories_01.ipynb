{
  "cells": [
    {
      "cell_type": "code",
      "execution_count": null,
      "metadata": {
        "collapsed": false
      },
      "outputs": [],
      "source": [
        "%matplotlib inline"
      ]
    },
    {
      "cell_type": "markdown",
      "metadata": {},
      "source": [
        "\n# Categories (exhaustive)\n\nThis script is useful to understand the distribution\nover the 2D projected space of the different categories.\nThe categories (severe, warning, mild, ...) can be\ncreated by combining other existing features/outcomes\nin the data. This script contains exhaustive, including\nas much information as possible for each of the categories.\n"
      ]
    },
    {
      "cell_type": "code",
      "execution_count": null,
      "metadata": {
        "collapsed": false
      },
      "outputs": [],
      "source": [
        "# Library\nimport pickle\nimport pandas as pd\nimport numpy as np\nimport matplotlib as mpl\n\n# Specific\nfrom torch.utils.data import DataLoader\nfrom sklearn.preprocessing import MinMaxScaler\n\n# Specific\nfrom pkgname.core.AE.autoencoder import get_device, set_seed\nfrom pkgname.utils.data_loader import load_dengue, IQR_rule\n\n# Local (also configures mpl and pd)\nimport _utils\n\n\n# ------------------------------\n# Constants\n# ------------------------------\n# Load constants\nfeatures = _utils.features\nothers = _utils.others\nmappings = _utils.mappings\naggregation = _utils.aggregation\ncmaps = _utils.cmaps\n\noutcomes = [\n    \"severe\",\n    \"warning\",\n    \"mild\",\n]\n\n# Ensure all outcomes are in aggregation\nfor c in outcomes:\n    if c not in aggregation:\n        print(\"Adding... %23s | max\" % c)\n        aggregation[c] = 'max'\n\nnrows, ncols = 1, 3\n\n\n# ------------------------------\n# Load data\n# ------------------------------\n# Load data\ndata = _utils.load_data()\n\n# Liver abnormal\ndata['liver_abnormal'] = \\\n    data.liver_acute | \\\n    data.liver_involved | \\\n    data.liver_failure | \\\n    data.liver_severe | \\\n    data.jaundice\n\n# Kidney abnormal\ndata['kidney_abnormal'] = \\\n    data.skidney\n\n# Create features\ndata['severe_leak'] = \\\n    data.ascites | \\\n    data.overload | \\\n    data.oedema_pulmonary | \\\n    data.respiratory_distress | \\\n    data.oedema | \\\n    data.pleural_effusion | \\\n    data.effusion\n\n# Bleeding\ndata['severe_bleed'] = \\\n    data.bleeding_gi | \\\n    data.bleeding_urine # useless\n\n# Organ impairment\ndata['severe_organ'] = \\\n    data.cns_abnormal | \\\n    data.neurology.astype(bool) | \\\n    data.liver_abnormal | \\\n    data.kidney_abnormal | \\\n    (data.ast.fillna(0) >= 1000) | \\\n    (data.alt.fillna(0) >= 1000)\n\n# Category: severe\ndata['severe'] = \\\n    data.severe_leak | \\\n    data.severe_bleed | \\\n    data.severe_organ | \\\n    data.shock\n\n# Category: warning WHO\ndata['warning'] = \\\n    data.abdominal_pain | \\\n    data.abdominal_tenderness | \\\n    data.vomiting | \\\n    data.ascites | \\\n    data.pleural_effusion | \\\n    data.bleeding_mucosal | \\\n    data.restlessness | \\\n    data.lethargy | \\\n    (data.liver_palpation_size.fillna(0) > 2)\n\n# Category: mild\ndata['mild'] = ~(data.severe | data.warning)\n\n# Fill empty values (be careful!)\nfor c in outcomes:\n    data[c] = data[c].fillna(0)\n\n# Filter data (age, iqr, ...)\ndata = data[data.age.between(0.0, 18.0)]\ndata = data[data.plt < 50000] # extreme outlier\n\n# Filter outliers\ndata = IQR_rule(data, [\n    'plt',\n    #'haematocrit_percent',\n    #'body_temperature'\n])\n\n# Rename\n# .. note: Done after convert_dtypes so that\n#          it remains 0 or 1, otherwise it will\n#          be transformed to boolean feature.\n#          (its ok too).\ndata = data.replace(mappings)\n\n# Get worst state for patient\ndata = data.groupby(by=\"study_no\", dropna=False) \\\n    .agg(aggregation).dropna()\n\n# Show data\nprint(\"\\nData:\")\nprint(data)\nprint(data.dtypes)\nprint(data.index.nunique())\nprint(data[outcomes].sum().sort_values())\n\n\n# ------------------------------\n# Load Model\n# ------------------------------\n# Load model\nmodel = _utils.load_model()\n\n# Show\nprint(\"\\nModel:\")\nprint(model)\n\n# ------------------------------\n# Projections\n# ------------------------------\n# .. note: The scaling method should have also been\n#          saved when training the model.\n# Features\ndatap = data[features].copy(deep=True)\n\n# Scale first\ndatap = MinMaxScaler().fit_transform(datap)\n\n# Encode\nencoded = model.encode_inputs( \\\n    DataLoader(datap, 16, shuffle=False))\n\n# Include in original dataset\ndata[['x', 'y']] = encoded\n\n# Show\nprint(\"\\nEncoded:\")\nprint(encoded)\nprint(\"\\nData:\")\nprint(data)\n\n\n# ------------------------------\n# Visualization\n# ------------------------------\n# Libraries\nimport matplotlib.pyplot as plt\n\n# Specific\nfrom _utils import kde_mpl_plot\nfrom _utils import kde_mpl_compute\nfrom _utils import kde_mpl\n\n# Figure with kdes\nf5, axes5 = plt.subplots(nrows, ncols,\n    figsize=(15, 4), sharex=True, sharey=True)\n\n# Loop\nfor i, c in enumerate(outcomes):\n    # Select dataset\n    aux = data[data[c] == 1]\n    # Plot kde\n    kde_mpl(aux.x, aux.y, ax=axes5.flat[i],\n        contour=True, cmap=cmaps.get(c, 'Reds'),\n        xlim=(data.x.min(), data.x.max()),\n        ylim=(data.y.min(), data.y.max()))\n    # Configure\n    axes5.flat[i].set(aspect='equal',\n        title='%s (%s)' % (c, aux.shape[0]))\n\n# Configure\nplt.tight_layout()\n\n# Show\nplt.show()"
      ]
    }
  ],
  "metadata": {
    "kernelspec": {
      "display_name": "Python 3",
      "language": "python",
      "name": "python3"
    },
    "language_info": {
      "codemirror_mode": {
        "name": "ipython",
        "version": 3
      },
      "file_extension": ".py",
      "mimetype": "text/x-python",
      "name": "python",
      "nbconvert_exporter": "python",
      "pygments_lexer": "ipython3",
      "version": "3.8.5"
    }
  },
  "nbformat": 4,
  "nbformat_minor": 0
}