{
  "cells": [
    {
      "cell_type": "code",
      "execution_count": null,
      "metadata": {
        "collapsed": false
      },
      "outputs": [],
      "source": [
        "%matplotlib inline"
      ]
    },
    {
      "cell_type": "markdown",
      "metadata": {},
      "source": [
        "\n# Auto-encoder interactive example (Code)\n\nInteractive example to visualise dengue data encoded by an auto encoder.\n\nFeatures:\n\n    - Get information about the k points closest to the selected one.\n    - Input data corresponding to an unseen patient to get information about the k\n      patients which are closest in the latent space.\n\n\nWith the virtual environment active:\n``$ python examples/vae/vae_kdtree_server.py``\n\nThe server will be started locally on: http://127.0.0.1:5000/\n\nThe example can be accessed on http://127.0.0.1:5000/ or by opening\n``examples/vae/templates/vae_kd_tree_client.html`` in a browser.\n"
      ]
    },
    {
      "cell_type": "code",
      "execution_count": null,
      "metadata": {
        "collapsed": false
      },
      "outputs": [],
      "source": [
        "from flask import Flask, request, jsonify, render_template\n\nimport os\nimport sys\nsys.path.insert(0, os.path.abspath('.'))\n\nimport pandas as pd\nimport numpy as np\nimport pickle\nfrom torch.utils.data import DataLoader\nfrom sklearn.model_selection import train_test_split\nfrom sklearn import preprocessing\nfrom sklearn.neighbors import KDTree\nfrom tableone import TableOne\n\nfrom pkgname.core.AE.autoencoder import get_device, set_seed\nfrom pkgname.utils.data_loader import load_dengue\nfrom pkgname.utils.plot_utils import formatTable\nfrom definitions import ROOT_DIR\n\n\napp = Flask(__name__, template_folder=os.path.join(ROOT_DIR, 'examples', 'autoencoder', 'templates'))\n\n@app.route('/')\ndef home():\n    return render_template('ae_kd_tree_client.html')\n\n@app.route('/get_data', methods=['GET'])\ndef get_data():\n    x = encoded_test[:,0].tolist()\n    y = encoded_test[:,1].tolist()\n    resp = {\n        'x': x,\n        'y': y\n    }\n    response = jsonify(resp)\n    response.headers.add('Access-Control-Allow-Origin', '*')\n    return response\n\n\ndef makeTable(idx):\n    c = [1 if (i in idx) else 0 for i in range(len(encoded_test))]\n    table_df['cluster'] = c\n    table = TableOne(table_df, columns=columns, categorical=categorical, nonnormal=nonnormal,\n                     groupby='cluster', rename=rename, missing=False, overall=False)\n    html = formatTable(table, [\"#1f77b4\", \"#ff7f0e\"], [\"Not selected\", \"Selected\"])\n    return html.render()\n\n\n@app.route('/get_k_nearest', methods=['GET'])\ndef get_k_nearest():\n    id = int(request.args.get('id'))\n    k = int(request.args.get('k'))\n    idx = tree.query([encoded_test[id]], k=k, return_distance=False)\n\n    resp = {\n        'idx': idx.tolist(),\n        'table': makeTable(idx)\n    }\n\n    response = jsonify(resp)\n    response.headers.add('Access-Control-Allow-Origin', '*')\n    return response\n\n\n@app.route('/enc_patient', methods=['GET'])\ndef enc_patient():\n    k = int(request.args.get('k'))\n    age = float(request.args.get('age'))\n    weight = float(request.args.get('weight'))\n    plt = float(request.args.get('plt'))\n    hct = float(request.args.get('hct'))\n    b_temp = float(request.args.get('b_temp'))\n\n    scaled = scaler.transform([[age, weight, plt, hct, b_temp]])\n    inp = DataLoader(scaled, 1, shuffle=False)\n    enc = model.encode_inputs(inp)\n    idx = tree.query(enc, k=k, return_distance=False)\n\n    resp = {\n        'idx': idx.tolist(),\n        'table': makeTable(idx)\n    }\n\n    response = jsonify(resp)\n    response.headers.add('Access-Control-Allow-Origin', '*')\n    return response\n\nif __name__ == \"__main__\":\n\n    # --------------\n    # Load data\n    # --------------\n\n    SEED = 0\n    batch_size = 16\n    MODEL_PATH = os.path.join(ROOT_DIR, 'examples', 'autoencoder', 'model')\n    LEAF_SIZE = 40\n\n    # Set seed\n    set_seed(SEED)\n\n    # Get device\n    device = get_device(False)\n\n    features = [\"dsource\", \"date\", \"age\", \"gender\", \"weight\", \"bleeding\", \"plt\",\n                \"shock\", \"haematocrit_percent\", \"bleeding_gum\", \"abdominal_pain\",\n                \"ascites\", \"bleeding_mucosal\", \"bleeding_skin\", \"body_temperature\"]\n\n    df = load_dengue(usecols=['study_no'] + features)\n\n    for feat in features:\n        df[feat] = df.groupby('study_no')[feat].ffill().bfill()\n\n    df = df.loc[df['age'] <= 18]\n    df = df.dropna()\n\n    df = df.groupby(by=\"study_no\", dropna=False).agg(\n        dsource=pd.NamedAgg(column=\"dsource\", aggfunc=\"last\"),\n        date=pd.NamedAgg(column=\"date\", aggfunc=\"last\"),\n        age=pd.NamedAgg(column=\"age\", aggfunc=\"max\"),\n        gender=pd.NamedAgg(column=\"gender\", aggfunc=\"first\"),\n        weight=pd.NamedAgg(column=\"weight\", aggfunc=np.mean),\n        bleeding=pd.NamedAgg(column=\"bleeding\", aggfunc=\"max\"),\n        plt=pd.NamedAgg(column=\"plt\", aggfunc=\"min\"),\n        shock=pd.NamedAgg(column=\"shock\", aggfunc=\"max\"),\n        haematocrit_percent=pd.NamedAgg(column=\"haematocrit_percent\", aggfunc=\"max\"),\n        bleeding_gum=pd.NamedAgg(column=\"bleeding_gum\", aggfunc=\"max\"),\n        abdominal_pain=pd.NamedAgg(column=\"abdominal_pain\", aggfunc=\"max\"),\n        ascites=pd.NamedAgg(column=\"ascites\", aggfunc=\"max\"),\n        bleeding_mucosal=pd.NamedAgg(column=\"bleeding_mucosal\", aggfunc=\"max\"),\n        bleeding_skin=pd.NamedAgg(column=\"bleeding_skin\", aggfunc=\"max\"),\n        body_temperature=pd.NamedAgg(column=\"body_temperature\", aggfunc=np.mean),\n    ).dropna()\n\n    mapping = {'Female': 0, 'Male': 1}\n    df = df.replace({'gender': mapping})\n\n    info_feat = [\"dsource\", \"shock\", \"bleeding\", \"bleeding_gum\", \"abdominal_pain\", \"ascites\",\n                 \"bleeding_mucosal\", \"bleeding_skin\", \"gender\"]\n    data_feat = [\"age\", \"weight\", \"plt\", \"haematocrit_percent\", \"body_temperature\"]\n\n    train, test = train_test_split(df, test_size=0.2, random_state=SEED)\n\n    train_data = train[data_feat]\n    test_data = test[data_feat]\n    train_info = train[info_feat]\n    test_info = test[info_feat]\n\n    scaler = preprocessing.MinMaxScaler().fit(train_data)\n\n    train_scaled = scaler.transform(train_data.to_numpy())\n    test_scaled = scaler.transform(test_data.to_numpy())\n\n    loader_train = DataLoader(train_scaled, batch_size, shuffle=True)\n    loader_test = DataLoader(test_scaled, batch_size, shuffle=False)\n\n    # ------------------\n    # Create tree\n    # ------------------\n\n    model = pickle.load(open(MODEL_PATH, 'rb'))\n    encoded_test = model.encode_inputs(loader_test)\n    tree = KDTree(encoded_test, leaf_size=LEAF_SIZE)\n\n    # --------------\n    # Table setup\n    # --------------\n\n    mapping = {0: 'Female', 1: 'Male'}\n    table_df = test.replace({'gender': mapping})\n    columns = (info_feat + data_feat)\n    columns.remove(\"dsource\")\n    nonnormal = list(table_df[columns].select_dtypes(include='number').columns)\n    categorical = list(set(columns).difference(set(nonnormal)))\n    columns = sorted(categorical) + sorted(nonnormal)\n    rename = {'haematocrit_percent': 'hct',\n              'body_temperature': 'temperature'}\n\n    app.run()"
      ]
    }
  ],
  "metadata": {
    "kernelspec": {
      "display_name": "Python 3",
      "language": "python",
      "name": "python3"
    },
    "language_info": {
      "codemirror_mode": {
        "name": "ipython",
        "version": 3
      },
      "file_extension": ".py",
      "mimetype": "text/x-python",
      "name": "python",
      "nbconvert_exporter": "python",
      "pygments_lexer": "ipython3",
      "version": "3.8.5"
    }
  },
  "nbformat": 4,
  "nbformat_minor": 0
}