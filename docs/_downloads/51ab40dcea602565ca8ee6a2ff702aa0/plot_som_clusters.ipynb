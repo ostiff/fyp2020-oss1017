{
  "cells": [
    {
      "cell_type": "code",
      "execution_count": null,
      "metadata": {
        "collapsed": false
      },
      "outputs": [],
      "source": [
        "%matplotlib inline"
      ]
    },
    {
      "cell_type": "markdown",
      "metadata": {},
      "source": [
        "\n# SOM experiment figures\n"
      ]
    },
    {
      "cell_type": "code",
      "execution_count": null,
      "metadata": {
        "collapsed": false
      },
      "outputs": [],
      "source": [
        "import os\nimport sys\nimport pickle\nimport pandas as pd\nimport numpy as np\nimport seaborn as sns\nimport matplotlib as mpl\nimport matplotlib.pyplot as plt\nimport matplotlib.patches as mpatches\n\nfrom sklearn import preprocessing\nfrom seaborn import color_palette\n\nfrom pkgname.core.evaluation.dr_evaluation import distance_metrics\nfrom pkgname.utils.data_loader import load_dengue, IQR_rule\nfrom definitions import ROOT_DIR\nfrom sklearn.cluster import DBSCAN, KMeans\n\nsys.path.insert(0, os.path.abspath('.'))\n\n# mpl.use(\"pgf\")\n# mpl.rcParams.update({\n#     \"pgf.texsystem\": \"pdflatex\",\n#     'font.family': 'serif',\n#     'text.usetex': True,\n#     'font.size': 18,\n# })\n\n\nmpl.rcParams.update({\n    'font.family': 'serif',\n    'font.weight': 'light',\n    'font.size': 16,\n})\n\n\n\nSEED = 0\nnp.random.seed(SEED)\n\nSOM_POINTS_PATH = os.path.join(ROOT_DIR, 'examples', 'report_figures', 'som_figures', 'som_embedded_bubble')\n\nfeatures_labels = [\"DSource\", \"Date\", \"Age\", \"Gender\", \"Weight\", \"Bleeding\",\n                   \"Platelets\", \"Shock\", \"Haematocrit\", \"Bleeding gum\", \"Abdominal pain\",\n                   \"Ascites\", \"Bleeding mucosal\", \"Bleeding skin\", \"Body temperature\"]\n\nfeatures = [\"dsource\",\"date\", \"age\", \"gender\", \"weight\", \"bleeding\", \"plt\",\n            \"shock\", \"haematocrit_percent\", \"bleeding_gum\", \"abdominal_pain\",\n            \"ascites\", \"bleeding_mucosal\", \"bleeding_skin\", \"body_temperature\"]\n\nlabel_mapping = dict(zip(features, features_labels))\n\ndf = load_dengue(usecols=['study_no']+features)\n\nfor feat in features:\n    df[feat] = df.groupby('study_no')[feat].ffill().bfill()\n\ndf = df.loc[df['age'] <= 18]\ndf = df.dropna()\n\ndf = df.groupby(by=\"study_no\", dropna=False).agg(\n    dsource=pd.NamedAgg(column=\"dsource\", aggfunc=\"last\"),\n    date=pd.NamedAgg(column=\"date\", aggfunc=\"last\"),\n    age=pd.NamedAgg(column=\"age\", aggfunc=\"max\"),\n    gender=pd.NamedAgg(column=\"gender\", aggfunc=\"first\"),\n    weight=pd.NamedAgg(column=\"weight\", aggfunc=np.mean),\n    bleeding=pd.NamedAgg(column=\"bleeding\", aggfunc=\"max\"),\n    plt=pd.NamedAgg(column=\"plt\", aggfunc=\"min\"),\n    shock=pd.NamedAgg(column=\"shock\", aggfunc=\"max\"),\n    haematocrit_percent=pd.NamedAgg(column=\"haematocrit_percent\", aggfunc=\"max\"),\n    bleeding_gum=pd.NamedAgg(column=\"bleeding_gum\", aggfunc=\"max\"),\n    abdominal_pain=pd.NamedAgg(column=\"abdominal_pain\", aggfunc=\"max\"),\n    ascites=pd.NamedAgg(column=\"ascites\", aggfunc=\"max\"),\n    bleeding_mucosal=pd.NamedAgg(column=\"bleeding_mucosal\", aggfunc=\"max\"),\n    bleeding_skin=pd.NamedAgg(column=\"bleeding_skin\", aggfunc=\"max\"),\n    body_temperature=pd.NamedAgg(column=\"body_temperature\", aggfunc=np.mean),\n).dropna()\n\ndf = IQR_rule(df, ['plt'])\n\nmapping = {'Female': 0, 'Male': 1}\n\ndf = df.replace({'gender': mapping})\nbefore_mapping = df.copy()\n\ninfo_feat = [\"shock\", \"bleeding\", \"bleeding_gum\", \"abdominal_pain\", \"ascites\",\n             \"bleeding_mucosal\", \"bleeding_skin\", \"gender\"]\ndata_feat = [\"age\", \"weight\", \"plt\", \"haematocrit_percent\", \"body_temperature\"]\n\n\ndata = df[data_feat]\ninfo = df[info_feat]\nscaler = preprocessing.StandardScaler().fit(data)\n\nscaled = scaler.transform(data)\n\ncolours = np.array(color_palette('pastel').as_hex())\nlabels = info['shock'].to_numpy().astype(int)"
      ]
    },
    {
      "cell_type": "markdown",
      "metadata": {},
      "source": [
        "## Cluster analysis\n\n"
      ]
    },
    {
      "cell_type": "code",
      "execution_count": null,
      "metadata": {
        "collapsed": false
      },
      "outputs": [],
      "source": [
        "fig, axes = plt.subplots(4, 4, figsize=(15, 15))\nfig.tight_layout()\naxes=axes.flatten()\nfor ax in axes:\n    sns.despine(ax=ax, left=False)\n    ax.get_xaxis().set_ticks([])\nfor i in [3,12,15]:\n    axes[i].axis('off')\n\nsom_points = pickle.load(open(SOM_POINTS_PATH, 'rb'))\n\nclusters = KMeans(n_clusters=3, random_state=SEED).fit_predict(som_points)\n\nbefore_mapping['cluster'] = clusters\n\n\n\n\nN_CLUSTERS = len(set(clusters))\ncolours = colours[:N_CLUSTERS]\n\n\nlabels = [f\"Cluster {i}\" for i in range(1,N_CLUSTERS+1)]\n\ni = 0\nfor feat in sorted(data_feat):\n    g = sns.boxplot(ax=axes[i], x=\"cluster\", y=feat,\n                     data=before_mapping, palette=\"pastel\")\n    axes[i].get_xaxis().set_ticks([])\n    axes[i].set(xlabel=label_mapping[feat], ylabel=None)\n\n    if i == 2:\n        c1 = mpatches.Patch(color=colours[0], label='Cluster 1')\n        c2 = mpatches.Patch(color=colours[1], label='Cluster 2')\n        c3 = mpatches.Patch(color=colours[2], label='Cluster 3')\n\n        axes[3].legend(handles=[c1, c2, c3], loc='center')\n        i += 1\n    i += 1\n\nfor feat in sorted(info_feat):\n    if feat != 'gender':\n        sns.barplot(ax=axes[i], x=\"cluster\", y=feat,\n                         data=before_mapping, palette=\"pastel\")\n    else:\n        sns.barplot(ax=axes[i], x=\"cluster\", y=feat,\n                         data=before_mapping, palette=\"muted\", estimator=lambda x: 1, ci=None)\n        g = sns.barplot(ax=axes[i], x=\"cluster\", y=feat,\n                         data=before_mapping, palette=\"pastel\")\n        g.text(0, 0.25, 'Male', color='black', ha=\"center\")\n        g.text(0, 0.75, 'Female', color='black', ha=\"center\")\n        g.text(1, 0.25, 'Male', color='black', ha=\"center\")\n        g.text(1, 0.75, 'Female', color='black', ha=\"center\")\n        g.text(2, 0.25, 'Male', color='black', ha=\"center\")\n        g.text(2, 0.75, 'Female', color='black', ha=\"center\")\n\n    axes[i].get_xaxis().set_ticks([])\n    axes[i].set(xlabel=label_mapping[feat], ylabel=None)\n\n    i += 1 if i != 11 else 2\n\n# fig.savefig(\"som_cluster_stats.pdf\", bbox_inches='tight')\nplt.show()"
      ]
    },
    {
      "cell_type": "markdown",
      "metadata": {},
      "source": [
        "## SOM k-means Clustering\n\n"
      ]
    },
    {
      "cell_type": "code",
      "execution_count": null,
      "metadata": {
        "collapsed": false
      },
      "outputs": [],
      "source": [
        "colours = np.array(sns.color_palette(\"pastel\", as_cmap=True))\ncolours = np.insert(colours, 0, \"#737373\")\ncolours = dict(zip(list(range(-1, len(colours) - 1)), colours))\n\nplt.figure(figsize=(15,4))\nind_list = np.random.choice(len(df.index), 5000)\nsom_points_sampled = np.take(som_points, ind_list, axis=0)\nclusters = np.take(clusters, ind_list, axis=0)\nscatter = sns.scatterplot(x=som_points_sampled[:, 0], y=som_points_sampled[:, 1],\n                          hue=clusters, palette=colours, linewidth=0,\n                          s=60)\nhandles, _  =  scatter.get_legend_handles_labels()\n\nscatter.legend(handles, labels, loc='lower right', borderpad=0.2,labelspacing=0.2)\n# plt.savefig(\"som_k_means.pdf\", bbox_inches='tight')\nplt.show()"
      ]
    },
    {
      "cell_type": "markdown",
      "metadata": {},
      "source": [
        "## SOM Sheppard Diagram\n\n"
      ]
    },
    {
      "cell_type": "code",
      "execution_count": null,
      "metadata": {
        "collapsed": false
      },
      "outputs": [],
      "source": [
        "_, fig = distance_metrics(scaled, som_points, 6000, '', verbose=False)\n# fig.savefig(\"som_sheppard.png\", bbox_inches='tight', dpi=300)\nplt.show()"
      ]
    }
  ],
  "metadata": {
    "kernelspec": {
      "display_name": "Python 3",
      "language": "python",
      "name": "python3"
    },
    "language_info": {
      "codemirror_mode": {
        "name": "ipython",
        "version": 3
      },
      "file_extension": ".py",
      "mimetype": "text/x-python",
      "name": "python",
      "nbconvert_exporter": "python",
      "pygments_lexer": "ipython3",
      "version": "3.8.5"
    }
  },
  "nbformat": 4,
  "nbformat_minor": 0
}