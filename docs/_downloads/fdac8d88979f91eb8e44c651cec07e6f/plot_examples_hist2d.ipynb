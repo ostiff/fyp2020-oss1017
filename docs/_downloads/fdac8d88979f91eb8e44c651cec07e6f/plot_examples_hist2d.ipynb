{
  "cells": [
    {
      "cell_type": "code",
      "execution_count": null,
      "metadata": {
        "collapsed": false
      },
      "outputs": [],
      "source": [
        "%matplotlib inline"
      ]
    },
    {
      "cell_type": "markdown",
      "metadata": {},
      "source": [
        "\n# KDE - Outcomes\n\nThis script is useful to explore the regions in which\neach of the clinical outcomes (e.g. shock, leakage, ...)\nare more common (higher density).\n\nNotes:\n    - The definition of the compound features can be changed.\n      For instance, to the definition of severity defined by\n      damien we have included more variables that are related.\n\n    - There are some important filtering.\n        age <= 18 => children\n        plt => exxtreme outlier\n\n    - The previously mentioned changes, affect also the\n      contour maps displayed.\n"
      ]
    },
    {
      "cell_type": "code",
      "execution_count": null,
      "metadata": {
        "collapsed": false
      },
      "outputs": [],
      "source": [
        "# Library\nimport pickle\nimport pandas as pd\nimport numpy as np\nimport matplotlib as mpl\n\n# Specific\nfrom torch.utils.data import DataLoader\nfrom sklearn.preprocessing import MinMaxScaler\n\n# Specific\nfrom pkgname.core.AE.autoencoder import get_device, set_seed\nfrom pkgname.utils.data_loader import load_dengue, IQR_rule\n\n# Local\nimport _utils\n\n\n\n# ------------------------------\n# Constants\n# ------------------------------\n# Load constants\nfeatures = _utils.features\nothers = _utils.others\nmappings = _utils.mappings\naggregation = _utils.aggregation\ncmaps = _utils.cmaps\n\n# Define outcomes\noutcomes = [\n   \"age\"\n]\n\n# Ensure all outcomes are in aggregation\nfor c in outcomes:\n    if c not in aggregation:\n        print(\"Adding... %23s | max\" % c)\n        aggregation[c] = 'max'\n\nnrows, ncols = 5, 8\n\n# ------------------------------\n# Load data\n# ------------------------------\n# Load data\ndata = _utils.load_data()\n\n# Fill empty values (be careful!)\nfor c in outcomes:\n    data[c] = data[c].fillna(0)\n\n# Filter data (age, iqr, ...)\ndata = data[data.age.between(0.0, 18.0)]\ndata = data[data.plt < 50000]\n\n# Filter outliers\ndata = IQR_rule(data, [\n    'plt',\n    #'haematocrit_percent',\n    #'body_temperature'\n])\n\n# Rename\n# .. note: Done after convert_dtypes so that\n#          it remains 0 or 1, otherwise it will\n#          be transformed to boolean feature.\n#          (its ok too).\ndata = data.replace(mappings)\n\n# Get worst state for patient\ndata = data.groupby(by=\"study_no\", dropna=False) \\\n    .agg(aggregation).dropna()\n\n# Show data\nprint(\"\\nData:\")\nprint(data)\nprint(data.dtypes)\nprint(data.index.nunique())\nprint(data[outcomes].sum().sort_values())\n\n\n# ------------------------------\n# Load Model\n# ------------------------------\n# Load model\nmodel = _utils.load_model()\n\n# Show\nprint(\"\\nModel:\")\nprint(model)\n\n# ------------------------------\n# Projections\n# ------------------------------\n# .. note: The scaling method should have also been\n#          saved when training the model.\n# Features\ndatap = data[features].copy(deep=True)\n\n# Scale first\ndatap = MinMaxScaler().fit_transform(datap)\n\n# Encode\nencoded = model.encode_inputs( \\\n    DataLoader(datap, 16, shuffle=False))\n\n# Include in original dataset\ndata[['x', 'y']] = encoded\n\n# Show\nprint(\"\\nEncoded:\")\nprint(encoded)\nprint(\"\\nData:\")\nprint(data)\n\n# -------------------------------\n# Visualization\n# -------------------------------\n# Libraries\nimport matplotlib.pyplot as plt\n\n# Gaussian kde\nfrom scipy.stats import gaussian_kde\n\n# Own\nfrom _utils import kde_mpl_compute\nfrom _utils import kde_mpl_plot\nfrom _utils import kde_mpl\n\n# Data\nx, y, z = data.x, data.y, data.plt\n\n\n# --------------------------\n# Direct plotting\n# --------------------------\n# Plot hexbin\nfig, axes = plt.subplots(ncols=3, figsize=(15, 4), sharey=True)\n\n# Plot count\nm1 = axes.flat[0].hexbin(x, y, label=c,\n    gridsize=30, cmap=cmaps.get(c, 'Reds'))\naxes.flat[0].set(title='count', aspect='equal')\nplt.colorbar(m1, ax=axes.flat[0])\n\n# Plot mean\nm2 = axes.flat[1].hexbin(x, y, C=z, label=c,\n    gridsize=30, cmap=cmaps.get(c, 'Reds'))\naxes.flat[1].set(title='mean', aspect='equal')\nplt.colorbar(m2, ax=axes.flat[1])\n\n# Create contours\nkde_mpl(x, y, weights=z, ax=axes.flat[2])\naxes.flat[2].set(title='contours (not working)', aspect='equal')\n\n# Configure\nplt.tight_layout()\n\n# --------------------------\n# Using hist2d functions\n# --------------------------\n# Create figure\nfig, (ax1, ax2, ax3, ax4) = \\\n    plt.subplots(ncols=4, figsize=(15, 3), sharey=True)\n\n# Compute count\ncounts, xbins, ybins, im1 = \\\n    ax1.hist2d(x, y, bins=(30, 30), cmap='Reds')\n\n# Compute sums\nsums, _, _, im2 = \\\n    ax2.hist2d(x, y, weights=z,\n               bins=(xbins, ybins),\n               cmap='Reds')\n\n# Compute mean\nmean = (sums / counts).T\n\n# Plot colormesh\nwith np.errstate(divide='ignore', invalid='ignore'):\n    m3 = ax3.pcolormesh(ybins, xbins,\n        mean, cmap='Reds')\n\n# .. note: We are ignoring the last bin value.\n# Plot contours\nax4.contour(xbins[:-1], ybins[:-1], mean,\n    levels=14, linewidths=0.25, alpha=0.5,\n    linestyles='dashed', colors='k')\ncntr = ax4.contourf(xbins[:-1], ybins[:-1], mean,\n    levels=14, cmap='Reds')\ncb = plt.colorbar(cntr, ax=ax4)\n\n# Plot image\n#ax5.imshow(mean, origin='lower',\n#                 aspect='auto',\n#                 cmap='Reds')\n\n# Configure\nax1.set(aspect='equal', title='counts')\nax2.set(aspect='equal', title='sum')\nax3.set(aspect='equal', title='mean (colormesh)')\nax4.set(aspect='equal', title='mean (contour)')\n#ax5.set(aspect='equal', title='mean (imshow)')\n\n# ---------------------------\n# Using histogram2d functions\n# ---------------------------\n# Compute counts\ncounts, xbins, ybins = \\\n    np.histogram2d(x, y, bins=(30, 30))\n\n# Compute sums\nsums, _, _ = \\\n    np.histogram2d(x, y, weights=z, bins=(xbins, ybins))\n\n# Compute mean\nmean = (sums / counts).T\n\n# Create figure\nfig, (ax1, ax2, ax3) = plt.subplots(ncols=3,\n    figsize=(15, 4), sharey=True)\n\n# Plot counts\nm1 = ax1.pcolormesh(xbins, ybins, counts.T, cmap='Reds')\nplt.colorbar(m1, ax=ax1)\n\n# Plot sums\nm2 = ax2.pcolormesh(xbins, ybins, sums.T, cmap='Reds')\nplt.colorbar(m2, ax=ax2)\n\n# Plot mean\nwith np.errstate(divide='ignore', invalid='ignore'):  \n    m3 = ax3.pcolormesh(xbins, ybins,\n        mean, cmap='Reds')\nplt.colorbar(m3, ax=ax3)\n\n# Configure\nax1.set(aspect='equal', title='counts')\nax2.set(aspect='equal', title='sum')\nax3.set(aspect='equal', title='mean')\n\n# Configure\nplt.tight_layout()\n\n# Show\nplt.show()"
      ]
    }
  ],
  "metadata": {
    "kernelspec": {
      "display_name": "Python 3",
      "language": "python",
      "name": "python3"
    },
    "language_info": {
      "codemirror_mode": {
        "name": "ipython",
        "version": 3
      },
      "file_extension": ".py",
      "mimetype": "text/x-python",
      "name": "python",
      "nbconvert_exporter": "python",
      "pygments_lexer": "ipython3",
      "version": "3.8.5"
    }
  },
  "nbformat": 4,
  "nbformat_minor": 0
}