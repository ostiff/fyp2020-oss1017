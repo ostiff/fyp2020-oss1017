{
  "cells": [
    {
      "cell_type": "code",
      "execution_count": null,
      "metadata": {
        "collapsed": false
      },
      "outputs": [],
      "source": [
        "%matplotlib inline"
      ]
    },
    {
      "cell_type": "markdown",
      "metadata": {},
      "source": [
        "\n# PCA for dimensionality reduction (dengue)\n\nTraining attributes: `age`, `weight`, `plt`, `haematocrit_percent`,\n`body_temperature`.\n"
      ]
    },
    {
      "cell_type": "code",
      "execution_count": null,
      "metadata": {
        "collapsed": false
      },
      "outputs": [],
      "source": [
        "import warnings\nimport pandas as pd\nimport numpy as np\nfrom sklearn.cluster import KMeans\nfrom sklearn.model_selection import train_test_split\nfrom sklearn import preprocessing\nfrom sklearn.decomposition import PCA\nimport matplotlib.pyplot as plt\nfrom matplotlib.colors import ListedColormap\nfrom tableone import TableOne\n\nfrom pkgname.core.AE.autoencoder import set_seed\nfrom pkgname.utils.data_loader import load_dengue, IQR_rule\nfrom pkgname.utils.plot_utils import plotBox, formatTable, colours\nfrom pkgname.utils.log_utils import Logger\n\nimport pkgname.core.evaluation.dr_evaluation as dr_evaluation\n\nlogger = Logger('PCA_Dengue', enable=False)\nSEED = 0\nN_CLUSTERS = 3\n\n# Set seed\nset_seed(SEED)\n\nfeatures = [\"dsource\",\"date\", \"age\", \"gender\", \"weight\", \"bleeding\", \"plt\",\n            \"shock\", \"haematocrit_percent\", \"bleeding_gum\", \"abdominal_pain\",\n            \"ascites\", \"bleeding_mucosal\", \"bleeding_skin\", \"body_temperature\"]\n\ndf = load_dengue(usecols=['study_no']+features)\n\nfor feat in features:\n    df[feat] = df.groupby('study_no')[feat].ffill().bfill()\n\ndf = df.loc[df['age'] <= 18]\ndf = df.dropna()\n\ndf = df.groupby(by=\"study_no\", dropna=False).agg(\n    dsource=pd.NamedAgg(column=\"dsource\", aggfunc=\"last\"),\n    date=pd.NamedAgg(column=\"date\", aggfunc=\"last\"),\n    age=pd.NamedAgg(column=\"age\", aggfunc=\"max\"),\n    gender=pd.NamedAgg(column=\"gender\", aggfunc=\"first\"),\n    weight=pd.NamedAgg(column=\"weight\", aggfunc=np.mean),\n    bleeding=pd.NamedAgg(column=\"bleeding\", aggfunc=\"max\"),\n    plt=pd.NamedAgg(column=\"plt\", aggfunc=\"min\"),\n    shock=pd.NamedAgg(column=\"shock\", aggfunc=\"max\"),\n    haematocrit_percent=pd.NamedAgg(column=\"haematocrit_percent\", aggfunc=\"max\"),\n    bleeding_gum=pd.NamedAgg(column=\"bleeding_gum\", aggfunc=\"max\"),\n    abdominal_pain=pd.NamedAgg(column=\"abdominal_pain\", aggfunc=\"max\"),\n    ascites=pd.NamedAgg(column=\"ascites\", aggfunc=\"max\"),\n    bleeding_mucosal=pd.NamedAgg(column=\"bleeding_mucosal\", aggfunc=\"max\"),\n    bleeding_skin=pd.NamedAgg(column=\"bleeding_skin\", aggfunc=\"max\"),\n    body_temperature=pd.NamedAgg(column=\"body_temperature\", aggfunc=np.mean),\n).dropna()\n\ndf = IQR_rule(df, ['plt'])\n\nmapping = {'Female': 0, 'Male': 1}\ndf = df.replace({'gender': mapping})\n\ninfo_feat = [\"dsource\", \"shock\", \"bleeding\", \"bleeding_gum\", \"abdominal_pain\", \"ascites\",\n           \"bleeding_mucosal\", \"bleeding_skin\", \"gender\"]\ndata_feat = [\"age\", \"weight\", \"plt\", \"haematocrit_percent\", \"body_temperature\"]\n\n\ntrain, test = train_test_split(df, test_size=0.2, random_state=SEED)\n\ntrain_data = train[data_feat]\ntest_data = test[data_feat]\ntrain_info = train[info_feat]\ntest_info = test[info_feat]\n\nscaler = preprocessing.StandardScaler().fit(train_data)\n\ntrain_scaled = scaler.transform(train_data.to_numpy())\ntest_scaled = scaler.transform(test_data.to_numpy())\n\npca = PCA(n_components=2).fit(train_scaled)\nencoded_test = pca.transform(test_scaled)\nencoded_train = pca.transform(train_scaled)\n\n# Percentage of variance explained for each components\nprint('explained variance ratio (first two components): %s'\n      % str(pca.explained_variance_ratio_))\n\n\n# Evaluate dimensionality reduction\n# Distance metrics\nres, fig = dr_evaluation.distance_metrics(train_scaled, encoded_train, n_points=1000, method_name='PCA', verbose=True)\nlogger.add_plt(plt.gcf(), ext='png')\nplt.show()\nlogger.add_parameters(res)\n\n# Density metrics\nres, fig = dr_evaluation.density_metrics(train_info, encoded_train, [\"shock\", \"bleeding\", \"bleeding_gum\", \"abdominal_pain\", \"ascites\",\n           \"bleeding_mucosal\", \"bleeding_skin\"], 'PCA')\nlogger.add_plt(plt.gcf(), ext='png')\nplt.show()\nlogger.add_parameters(res)\n\n\n# ----------\n# Clustering\n# ----------\n\ncolours = colours[:N_CLUSTERS]"
      ]
    },
    {
      "cell_type": "code",
      "execution_count": null,
      "metadata": {
        "collapsed": false
      },
      "outputs": [],
      "source": [
        "clusters_test = KMeans(n_clusters=N_CLUSTERS, random_state=SEED).fit_predict(encoded_test)\nclusters_train = KMeans(n_clusters=N_CLUSTERS, random_state=SEED).fit_predict(encoded_train)\n\nlabels = [f\"Cluster {i}\" for i in range(N_CLUSTERS)]\n\nscatter = plt.scatter(encoded_test[:, 0], encoded_test[:, 1], c=clusters_test, cmap=ListedColormap(colours))\nplt.legend(handles=scatter.legend_elements()[0], labels=labels)\nplt.title('k-means (testing data)')\nlogger.add_plt(plt.gcf())\nplt.show()"
      ]
    },
    {
      "cell_type": "code",
      "execution_count": null,
      "metadata": {
        "collapsed": false
      },
      "outputs": [],
      "source": [
        "scatter = plt.scatter(encoded_train[:, 0], encoded_train[:, 1], c=clusters_train, cmap=ListedColormap(colours))\nplt.legend(handles=scatter.legend_elements()[0], labels=labels)\nplt.title('k-means (training data)')\nlogger.add_plt(plt.gcf())\nplt.show()"
      ]
    },
    {
      "cell_type": "code",
      "execution_count": null,
      "metadata": {
        "collapsed": false
      },
      "outputs": [],
      "source": [
        "# Table\nwith warnings.catch_warnings():\n    warnings.simplefilter(\"ignore\")\n\n    mapping = {0: 'Female', 1: 'Male'}\n    table_df = test.replace({'gender': mapping})\n\n    table_df['cluster'] = clusters_test\n\ncolumns = info_feat+data_feat\nnonnormal = list(table_df[columns].select_dtypes(include='number').columns)\ncategorical = list(set(columns).difference(set(nonnormal)))\ncolumns = sorted(categorical) + sorted(nonnormal)\n\nrename = {'haematocrit_percent': 'hct',\n          'body_temperature': 'temperature'}\n\ntable = TableOne(table_df, columns=columns, categorical=categorical, nonnormal=nonnormal,\n                 groupby='cluster', rename=rename, missing=False)\n\nhtml = formatTable(table, colours, labels)\nlogger.append_html(html.render())\nhtml"
      ]
    },
    {
      "cell_type": "code",
      "execution_count": null,
      "metadata": {
        "collapsed": false
      },
      "outputs": [],
      "source": [
        "fig, html = plotBox(data=train_info,\n                    features=info_feat,\n                    clusters=clusters_train,\n                    colours=colours,\n                    title=\"Attributes not used in training\",\n                    )\nlogger.append_html(html)\nfig"
      ]
    },
    {
      "cell_type": "code",
      "execution_count": null,
      "metadata": {
        "collapsed": false
      },
      "outputs": [],
      "source": [
        "fig, html = plotBox(data=train_data,\n                    features=data_feat,\n                    clusters=clusters_train,\n                    colours=colours,\n                    title=\"Attributes used in training\",\n                    )\nlogger.append_html(html)\nfig"
      ]
    },
    {
      "cell_type": "markdown",
      "metadata": {},
      "source": [
        "## Logging\n\n"
      ]
    },
    {
      "cell_type": "code",
      "execution_count": null,
      "metadata": {
        "collapsed": false
      },
      "outputs": [],
      "source": [
        "# Log parameters\nlogger.save_parameters(\n    {\n        'SEED': SEED,\n        'N_CLUSTERS': N_CLUSTERS,\n        'features': features,\n        'info_feat': info_feat,\n        'data_feat': data_feat\n    }\n)\n\nlogger.create_report()"
      ]
    }
  ],
  "metadata": {
    "kernelspec": {
      "display_name": "Python 3",
      "language": "python",
      "name": "python3"
    },
    "language_info": {
      "codemirror_mode": {
        "name": "ipython",
        "version": 3
      },
      "file_extension": ".py",
      "mimetype": "text/x-python",
      "name": "python",
      "nbconvert_exporter": "python",
      "pygments_lexer": "ipython3",
      "version": "3.8.5"
    }
  },
  "nbformat": 4,
  "nbformat_minor": 0
}