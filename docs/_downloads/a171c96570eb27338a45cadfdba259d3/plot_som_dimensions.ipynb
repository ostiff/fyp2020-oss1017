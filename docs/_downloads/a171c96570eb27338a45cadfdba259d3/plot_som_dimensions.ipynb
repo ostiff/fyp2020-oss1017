{
  "cells": [
    {
      "cell_type": "code",
      "execution_count": null,
      "metadata": {
        "collapsed": false
      },
      "outputs": [],
      "source": [
        "%matplotlib inline"
      ]
    },
    {
      "cell_type": "markdown",
      "metadata": {},
      "source": [
        "\n# SOM dimension analysis\n\nResults of analysis of SOM dimensions on metrics.\n"
      ]
    },
    {
      "cell_type": "code",
      "execution_count": null,
      "metadata": {
        "collapsed": false
      },
      "outputs": [],
      "source": [
        "import os\nimport sys\nimport pandas as pd\nimport seaborn as sns\nimport matplotlib as mpl\nimport matplotlib.pyplot as plt\n\n\nsys.path.insert(0, os.path.abspath('.'))\n\n# mpl.use(\"pgf\")\n# mpl.rcParams.update({\n#     \"pgf.texsystem\": \"pdflatex\",\n#     'font.family': 'serif',\n#     'text.usetex': True,\n#     'font.size': 18,\n# })\n\n\nmpl.rcParams.update({\n    'font.family': 'serif',\n    'font.weight': 'light',\n    'font.size': 16,\n})\n\nNUM_NODE_DATA = {\n    'n_nodes': [100,169,225,324,400,625,900,1225,1600,2025,2500],\n    'gmm': [0.646658546977072,0.796442496790773,0.720634757044514,0.7738323743976,0.794637531209736,0.400484080730981,0.368259754484194,0.789911646195414,0.377878322923894,0.572371246513618,0.682202543544116],\n    'convex': [0.835294117647058,0.852842809364548,0.814814814814814,0.848484848484848,0.818918918918919,0.794893617021276,0.848538011695906,0.810234541577825,0.689935064935065,0.862324393358876,0.875051546391752],\n    'concave': [0.401234567901234,0.395833333333333,0.841836734693877,0.366782006920415,0.839335180055401,0.810763888888889,0.321046373365041,0.821799307958477,0.699934123847167,0.875973015049299,0.89047419219471],\n    'correlation': [0.662109264610594,0.648898339468736,0.712307268055736,0.69686501138573,0.71459235011473,0.604920069781044,0.572365709607443,0.59152617294072,0.559749099934296,0.638488789338168,0.61715772098528],\n    'procrustes': [0.458880684449899,0.466436354803268,0.433866850163302,0.45573989009054,0.445057222226785,0.53203055094161,0.555853784051347,0.515464678685324,0.572550426501338,0.516550232581764,0.543472600943776]\n}\n\nSIDES_RATIO_DATA = {\n    'ratio': [1,2,3,4.33441144608176,5,5.5,6,6.5,7,0.5,0.75],\n    'gmm': [0.406373378996569,0.463352068506144,0.373715273515916,0.3215775114413,0.325909432617165,0.481508449464127,0.397243867424433,0.50556142976656,0.447864767205106,0.471113765549755,0.490774512047504]\n}"
      ]
    },
    {
      "cell_type": "markdown",
      "metadata": {},
      "source": [
        "## Number of nodes impact on distance metrics\n\n"
      ]
    },
    {
      "cell_type": "code",
      "execution_count": null,
      "metadata": {
        "collapsed": false
      },
      "outputs": [],
      "source": [
        "df = pd.DataFrame(data=NUM_NODE_DATA)\n\n\nplt.figure()\nsns.lineplot(data=df, x=\"n_nodes\", y=\"correlation\", label=\"Pearson correlation\")\nsns.lineplot(data=df, x=\"n_nodes\", y=\"procrustes\", label=\"Procrustes disparity\")\nplt.legend()\nplt.xlabel(\"Number of nodes\")\nplt.ylabel(\"Metric value\")\nplt.axvline(602, 0, 1, c='r', ls='--')\n# plt.savefig(\"som_n_nodes_dist.pdf\", bbox_inches='tight')\nplt.show()"
      ]
    },
    {
      "cell_type": "markdown",
      "metadata": {},
      "source": [
        "## Impact of ratio of sides on density metrics\n\n"
      ]
    },
    {
      "cell_type": "code",
      "execution_count": null,
      "metadata": {
        "collapsed": false
      },
      "outputs": [],
      "source": [
        "df = pd.DataFrame(data=SIDES_RATIO_DATA)\n\n\nplt.figure()\nsns.lineplot(data=df, x=\"ratio\", y=\"gmm\", label=\"GMM ratio\")\nplt.legend()\nplt.xlabel(\"Ratio of sides ($X / Y$)\")\nplt.ylabel(\"Metric result\")\nplt.axvline(4.334411446, 0, 1, c='r', ls='--')\n# plt.savefig(\"som_ratio_density.pdf\", bbox_inches='tight')\nplt.show()"
      ]
    }
  ],
  "metadata": {
    "kernelspec": {
      "display_name": "Python 3",
      "language": "python",
      "name": "python3"
    },
    "language_info": {
      "codemirror_mode": {
        "name": "ipython",
        "version": 3
      },
      "file_extension": ".py",
      "mimetype": "text/x-python",
      "name": "python",
      "nbconvert_exporter": "python",
      "pygments_lexer": "ipython3",
      "version": "3.8.5"
    }
  },
  "nbformat": 4,
  "nbformat_minor": 0
}