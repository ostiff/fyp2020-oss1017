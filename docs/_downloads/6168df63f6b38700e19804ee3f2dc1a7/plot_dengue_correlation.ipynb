{
  "cells": [
    {
      "cell_type": "code",
      "execution_count": null,
      "metadata": {
        "collapsed": false
      },
      "outputs": [],
      "source": [
        "%matplotlib inline"
      ]
    },
    {
      "cell_type": "markdown",
      "metadata": {},
      "source": [
        "\n# Dengue dataset feature correlation\n\n.. todo:: Add (boolean, boolean) correlation\n.. todo:: Add (categorical, boolean/number) correlation\n"
      ]
    },
    {
      "cell_type": "code",
      "execution_count": null,
      "metadata": {
        "collapsed": false
      },
      "outputs": [],
      "source": [
        "import pandas as pd\nimport numpy as np\nimport seaborn as sns\nimport matplotlib.pyplot as plt\nfrom scipy.stats import pointbiserialr\nfrom pkgname.utils.data_loader import load_dengue\n\nfeatures = [\"dsource\", \"age\", \"gender\", \"weight\", \"bleeding\", \"plt\",\n            \"shock\", \"haematocrit_percent\", \"bleeding_gum\", \"abdominal_pain\",\n            \"ascites\", \"bleeding_mucosal\", \"bleeding_skin\", \"body_temperature\"]\n\ndf = load_dengue(usecols=['study_no']+features)\n\nfor feat in features:\n    df[feat] = df.groupby('study_no')[feat].ffill().bfill()\n\ndf = df.loc[df['age'] <= 18]\ndf = df.dropna()\n\ndf = df.groupby(by=\"study_no\", dropna=False).agg(\n    dsource=pd.NamedAgg(column=\"dsource\", aggfunc=\"last\"),\n    age=pd.NamedAgg(column=\"age\", aggfunc=\"max\"),\n    gender=pd.NamedAgg(column=\"gender\", aggfunc=\"first\"),\n    weight=pd.NamedAgg(column=\"weight\", aggfunc=np.mean),\n    bleeding=pd.NamedAgg(column=\"bleeding\", aggfunc=\"max\"),\n    plt=pd.NamedAgg(column=\"plt\", aggfunc=\"min\"),\n    shock=pd.NamedAgg(column=\"shock\", aggfunc=\"max\"),\n    haematocrit_percent=pd.NamedAgg(column=\"haematocrit_percent\", aggfunc=\"max\"),\n    bleeding_gum=pd.NamedAgg(column=\"bleeding_gum\", aggfunc=\"max\"),\n    abdominal_pain=pd.NamedAgg(column=\"abdominal_pain\", aggfunc=\"max\"),\n    ascites=pd.NamedAgg(column=\"ascites\", aggfunc=\"max\"),\n    bleeding_mucosal=pd.NamedAgg(column=\"bleeding_mucosal\", aggfunc=\"max\"),\n    bleeding_skin=pd.NamedAgg(column=\"bleeding_skin\", aggfunc=\"max\"),\n    body_temperature=pd.NamedAgg(column=\"body_temperature\", aggfunc=np.mean),\n).dropna()\n\nmapping = {'Female': True, 'Male': False}\nrename_mapping = {'gender': 'female',\n                  'haematocrit_percent': 'hct',\n                  'body_temperature': 'b_temp'}\ndf = df.replace({'gender': mapping}).rename(columns=rename_mapping)\n\nnumerical = list(df.select_dtypes(include='number').columns)\nboolean = list(df.select_dtypes(include='bool').columns)\ncategorical = list(df.select_dtypes(exclude=['bool', 'number']).columns)\ncolumns = sorted(numerical) + sorted(boolean) + sorted(categorical)"
      ]
    },
    {
      "cell_type": "markdown",
      "metadata": {},
      "source": [
        "## Continuous features\n\nPearson correlation between continuous variables.\n\n"
      ]
    },
    {
      "cell_type": "code",
      "execution_count": null,
      "metadata": {
        "collapsed": false
      },
      "outputs": [],
      "source": [
        "corr = df[numerical].corr()\nmask = np.triu(np.ones_like(corr, dtype=bool))\nsns.heatmap(corr, mask=mask, square=True)\n\nplt.show()"
      ]
    },
    {
      "cell_type": "markdown",
      "metadata": {},
      "source": [
        "## Boolean features\n\nPoint biserial correlation coefficient between boolean and\ncontinuous features\n\n"
      ]
    },
    {
      "cell_type": "code",
      "execution_count": null,
      "metadata": {
        "collapsed": false
      },
      "outputs": [],
      "source": [
        "corr_data = [[pointbiserialr(df[feat_a], df[feat_b])[0]\n              for feat_b in numerical] for feat_a in boolean]\n\ncorr = pd.DataFrame(data=corr_data, columns=numerical, index=boolean)\nsns.heatmap(corr)\n\nplt.show()"
      ]
    },
    {
      "cell_type": "markdown",
      "metadata": {},
      "source": [
        "Correlation coefficients between boolean features\n\n"
      ]
    },
    {
      "cell_type": "markdown",
      "metadata": {},
      "source": [
        "## Categorical features\n\nX coefficient between categorical and other features\n\n"
      ]
    }
  ],
  "metadata": {
    "kernelspec": {
      "display_name": "Python 3",
      "language": "python",
      "name": "python3"
    },
    "language_info": {
      "codemirror_mode": {
        "name": "ipython",
        "version": 3
      },
      "file_extension": ".py",
      "mimetype": "text/x-python",
      "name": "python",
      "nbconvert_exporter": "python",
      "pygments_lexer": "ipython3",
      "version": "3.8.5"
    }
  },
  "nbformat": 4,
  "nbformat_minor": 0
}