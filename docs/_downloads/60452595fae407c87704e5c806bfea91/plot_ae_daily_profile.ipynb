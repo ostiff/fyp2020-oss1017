{
  "cells": [
    {
      "cell_type": "code",
      "execution_count": null,
      "metadata": {
        "collapsed": false
      },
      "outputs": [],
      "source": [
        "%matplotlib inline"
      ]
    },
    {
      "cell_type": "markdown",
      "metadata": {},
      "source": [
        "\n# Simple autoencoder for pathology data clustering\n\nTraining attributes: FBC panel\n\nAttributes used in cluster comparison: ...\n"
      ]
    },
    {
      "cell_type": "code",
      "execution_count": null,
      "metadata": {
        "collapsed": false
      },
      "outputs": [],
      "source": [
        "import warnings\nimport pandas as pd\nimport numpy as np\nimport torch\nfrom torch.utils.data import DataLoader\nfrom sklearn.model_selection import train_test_split\nfrom sklearn import preprocessing\nfrom sklearn.cluster import KMeans\nimport matplotlib.pyplot as plt\nfrom matplotlib.colors import ListedColormap\nfrom tableone import TableOne\n\nfrom pkgname.core.AE.autoencoder import Autoencoder, train_autoencoder, plot_autoencoder_loss, get_device, set_seed\nfrom pkgname.utils.data_loader import load_pathology\nfrom pkgname.utils.plot_utils import plotBox, formatTable, colours\nfrom pkgname.utils.log_utils import Logger\n\nlogger = Logger('AE_Pathology', enable=True, compress=False)\n\nSEED = 0\nN_CLUSTERS = 3\n\n# Set seed\nset_seed(SEED)\n\n# Get device\ndevice = get_device(usegpu=False)\n\nnum_epochs = 100\nlearning_rate = 0.00005\nbatch_size = 16\nlatent_dim = 2\n\n\ndf = load_pathology(usedefault=True, dropna=True)\ndel df[\"_uid\"]\ndel df[\"dateResult\"]\ninfo_feat = [\"GenderID\", \"patient_age\", \"covid_confirmed\"]\ndata_feat = [\"EOS\", \"MONO\", \"BASO\", \"NEUT\",\n             \"RBC\", \"WBC\", \"MCHC\", \"MCV\",\n             \"LY\", \"HCT\", \"RDW\", \"HGB\",\n             \"MCH\", \"PLT\", \"MPV\", \"NRBCA\"]\n\n\ntrain, test = train_test_split(df, test_size=0.2, random_state=SEED)\n\ntrain_data = train[data_feat]\ntest_data = test[data_feat]\ntrain_info = train[info_feat]\ntest_info = test[info_feat]\n\nscaler = preprocessing.MinMaxScaler().fit(train_data)\n\ntrain_scaled = scaler.transform(train_data.to_numpy())\ntest_scaled = scaler.transform(test_data.to_numpy())\n\nloader_train = DataLoader(train_scaled, batch_size, shuffle=True)\nloader_test = DataLoader(test_scaled, batch_size, shuffle=False)\n\n\n# Additional parameters\ninput_size = len(data_feat)\nlayers=[10,4]\nmodel = Autoencoder(input_size=input_size,\n                    layers=layers,\n                    latent_dim=latent_dim,\n                    device=device).to(device)\n\n# Optimizer\noptimizer = torch.optim.Adam(model.parameters(), lr=learning_rate)\n\n# Train\nlosses = train_autoencoder(model, optimizer, loader_train, loader_test, num_epochs)\n\n# Save model\nlogger.save_object(model)\n\n# Plot losses\nplot = plot_autoencoder_loss(losses, show=True, printout=False)\nlogger.add_plt(plot)"
      ]
    },
    {
      "cell_type": "code",
      "execution_count": null,
      "metadata": {
        "collapsed": false
      },
      "outputs": [],
      "source": [
        "colours = colours[:N_CLUSTERS]\n\n# Encode test set and plot in 2D (assumes latent_dim = 2)\nencoded_test = model.encode_inputs(loader_test)\nplt.scatter(encoded_test[:, 0], encoded_test[:, 1], c=test_info['covid_confirmed'])\nlogger.add_plt(plt.gcf())\nplt.show()\n\n\n# Perform clustering on encoded inputs\ncluster = KMeans(n_clusters=N_CLUSTERS, random_state=SEED).fit_predict(encoded_test)\n\nlabels = [f\"Cluster {i}\" for i in range(N_CLUSTERS)]\n\nscatter = plt.scatter(encoded_test[:, 0], encoded_test[:, 1], c=cluster, cmap=ListedColormap(colours))\nplt.legend(handles=scatter.legend_elements()[0], labels=labels)\nlogger.add_plt(plt.gcf())\nplt.show()"
      ]
    },
    {
      "cell_type": "code",
      "execution_count": null,
      "metadata": {
        "collapsed": false
      },
      "outputs": [],
      "source": [
        "# Table\nwith warnings.catch_warnings():\n    test['cluster'] = cluster\n\ncolumns = info_feat+data_feat\nnonnormal = list(test[columns].select_dtypes(include='number').columns)\nnonnormal.remove('GenderID')\ncategorical = list(set(columns).difference(set(nonnormal)))\ncolumns = sorted(categorical) + sorted(nonnormal)\n\n\n\ntable = TableOne(test, columns=columns, categorical=categorical, nonnormal=nonnormal,\n                 groupby='cluster', missing=False)\n\nhtml = formatTable(table, colours, labels)\nlogger.append_html(html.render())\nhtml"
      ]
    },
    {
      "cell_type": "code",
      "execution_count": null,
      "metadata": {
        "collapsed": false
      },
      "outputs": [],
      "source": [
        "fig, html = plotBox(data=test_info,\n                    features=info_feat,\n                    clusters=cluster,\n                    colours=colours,\n                    title=\"Attributes not used in training\",\n                    )\nlogger.append_html(html)\nfig"
      ]
    },
    {
      "cell_type": "code",
      "execution_count": null,
      "metadata": {
        "collapsed": false
      },
      "outputs": [],
      "source": [
        "fig, html = plotBox(data=test_data,\n                    features=data_feat,\n                    clusters=cluster,\n                    colours=colours,\n                    title=\"Attributes used in training\",\n                    )\nlogger.append_html(html)\nfig"
      ]
    },
    {
      "cell_type": "markdown",
      "metadata": {},
      "source": [
        "## Logging\n\n"
      ]
    },
    {
      "cell_type": "code",
      "execution_count": null,
      "metadata": {
        "collapsed": false
      },
      "outputs": [],
      "source": [
        "# Log parameters\nlogger.save_parameters(\n    {\n        'SEED': SEED,\n        'N_CLUSTERS': N_CLUSTERS,\n        'device': str(device),\n        'num_epochs': num_epochs,\n        'learning_rate': learning_rate,\n        'batch_size': batch_size,\n        'latent_dim': latent_dim,\n        'input_size':input_size,\n        'layers':layers,\n        'info_feat': info_feat,\n        'data_feat': data_feat\n    }\n)\n\nlogger.create_report()"
      ]
    }
  ],
  "metadata": {
    "kernelspec": {
      "display_name": "Python 3",
      "language": "python",
      "name": "python3"
    },
    "language_info": {
      "codemirror_mode": {
        "name": "ipython",
        "version": 3
      },
      "file_extension": ".py",
      "mimetype": "text/x-python",
      "name": "python",
      "nbconvert_exporter": "python",
      "pygments_lexer": "ipython3",
      "version": "3.8.5"
    }
  },
  "nbformat": 4,
  "nbformat_minor": 0
}