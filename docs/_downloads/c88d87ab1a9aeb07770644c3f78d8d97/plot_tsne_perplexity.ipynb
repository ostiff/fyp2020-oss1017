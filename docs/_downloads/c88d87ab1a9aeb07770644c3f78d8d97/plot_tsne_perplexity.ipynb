{
  "cells": [
    {
      "cell_type": "code",
      "execution_count": null,
      "metadata": {
        "collapsed": false
      },
      "outputs": [],
      "source": [
        "%matplotlib inline"
      ]
    },
    {
      "cell_type": "markdown",
      "metadata": {},
      "source": [
        "\n# Effect of perplexity on t-SNE results\n"
      ]
    },
    {
      "cell_type": "code",
      "execution_count": null,
      "metadata": {
        "collapsed": false
      },
      "outputs": [],
      "source": [
        "import os\nimport sys\nimport pickle\nimport pandas as pd\nimport numpy as np\nimport seaborn as sns\nfrom seaborn import color_palette\n\nimport matplotlib as mpl\nimport matplotlib.pyplot as plt\nfrom sklearn import preprocessing\nfrom pkgname.utils.data_loader import load_dengue, IQR_rule\nfrom definitions import ROOT_DIR\n\nsys.path.insert(0, os.path.abspath('.'))\n\n# mpl.use(\"pgf\")\nmpl.rcParams.update({\n    # \"pgf.texsystem\": \"pdflatex\",\n    'font.family': 'serif',\n    # 'text.usetex': True,\n    'font.size': 18,\n})\n\nN_points = 2000\nSEED = 0\nnp.random.seed(SEED)\n\nTSNE_POINTS_PATH = os.path.join(ROOT_DIR, 'examples', 'report_figures', 'tsne_figures')\n\n\nfeatures = [\"dsource\",\"date\", \"age\", \"gender\", \"weight\", \"bleeding\", \"plt\",\n            \"shock\", \"haematocrit_percent\", \"bleeding_gum\", \"abdominal_pain\",\n            \"ascites\", \"bleeding_mucosal\", \"bleeding_skin\", \"body_temperature\"]\n\ndf = load_dengue(usecols=['study_no']+features)\n\nfor feat in features:\n    df[feat] = df.groupby('study_no')[feat].ffill().bfill()\n\ndf = df.loc[df['age'] <= 18]\ndf = df.dropna()\n\ndf = df.groupby(by=\"study_no\", dropna=False).agg(\n    dsource=pd.NamedAgg(column=\"dsource\", aggfunc=\"last\"),\n    date=pd.NamedAgg(column=\"date\", aggfunc=\"last\"),\n    age=pd.NamedAgg(column=\"age\", aggfunc=\"max\"),\n    gender=pd.NamedAgg(column=\"gender\", aggfunc=\"first\"),\n    weight=pd.NamedAgg(column=\"weight\", aggfunc=np.mean),\n    bleeding=pd.NamedAgg(column=\"bleeding\", aggfunc=\"max\"),\n    plt=pd.NamedAgg(column=\"plt\", aggfunc=\"min\"),\n    shock=pd.NamedAgg(column=\"shock\", aggfunc=\"max\"),\n    haematocrit_percent=pd.NamedAgg(column=\"haematocrit_percent\", aggfunc=\"max\"),\n    bleeding_gum=pd.NamedAgg(column=\"bleeding_gum\", aggfunc=\"max\"),\n    abdominal_pain=pd.NamedAgg(column=\"abdominal_pain\", aggfunc=\"max\"),\n    ascites=pd.NamedAgg(column=\"ascites\", aggfunc=\"max\"),\n    bleeding_mucosal=pd.NamedAgg(column=\"bleeding_mucosal\", aggfunc=\"max\"),\n    bleeding_skin=pd.NamedAgg(column=\"bleeding_skin\", aggfunc=\"max\"),\n    body_temperature=pd.NamedAgg(column=\"body_temperature\", aggfunc=np.mean),\n).dropna()\n\ndf = IQR_rule(df, ['plt'])\n\nmapping = {'Female': 0, 'Male': 1}\nbefore_mapping = df.copy()\n\ndf = df.replace({'gender': mapping})\n\ninfo_feat = [\"shock\", \"bleeding\", \"bleeding_gum\", \"abdominal_pain\", \"ascites\",\n             \"bleeding_mucosal\", \"bleeding_skin\", \"gender\"]\ndata_feat = [\"age\", \"weight\", \"plt\", \"haematocrit_percent\", \"body_temperature\"]\n\n# Points to sample\nind_list = np.random.choice(len(df.index), N_points)\ndf = df.iloc[ind_list]\n\ninfo = df[info_feat]\ndata = df[data_feat]\n\nscaler = preprocessing.StandardScaler().fit(data)\n\n\n\ndata = df[data_feat]\ninfo = df[info_feat]\n\nscaled = scaler.transform(data)\n\n# colours = np.array(color_palette('viridis', 2).as_hex())\nlabels = info['shock'].to_numpy().astype(int)"
      ]
    },
    {
      "cell_type": "markdown",
      "metadata": {},
      "source": [
        "## t-SNE\n\n"
      ]
    },
    {
      "cell_type": "code",
      "execution_count": null,
      "metadata": {
        "collapsed": false
      },
      "outputs": [],
      "source": [
        "paths = [(os.path.join(TSNE_POINTS_PATH, 'perp_5'), '5'),\n         (os.path.join(TSNE_POINTS_PATH, 'perp_40'), '40'),\n         (os.path.join(TSNE_POINTS_PATH, 'perp_200'), '200'),]\n\n\nfig, axes = plt.subplots(1, 3, figsize=(15, 5))\nfor ax in axes:\n    ax.set(aspect='equal')\n    ax.set(xlim=(-120, 120), ylim=(-120, 120))\n\n\nfor i, (path, perp) in enumerate(paths):\n    colours = np.array(color_palette('pastel').as_hex())\n    colours = dict(zip(list(range(len(colours))), colours))\n\n    tsne_points = np.take(pickle.load(open(path, 'rb')), ind_list, axis=0)\n\n    sns.scatterplot(ax=axes[i], x=tsne_points[:,0], y=tsne_points[:,1],\n                    hue=info['shock'], palette=colours, linewidth=0, s=15, legend=(i==2))\n    axes[i].set_title(f'Perplexity: {perp}')\n\nplt.legend(title='Shock', loc='upper right',borderpad=0.2,labelspacing=0.2)\n# fig.savefig(\"tsne_diff_perp.pdf\", bbox_inches='tight')\nplt.show()"
      ]
    }
  ],
  "metadata": {
    "kernelspec": {
      "display_name": "Python 3",
      "language": "python",
      "name": "python3"
    },
    "language_info": {
      "codemirror_mode": {
        "name": "ipython",
        "version": 3
      },
      "file_extension": ".py",
      "mimetype": "text/x-python",
      "name": "python",
      "nbconvert_exporter": "python",
      "pygments_lexer": "ipython3",
      "version": "3.8.5"
    }
  },
  "nbformat": 4,
  "nbformat_minor": 0
}