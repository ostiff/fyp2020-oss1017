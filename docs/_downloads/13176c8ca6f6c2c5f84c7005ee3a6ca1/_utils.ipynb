{
  "cells": [
    {
      "cell_type": "code",
      "execution_count": null,
      "metadata": {
        "collapsed": false
      },
      "outputs": [],
      "source": [
        "%matplotlib inline"
      ]
    },
    {
      "cell_type": "markdown",
      "metadata": {},
      "source": [
        "\n# Utils\n"
      ]
    },
    {
      "cell_type": "code",
      "execution_count": null,
      "metadata": {
        "collapsed": false
      },
      "outputs": [],
      "source": [
        "# Libraries\nimport pickle\nimport pandas as pd\nimport numpy as np\nimport matplotlib as mpl\nimport matplotlib.pyplot as plt\n\n# Specific\nfrom scipy.stats import gaussian_kde\n\n\n# ----------------------------\n# set basic configuration\n# ----------------------------\n# Matplotlib options\nmpl.rc('font', size=8)\nmpl.rc('legend', fontsize=6)\nmpl.rc('xtick', labelsize=6)\nmpl.rc('ytick', labelsize=6)\n\n# Set pandas configuration.\npd.set_option('display.max_colwidth', 14)\npd.set_option('display.width', 150)\npd.set_option('display.precision', 4)\n\n# ------------------------------\n# Constants\n# ------------------------------\nfeatures = [\n    \"age\",\n    \"weight\",\n    \"plt\",\n    \"haematocrit_percent\",\n    \"body_temperature\"\n]\n\noutcomes = [\n    \"severe\",\n    \"warning\",\n    \"mild\"]\n\nothers = [\n    'study_no',\n    'dsource',\n    'date'\n]\n\nmappings = {\n    'gender': {\n        'Female': 0,\n        'Male': 1\n    }\n}\n\naggregation = {\n    'dsource': 'last',\n    'age': 'max',\n    'weight': 'mean',\n    'plt': 'min',\n    'haematocrit_percent': 'max',\n    'body_temperature': 'mean',\n    'gender': 'first',\n    'date': 'last',\n    'shock': 'max'\n}\n\ncmaps = {\n    'severe': 'Reds',\n    'warning': 'Oranges',\n    'mild': 'Blues'\n}\n\n\ndef_data = 'resources/datasets/combined_tidy_v0.0.10.csv'\ndef_model = 'resources/models/ae_sig_3'\n\n# ------------------------------\n# Methods\n# ------------------------------\ndef load_data(path=def_data):\n    \"\"\"Load dataset\"\"\"\n    return pd.read_csv(path,\n        parse_dates=['date'])\n\ndef load_model(path=def_model):\n    \"\"\"Load model\"\"\"\n    return pickle.load(open(path, 'rb'))\n\ndef kde_mpl_compute(x, y, xlim=None, ylim=None, **kwargs):\n    \"\"\"Computes the gaussian kde.\n\n    Parameters\n    ----------\n\n    Returns\n    -------\n    \"\"\"\n    try:\n        # Plot density\n        kde = gaussian_kde(np.vstack((x, y)), **kwargs)\n    except Exception as e:\n        print(\"Exception! %s\" % e)\n        return None, None, None\n\n    # Parameters\n    xmin, xmax = min(x), max(x)\n    ymin, ymax = min(y), max(y)\n\n    # Set xlim and ylim\n    if xlim is not None:\n        xmin, xmax = xlim\n    if ylim is not None:\n        ymin, ymax = ylim\n\n    #kde = stats.gaussian_kde(data)\n    #xx, yy = np.mgrid[-3:3:.01, -1:4:.01]\n    #density = kde(np.c_[xx.flat, yy.flat].T).reshape(xx.shape)\n\n    # evaluate on a regular grid\n    xgrid = np.linspace(xmin, xmax, 100)\n    ygrid = np.linspace(ymin, ymax, 100)\n    Xgrid, Ygrid = np.meshgrid(xgrid, ygrid)\n    zgrid = kde.evaluate(np.vstack([\n        Xgrid.ravel(),\n        Ygrid.ravel()\n    ]))\n    Zgrid = zgrid.reshape(Xgrid.shape)\n\n    \"\"\"\n    from sklearn.neighbors import KernelDensity\n    kde_skl = KernelDensity(bandwidth=0.05)\n    kde_skl.fit(np.vstack([y, x]).T)\n    Zgrid = np.exp(kde_skl.score_samples( \\\n        np.vstack([\n            Ygrid.ravel(),\n            Xgrid.ravel()\n        ]).T)).reshape(Xgrid.shape)\n    \"\"\"\n    # Return\n    return xgrid, ygrid, Zgrid\n\n\ndef kde_mpl_plot(xgrid, ygrid, Zgrid, cmap='Reds',\n                 ax=None, contour=True, cbar=True):\n    \"\"\"Plots the KDE\n\n    .. note: The imshow function works in a different\n             way and therefore we have to tranpose the\n             image.\n\n    Parameters\n    ----------\n\n    Returns\n    -------\n    \"\"\"\n    # Plot the result as an image\n    ax.imshow(Zgrid.T,\n              origin='lower', aspect='auto',\n              extent=[min(xgrid),\n                      max(xgrid),\n                      min(ygrid),\n                      max(ygrid)],\n              cmap=cmap)\n\n    # Plot contour\n    if contour:\n        ax.contour(xgrid, ygrid, Zgrid,\n                   levels=14, linewidths=0.25, alpha=0.5,\n                   linestyles='dashed', colors='k')\n        cntr = ax.contourf(xgrid, ygrid, Zgrid,\n                           levels=14, cmap=cmap)\n\n        if cbar:\n            cb = plt.colorbar(cntr, ax=ax)\n        # cb.set_label('density')\n\n    # Return\n    return ax\n\ndef kde_mpl(x, y, xlim=None, ylim=None, cmap='Reds',\n            ax=None, contour=True, cbar=True,\n            **kwargs):\n    \"\"\"Plot gaussian kde matplotlib\n\n    Parameters\n    ----------\n    x, y: arrays\n        Numpy arrays with the 2D values.\n\n    Returns\n    -------\n\n    \"\"\"\n    # Compute KDE\n    xgrid, ygrid, Zgrid = \\\n        kde_mpl_compute(x, y, xlim, ylim, **kwargs)\n\n    # Plot KDE\n    if xgrid is not None:\n        ax = kde_mpl_plot(xgrid, ygrid, Zgrid,\n            cmap=cmap, ax=ax, contour=contour,\n            cbar=cbar)\n        return ax\n\n    # Return\n    return None"
      ]
    }
  ],
  "metadata": {
    "kernelspec": {
      "display_name": "Python 3",
      "language": "python",
      "name": "python3"
    },
    "language_info": {
      "codemirror_mode": {
        "name": "ipython",
        "version": 3
      },
      "file_extension": ".py",
      "mimetype": "text/x-python",
      "name": "python",
      "nbconvert_exporter": "python",
      "pygments_lexer": "ipython3",
      "version": "3.8.5"
    }
  },
  "nbformat": 4,
  "nbformat_minor": 0
}