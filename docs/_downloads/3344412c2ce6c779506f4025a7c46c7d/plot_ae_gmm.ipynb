{
  "cells": [
    {
      "cell_type": "code",
      "execution_count": null,
      "metadata": {
        "collapsed": false
      },
      "outputs": [],
      "source": [
        "%matplotlib inline"
      ]
    },
    {
      "cell_type": "markdown",
      "metadata": {},
      "source": [
        "\n# Auto-encoder w/ GMM clustering\n"
      ]
    },
    {
      "cell_type": "code",
      "execution_count": null,
      "metadata": {
        "collapsed": false
      },
      "outputs": [],
      "source": [
        "import os\nimport pandas as pd\nimport numpy as np\nimport pickle\nfrom torch.utils.data import DataLoader\nfrom sklearn.model_selection import train_test_split\nfrom sklearn import preprocessing\n\nfrom pkgname.core.AE.autoencoder import get_device, set_seed\nfrom pkgname.utils.data_loader import load_dengue, IQR_rule\nfrom definitions import ROOT_DIR\nfrom tableone import TableOne\nimport matplotlib.pyplot as plt\nimport itertools\nfrom scipy import linalg\nimport matplotlib as mpl\nfrom sklearn import mixture\n\n# --------------\n# Load data\n# --------------\n\nSEED = 0\nbatch_size = 16\nMODEL_PATH = os.path.join(ROOT_DIR, 'examples', 'autoencoder', 'sigmoid')\nN_CLUSTERS = 3\n# Set seed\nset_seed(SEED)\n\n# Get device\ndevice = get_device(False)\n\nfeatures = [\"dsource\", \"date\", \"age\", \"gender\", \"weight\", \"bleeding\", \"plt\",\n            \"shock\", \"haematocrit_percent\", \"bleeding_gum\", \"abdominal_pain\",\n            \"ascites\", \"bleeding_mucosal\", \"bleeding_skin\", \"body_temperature\"]\ninfo_feat = [\"dsource\", \"shock\", \"bleeding\", \"bleeding_gum\", \"abdominal_pain\", \"ascites\",\n             \"bleeding_mucosal\", \"bleeding_skin\", \"gender\"]\ndata_feat = [\"age\", \"weight\", \"plt\", \"haematocrit_percent\", \"body_temperature\"]\n\nbefore_fill = load_dengue(usecols=['study_no'] + features)\nbefore_fill = before_fill.loc[before_fill['age'] <= 18]\nbefore_fill = IQR_rule(before_fill, ['plt', 'haematocrit_percent', 'body_temperature'])\n\ndf = before_fill.copy()\n\nbefore_fill = before_fill.dropna(subset=data_feat + ['date'])\n\nfor feat in features:\n    df[feat] = before_fill.groupby('study_no')[feat].ffill().bfill()\n\ndf = df.dropna()\n\ndf = df.groupby(by=\"study_no\", dropna=False).agg(\n    dsource=pd.NamedAgg(column=\"dsource\", aggfunc=\"last\"),\n    date=pd.NamedAgg(column=\"date\", aggfunc=\"last\"),\n    age=pd.NamedAgg(column=\"age\", aggfunc=\"max\"),\n    gender=pd.NamedAgg(column=\"gender\", aggfunc=\"first\"),\n    weight=pd.NamedAgg(column=\"weight\", aggfunc=np.mean),\n    bleeding=pd.NamedAgg(column=\"bleeding\", aggfunc=\"max\"),\n    plt=pd.NamedAgg(column=\"plt\", aggfunc=\"min\"),\n    shock=pd.NamedAgg(column=\"shock\", aggfunc=\"max\"),\n    haematocrit_percent=pd.NamedAgg(column=\"haematocrit_percent\", aggfunc=\"max\"),\n    bleeding_gum=pd.NamedAgg(column=\"bleeding_gum\", aggfunc=\"max\"),\n    abdominal_pain=pd.NamedAgg(column=\"abdominal_pain\", aggfunc=\"max\"),\n    ascites=pd.NamedAgg(column=\"ascites\", aggfunc=\"max\"),\n    bleeding_mucosal=pd.NamedAgg(column=\"bleeding_mucosal\", aggfunc=\"max\"),\n    bleeding_skin=pd.NamedAgg(column=\"bleeding_skin\", aggfunc=\"max\"),\n    body_temperature=pd.NamedAgg(column=\"body_temperature\", aggfunc=np.mean),\n).dropna()\n\nmapping = {'Female': 0, 'Male': 1}\ndf = df.replace({'gender': mapping})\n\ntrain, test = train_test_split(df, test_size=0.2, random_state=SEED)\n\ntrain_data = train[data_feat]\ntest_data = test[data_feat]\ntrain_info = train[info_feat]\ntest_info = test[info_feat]\n\nscaler = preprocessing.MinMaxScaler().fit(train_data)\n\ntrain_scaled = scaler.transform(train_data.to_numpy())\ntest_scaled = scaler.transform(test_data.to_numpy())\n\nloader_train = DataLoader(train_scaled, batch_size, shuffle=False)\nloader_test = DataLoader(test_scaled, batch_size, shuffle=False)\n\nmodel = pickle.load(open(MODEL_PATH, 'rb'))\nencoded_train = model.encode_inputs(loader_train)\n\nplt.scatter(encoded_train[:, 0], encoded_train[:, 1], c=train_info['shock'])\nplt.title('AE shock in latent space (testing data)')\nplt.show()\n\n\n\ncolor_iter = itertools.cycle(['navy', 'c', 'cornflowerblue', 'gold',\n                              'darkorange'])\n\n\ndef plot_results(X, Y_, means, covariances, index, title):\n    splot = plt.subplot(2, 1, 1 + index)\n    for i, (mean, covar, color) in enumerate(zip(\n            means, covariances, color_iter)):\n        v, w = linalg.eigh(covar)\n        v = 2. * np.sqrt(2.) * np.sqrt(v)\n        u = w[0] / linalg.norm(w[0])\n        # as the DP will not use every component it has access to\n        # unless it needs it, we shouldn't plot the redundant\n        # components.\n        if not np.any(Y_ == i):\n            continue\n        plt.scatter(X[Y_ == i, 0], X[Y_ == i, 1], .8, color=color)\n\n        # Plot an ellipse to show the Gaussian component\n        angle = np.arctan(u[1] / u[0])\n        angle = 180. * angle / np.pi  # convert to degrees\n        ell = mpl.patches.Ellipse(mean, v[0], v[1], 180. + angle, color=color)\n        ell.set_clip_box(splot.bbox)\n        ell.set_alpha(0.5)\n        splot.add_artist(ell)\n\n    plt.xlim(0, 1.)\n    plt.ylim(0, 1)\n    plt.xticks(())\n    plt.yticks(())\n    plt.title(title)\n\n\n# Fit a Gaussian mixture with EM using five components\ngmm = mixture.GaussianMixture(n_components=N_CLUSTERS, covariance_type='full').fit(encoded_train)\nplot_results(encoded_train, gmm.predict(encoded_train), gmm.means_, gmm.covariances_, 0,\n             'Gaussian Mixture')\n\n\n\n# Fit a Dirichlet process Gaussian mixture using five components\ndpgmm = mixture.BayesianGaussianMixture(n_components=N_CLUSTERS,\n                                        covariance_type='full').fit(encoded_train)\nplot_results(encoded_train, dpgmm.predict(encoded_train), dpgmm.means_, dpgmm.covariances_, 1,\n             'Bayesian Gaussian Mixture with a Dirichlet process prior')\n\nplt.show()\n\n\n# Table\nlabels = [f\"Cluster {i}\" for i in range(N_CLUSTERS)]\n\nmapping = {0: 'Female', 1: 'Male'}\ntable_df = train.replace({'gender': mapping})\n\ntable_df['cluster'] = dpgmm.predict(encoded_train)\n\ncolumns = info_feat+data_feat\nnonnormal = list(table_df[columns].select_dtypes(include='number').columns)\ncategorical = list(set(columns).difference(set(nonnormal)))\ncolumns = sorted(categorical) + sorted(nonnormal)\n\nrename = {'haematocrit_percent': 'hct',\n          'body_temperature': 'temperature'}\n\ntable = TableOne(table_df, columns=columns, categorical=categorical, nonnormal=nonnormal,\n                 groupby='cluster', rename=rename, missing=False)\n\n\nprint(table.tabulate(tablefmt=\"fancy_grid\"))"
      ]
    }
  ],
  "metadata": {
    "kernelspec": {
      "display_name": "Python 3",
      "language": "python",
      "name": "python3"
    },
    "language_info": {
      "codemirror_mode": {
        "name": "ipython",
        "version": 3
      },
      "file_extension": ".py",
      "mimetype": "text/x-python",
      "name": "python",
      "nbconvert_exporter": "python",
      "pygments_lexer": "ipython3",
      "version": "3.8.5"
    }
  },
  "nbformat": 4,
  "nbformat_minor": 0
}