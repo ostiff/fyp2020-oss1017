{
  "cells": [
    {
      "cell_type": "code",
      "execution_count": null,
      "metadata": {
        "collapsed": false
      },
      "outputs": [],
      "source": [
        "%matplotlib inline"
      ]
    },
    {
      "cell_type": "markdown",
      "metadata": {},
      "source": [
        "\n# t-SNE: Pathology dataset 1\n\nTraining attributes: FBC panel\n\nAttributes used in cluster comparison: `age`, `gender`, `covid_confirmed`.\n"
      ]
    },
    {
      "cell_type": "code",
      "execution_count": null,
      "metadata": {
        "collapsed": false
      },
      "outputs": [],
      "source": [
        "# Libraries\nimport pandas as pd\nimport numpy as np\nimport warnings\nfrom sklearn.manifold import TSNE\nfrom sklearn.cluster import DBSCAN\nfrom sklearn import preprocessing\nimport matplotlib.pyplot as plt\nfrom matplotlib.colors import ListedColormap\nfrom tableone import TableOne\n\nfrom pkgname.utils.data_loader import load_pathology\nfrom pkgname.utils.plot_utils import plotBox, formatTable, colours\nfrom pkgname.utils.log_utils import Logger\n\nlogger = Logger('TSNE_Pathology', compress=False)\n\nSEED = 0\nTSNE_n_components = 2\nTSNE_perplexity = 30\nTSNE_early_exaggeration = 100\nTSNE_learning_rate = 200\nDBSCAN_eps = 5\nDBSCAN_min_samples = 50\n\nnp.random.seed(SEED)"
      ]
    },
    {
      "cell_type": "markdown",
      "metadata": {},
      "source": [
        "## Dataset\n\nLoad dengue dataset. Perform forward and backwards fill after grouping by patient.\nDoes not make use of the `d001` dataset because it does not contain: `abdominal_pain`,\n`bleeding_mucosal`, `bleeding_skin`, `body_temperature`.\nTo reduce computation time aggregate patient data to only have one tuple per patient.\n\n"
      ]
    },
    {
      "cell_type": "code",
      "execution_count": null,
      "metadata": {
        "collapsed": false
      },
      "outputs": [],
      "source": [
        "df = load_pathology(usedefault=True, dropna=True)\ndel df[\"_uid\"]\ndel df[\"dateResult\"]"
      ]
    },
    {
      "cell_type": "markdown",
      "metadata": {},
      "source": [
        "## t-SNE\n\nUse t-SNE on the z-score scaled data.\n\n"
      ]
    },
    {
      "cell_type": "code",
      "execution_count": null,
      "metadata": {
        "collapsed": false
      },
      "outputs": [],
      "source": [
        "info_feat = [\"GenderID\", \"patient_age\", \"covid_confirmed\"]\ndata_feat = [\"EOS\", \"MONO\", \"BASO\", \"NEUT\",\n             \"RBC\", \"WBC\", \"MCHC\", \"MCV\",\n             \"LY\", \"HCT\", \"RDW\", \"HGB\",\n             \"MCH\", \"PLT\", \"MPV\", \"NRBCA\"]\n\ninfo = df[info_feat]\ndata = df[data_feat]\n\nscaler = preprocessing.StandardScaler()\nx = scaler.fit_transform(data.values)\n\nX_embedded = TSNE(n_components=TSNE_n_components,\n                  perplexity=TSNE_perplexity,\n                  early_exaggeration=TSNE_early_exaggeration,\n                  learning_rate=TSNE_learning_rate,\n                  random_state=SEED, n_jobs=-1).fit_transform(x)\n\nlogger.save_object(X_embedded, \"X_embedded\")\n\n\nplt.scatter(X_embedded[:, 0], X_embedded[:, 1], c=info['covid_confirmed'])\nlogger.add_plt(plt.gcf())\nplt.show()"
      ]
    },
    {
      "cell_type": "markdown",
      "metadata": {},
      "source": [
        "## DBSCAN\n\nIdentify clusters using DBSCAN\n\n"
      ]
    },
    {
      "cell_type": "code",
      "execution_count": null,
      "metadata": {
        "collapsed": false
      },
      "outputs": [],
      "source": [
        "DBSCAN_eps = 5\nDBSCAN_min_samples = 5\n\nclustering = DBSCAN(eps=DBSCAN_eps, min_samples=DBSCAN_min_samples).fit(X_embedded)\noutliers = -1 in clustering.labels_\nclusters = [x+1 for x in clustering.labels_] if outliers else clustering.labels_"
      ]
    },
    {
      "cell_type": "markdown",
      "metadata": {},
      "source": [
        "## Plotting\n\n"
      ]
    },
    {
      "cell_type": "code",
      "execution_count": null,
      "metadata": {
        "collapsed": false
      },
      "outputs": [],
      "source": [
        "N_CLUSTERS = len(set(clusters))\n\ncolours = colours[:N_CLUSTERS]\n\nscatter = plt.scatter(X_embedded[:,0], X_embedded[:,1], c=clusters, cmap=ListedColormap(colours))\n\nif outliers:\n    labels = [\"Outliers\"] + [f\"Cluster {i}\" for i in range(N_CLUSTERS-1)]\nelse:\n    labels= [f\"Cluster {i}\" for i in range(N_CLUSTERS)]\n\nplt.legend(handles=scatter.legend_elements()[0], labels=labels)\nplt.title('t-SNE + DBSCAN')\nlogger.add_plt(plt.gcf())\nplt.show()"
      ]
    },
    {
      "cell_type": "markdown",
      "metadata": {},
      "source": [
        "## Cluster analysis\n\nTable\n\n"
      ]
    },
    {
      "cell_type": "code",
      "execution_count": null,
      "metadata": {
        "collapsed": false
      },
      "outputs": [],
      "source": [
        "with warnings.catch_warnings():\n    warnings.simplefilter(\"ignore\")\n\n    df['cluster'] = clusters\n\ncolumns = info_feat+data_feat\nnonnormal = list(df[columns].select_dtypes(include='number').columns)\nnonnormal.remove('GenderID')\ncategorical = list(set(columns).difference(set(nonnormal)))\ncolumns = sorted(categorical) + sorted(nonnormal)\n\ntable = TableOne(df, columns=columns, categorical=categorical, nonnormal=nonnormal,\n                 groupby='cluster', missing=False)\n\nhtml = formatTable(table, colours, labels)\nlogger.append_html(html.render())\nhtml"
      ]
    },
    {
      "cell_type": "markdown",
      "metadata": {},
      "source": [
        "These attributes were not used to train the model.\n\n"
      ]
    },
    {
      "cell_type": "code",
      "execution_count": null,
      "metadata": {
        "collapsed": false
      },
      "outputs": [],
      "source": [
        "fig, html = plotBox(data=info,\n                    features=info_feat,\n                    clusters=clusters,\n                    colours=colours,\n                    labels=labels,\n                    title=\"Attributes not used in training\",\n                    )\nlogger.append_html(html)\nfig"
      ]
    },
    {
      "cell_type": "markdown",
      "metadata": {},
      "source": [
        "The following attributes were used to train the model.\n\n"
      ]
    },
    {
      "cell_type": "code",
      "execution_count": null,
      "metadata": {
        "collapsed": false
      },
      "outputs": [],
      "source": [
        "fig, html = plotBox(data=data,\n                    features=data_feat,\n                    clusters=clusters,\n                    colours=colours,\n                    labels=labels,\n                    title=\"Attributes used in training\",\n                    )\nlogger.append_html(html)\nfig"
      ]
    },
    {
      "cell_type": "markdown",
      "metadata": {},
      "source": [
        "## Logging\n\n"
      ]
    },
    {
      "cell_type": "code",
      "execution_count": null,
      "metadata": {
        "collapsed": false
      },
      "outputs": [],
      "source": [
        "# Log parameters\nlogger.save_parameters(\n    {\n        'SEED': SEED,\n        'TSNE_n_components': TSNE_n_components,\n        'TSNE_perplexity': TSNE_perplexity,\n        'TSNE_early_exaggeration': TSNE_early_exaggeration,\n        'TSNE_learning_rate': TSNE_learning_rate,\n        'DBSCAN_eps': DBSCAN_eps,\n        'DBSCAN_min_samples': DBSCAN_min_samples,\n        'info_feat': info_feat,\n        'data_feat': data_feat\n    }\n)\n\nlogger.create_report()"
      ]
    }
  ],
  "metadata": {
    "kernelspec": {
      "display_name": "Python 3",
      "language": "python",
      "name": "python3"
    },
    "language_info": {
      "codemirror_mode": {
        "name": "ipython",
        "version": 3
      },
      "file_extension": ".py",
      "mimetype": "text/x-python",
      "name": "python",
      "nbconvert_exporter": "python",
      "pygments_lexer": "ipython3",
      "version": "3.8.5"
    }
  },
  "nbformat": 4,
  "nbformat_minor": 0
}