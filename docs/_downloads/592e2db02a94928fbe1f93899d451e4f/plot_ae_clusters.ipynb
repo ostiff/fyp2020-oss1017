{
  "cells": [
    {
      "cell_type": "code",
      "execution_count": null,
      "metadata": {
        "collapsed": false
      },
      "outputs": [],
      "source": [
        "%matplotlib inline"
      ]
    },
    {
      "cell_type": "markdown",
      "metadata": {},
      "source": [
        "\n# Autoencoder experiment figures\n"
      ]
    },
    {
      "cell_type": "code",
      "execution_count": null,
      "metadata": {
        "collapsed": false
      },
      "outputs": [],
      "source": [
        "import os\nimport sys\nimport pickle\nimport pandas as pd\nimport numpy as np\nimport seaborn as sns\nimport matplotlib as mpl\nimport matplotlib.pyplot as plt\nimport matplotlib.patches as mpatches\n\nfrom sklearn import preprocessing, mixture\nfrom seaborn import color_palette\nfrom sklearn.model_selection import train_test_split\nfrom tableone import TableOne\nfrom torch.utils.data import DataLoader\n\nfrom pkgname.core.evaluation.dr_evaluation import distance_metrics\nfrom pkgname.utils.data_loader import load_dengue, IQR_rule\nfrom definitions import ROOT_DIR\nfrom sklearn.cluster import DBSCAN, KMeans\n\nfrom pkgname.utils.plot_utils import plot_results, formatTable\n\nsys.path.insert(0, os.path.abspath('.'))\n\n# mpl.use(\"pgf\")\nmpl.rcParams.update({\n    # \"pgf.texsystem\": \"pdflatex\",\n    # 'font.family': 'serif',\n    'font.weight': 'light',\n    'font.size': 16,\n    #\n    #\n    # 'text.usetex': True,\n    # 'font.size': 18,\n})\n\nSEED = 0\nMODEL_PATH = os.path.join(ROOT_DIR, 'examples', 'report_figures', 'ae_figures', 'ae_sig_3')\nnp.random.seed(SEED)\n\n\nfeatures_labels = [\"DSource\", \"Date\", \"Age\", \"Gender\", \"Weight\", \"Bleeding\",\n                   \"Platelets\", \"Shock\", \"Haematocrit\", \"Bleeding gum\", \"Abdominal pain\",\n                   \"Ascites\", \"Bleeding mucosal\", \"Bleeding skin\", \"Body temperature\"]\n\nfeatures = [\"dsource\",\"date\", \"age\", \"gender\", \"weight\", \"bleeding\", \"plt\",\n            \"shock\", \"haematocrit_percent\", \"bleeding_gum\", \"abdominal_pain\",\n            \"ascites\", \"bleeding_mucosal\", \"bleeding_skin\", \"body_temperature\"]\n\nlabel_mapping = dict(zip(features, features_labels))\n\ndf = load_dengue(usecols=['study_no']+features)\n\nfor feat in features:\n    df[feat] = df.groupby('study_no')[feat].ffill().bfill()\n\ndf = df.loc[df['age'] <= 18]\ndf = df.dropna()\n\ndf = df.groupby(by=\"study_no\", dropna=False).agg(\n    dsource=pd.NamedAgg(column=\"dsource\", aggfunc=\"last\"),\n    date=pd.NamedAgg(column=\"date\", aggfunc=\"last\"),\n    age=pd.NamedAgg(column=\"age\", aggfunc=\"max\"),\n    gender=pd.NamedAgg(column=\"gender\", aggfunc=\"first\"),\n    weight=pd.NamedAgg(column=\"weight\", aggfunc=np.mean),\n    bleeding=pd.NamedAgg(column=\"bleeding\", aggfunc=\"max\"),\n    plt=pd.NamedAgg(column=\"plt\", aggfunc=\"min\"),\n    shock=pd.NamedAgg(column=\"shock\", aggfunc=\"max\"),\n    haematocrit_percent=pd.NamedAgg(column=\"haematocrit_percent\", aggfunc=\"max\"),\n    bleeding_gum=pd.NamedAgg(column=\"bleeding_gum\", aggfunc=\"max\"),\n    abdominal_pain=pd.NamedAgg(column=\"abdominal_pain\", aggfunc=\"max\"),\n    ascites=pd.NamedAgg(column=\"ascites\", aggfunc=\"max\"),\n    bleeding_mucosal=pd.NamedAgg(column=\"bleeding_mucosal\", aggfunc=\"max\"),\n    bleeding_skin=pd.NamedAgg(column=\"bleeding_skin\", aggfunc=\"max\"),\n    body_temperature=pd.NamedAgg(column=\"body_temperature\", aggfunc=np.mean),\n).dropna()\n\ndf = IQR_rule(df, ['plt'])\n\nmapping = {'Female': 0, 'Male': 1}\n\ndf = df.replace({'gender': mapping})\nbefore_mapping = df.copy()\n\ninfo_feat = [\"shock\", \"bleeding\", \"bleeding_gum\", \"abdominal_pain\", \"ascites\",\n             \"bleeding_mucosal\", \"bleeding_skin\", \"gender\"]\ndata_feat = [\"age\", \"weight\", \"plt\", \"haematocrit_percent\", \"body_temperature\"]\n\ninfo_feat = [\"shock\", \"bleeding\", \"bleeding_gum\", \"abdominal_pain\", \"ascites\",\n             \"bleeding_mucosal\", \"bleeding_skin\", \"gender\"]\ndata_feat = [\"age\", \"weight\", \"plt\", \"haematocrit_percent\", \"body_temperature\"]\n\ndata = df[data_feat]\ninfo = df[info_feat]\nscaled = preprocessing.MinMaxScaler().fit_transform(data)\nbatch_size=32\nloader = DataLoader(scaled, batch_size, shuffle=False)\nmodel = pickle.load(open(MODEL_PATH, 'rb'))\nae_points = model.encode_inputs(loader)\n\ncolours = np.array(color_palette('pastel').as_hex())"
      ]
    },
    {
      "cell_type": "markdown",
      "metadata": {},
      "source": [
        "## Cluster analysis\n\n"
      ]
    },
    {
      "cell_type": "code",
      "execution_count": null,
      "metadata": {
        "collapsed": false
      },
      "outputs": [],
      "source": [
        "# OVERALL CLUSTER COMP.\nfig, axes = plt.subplots(4, 4, figsize=(15, 15))\nfig.tight_layout()\naxes=axes.flatten()\nfor ax in axes:\n    sns.despine(ax=ax, left=False)\n    ax.get_xaxis().set_ticks([])\nfor i in [3,12,15]:\n    axes[i].axis('off')\n\n\ngmm = mixture.GaussianMixture(n_components=3,\n                                        covariance_type='full', random_state=SEED).fit(ae_points)\nclusters = gmm.predict(ae_points)\nclusters_k_means = KMeans(n_clusters=3, random_state=SEED).fit_predict(ae_points)\n\n\nbefore_mapping['cluster'] = clusters\n\n\n\nN_CLUSTERS = len(set(clusters))\ncolours = colours[:N_CLUSTERS]\n\n\nlabels = [f\"Cluster {i}\" for i in range(N_CLUSTERS)]\n\ni = 0\nfor feat in sorted(data_feat):\n    g = sns.boxplot(ax=axes[i], x=\"cluster\", y=feat,\n                     data=before_mapping, palette=\"pastel\")\n    axes[i].get_xaxis().set_ticks([])\n    axes[i].set(xlabel=label_mapping[feat], ylabel=None)\n\n    if i == 2:\n        c1 = mpatches.Patch(color=colours[0], label='Cluster 0')\n        c2 = mpatches.Patch(color=colours[1], label='Cluster 1')\n        c3 = mpatches.Patch(color=colours[2], label='Cluster 2')\n\n        axes[3].legend(handles=[c1, c2, c3], loc='center')\n        i += 1\n    i += 1\n\nfor feat in sorted(info_feat):\n    if feat != 'gender':\n        sns.barplot(ax=axes[i], x=\"cluster\", y=feat,\n                         data=before_mapping, palette=\"pastel\")\n    else:\n        sns.barplot(ax=axes[i], x=\"cluster\", y=feat,\n                         data=before_mapping, palette=\"muted\", estimator=lambda x: 1, ci=None)\n        g = sns.barplot(ax=axes[i], x=\"cluster\", y=feat,\n                         data=before_mapping, palette=\"pastel\")\n        g.text(0, 0.25, 'Male', color='black', ha=\"center\")\n        g.text(0, 0.75, 'Female', color='black', ha=\"center\")\n        g.text(1, 0.25, 'Male', color='black', ha=\"center\")\n        g.text(1, 0.75, 'Female', color='black', ha=\"center\")\n        g.text(2, 0.25, 'Male', color='black', ha=\"center\")\n        g.text(2, 0.75, 'Female', color='black', ha=\"center\")\n\n    axes[i].get_xaxis().set_ticks([])\n    axes[i].set(xlabel=label_mapping[feat], ylabel=None)\n\n    i += 1 if i != 11 else 2\n\n# fig.savefig(\"ae_cluster_stats.pdf\", bbox_inches='tight')\nplt.show()"
      ]
    },
    {
      "cell_type": "markdown",
      "metadata": {},
      "source": [
        "## Intra-cluster comparison\n\n"
      ]
    },
    {
      "cell_type": "code",
      "execution_count": null,
      "metadata": {
        "collapsed": false
      },
      "outputs": [],
      "source": [
        "fig, axes = plt.subplots(1, 6, figsize=(15, 4))\nfig.tight_layout()\naxes=axes.flatten()\nfor ax in axes:\n    sns.despine(ax=ax, left=False)\n    ax.get_xaxis().set_ticks([])\n\n\nfor i, feat in enumerate(sorted(data_feat)):\n    g = sns.boxplot(ax=axes[i], x=\"cluster\", y=feat,\n                     data=before_mapping[before_mapping['cluster'] == 1], hue='shock', palette=\"Set3\")\n    axes[i].get_xaxis().set_ticks([])\n    axes[i].set(xlabel=label_mapping[feat], ylabel=None)\n    g.legend_.remove()\n\naxes[-1].axis('off')\nlegend_colours = np.array(color_palette('Set3').as_hex())\n\nc1 = mpatches.Patch(color=legend_colours[0], label='False')\nc2 = mpatches.Patch(color=legend_colours[1], label='True')\naxes[-1].legend(handles=[c1, c2], loc='center', title='Shock')\n\n# fig.savefig(\"ae_cluster0_shock.pdf\", bbox_inches='tight')\nplt.show()"
      ]
    },
    {
      "cell_type": "markdown",
      "metadata": {},
      "source": [
        "## GMM clustering\n\n"
      ]
    },
    {
      "cell_type": "code",
      "execution_count": null,
      "metadata": {
        "collapsed": false
      },
      "outputs": [],
      "source": [
        "colours = np.array(sns.color_palette(\"pastel\", as_cmap=True))\n# colours = np.insert(colours, 0, \"#737373\")\ncolours = dict(zip(list(range(len(colours))), colours))\n\nplt.figure()\nind_list = np.random.choice(len(df.index), 5000)\nae_points_subset = np.take(ae_points, ind_list, axis=0)\nclusters = np.take(clusters, ind_list, axis=0)\n\nplot_results(ae_points_subset, clusters, gmm.means_, gmm.covariances_, colours, labels)\n# plt.savefig(\"ae_gmm.pdf\", bbox_inches='tight')\nplt.show()"
      ]
    },
    {
      "cell_type": "markdown",
      "metadata": {},
      "source": [
        "## k-means clustering\n\n"
      ]
    },
    {
      "cell_type": "code",
      "execution_count": null,
      "metadata": {
        "collapsed": false
      },
      "outputs": [],
      "source": [
        "clusters_k_means = np.take(clusters_k_means, ind_list, axis=0)\nplt.figure()\nsplot = sns.scatterplot(x=ae_points_subset[:, 0], y=ae_points_subset[:, 1], hue=clusters_k_means, palette=colours,\n                            linewidth=0, s=10)\nhandles, _ = splot.get_legend_handles_labels()\nsplot.legend(handles, labels, loc='lower right', borderpad=0.2, labelspacing=0.2)\n# plt.savefig(\"ae_kmeans.pdf\", bbox_inches='tight')\nplt.show()"
      ]
    },
    {
      "cell_type": "markdown",
      "metadata": {},
      "source": [
        "## AE Sheppard Diagram\n\n"
      ]
    },
    {
      "cell_type": "code",
      "execution_count": null,
      "metadata": {
        "collapsed": false
      },
      "outputs": [],
      "source": [
        "_, fig = distance_metrics(scaled, ae_points, 6000, '', verbose=False)\n# fig.savefig(\"ae_sheppard.png\", bbox_inches='tight', dpi=300)\nplt.show()"
      ]
    },
    {
      "cell_type": "markdown",
      "metadata": {},
      "source": [
        "## Shock in latent dimension\n\n"
      ]
    },
    {
      "cell_type": "code",
      "execution_count": null,
      "metadata": {
        "collapsed": false
      },
      "outputs": [],
      "source": [
        "shock = np.take(before_mapping['shock'].to_numpy(), ind_list, axis=0)\nplt.figure()\nsplot = sns.scatterplot(x=ae_points_subset[:, 0], y=ae_points_subset[:, 1], hue=shock, palette='pastel',\n                            linewidth=0, s=10)\nlegend_colours = np.array(color_palette('pastel').as_hex())\n\nplt.legend(title='Shock', loc='lower right',borderpad=0.2,labelspacing=0.2)\n# plt.savefig(\"ae_sig_shock.pdf\", bbox_inches='tight')\nplt.show()"
      ]
    }
  ],
  "metadata": {
    "kernelspec": {
      "display_name": "Python 3",
      "language": "python",
      "name": "python3"
    },
    "language_info": {
      "codemirror_mode": {
        "name": "ipython",
        "version": 3
      },
      "file_extension": ".py",
      "mimetype": "text/x-python",
      "name": "python",
      "nbconvert_exporter": "python",
      "pygments_lexer": "ipython3",
      "version": "3.8.5"
    }
  },
  "nbformat": 4,
  "nbformat_minor": 0
}