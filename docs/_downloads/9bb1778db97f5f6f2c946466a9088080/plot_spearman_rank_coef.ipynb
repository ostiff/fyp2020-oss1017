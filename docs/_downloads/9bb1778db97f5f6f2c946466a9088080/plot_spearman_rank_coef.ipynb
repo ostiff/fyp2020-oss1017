{
  "cells": [
    {
      "cell_type": "code",
      "execution_count": null,
      "metadata": {
        "collapsed": false
      },
      "outputs": [],
      "source": [
        "%matplotlib inline"
      ]
    },
    {
      "cell_type": "markdown",
      "metadata": {},
      "source": [
        "\n# Spearman's Rank Correlation Coefficient\n"
      ]
    },
    {
      "cell_type": "code",
      "execution_count": null,
      "metadata": {
        "collapsed": false
      },
      "outputs": [],
      "source": [
        "import numpy as np\nimport seaborn as sns\nimport matplotlib\nimport matplotlib.pyplot as plt\n\n# matplotlib.use(\"pgf\")\nmatplotlib.rcParams.update({\n    # \"pgf.texsystem\": \"pdflatex\",\n    'font.family': 'serif',\n    # 'text.usetex': True,\n    'font.size': 18,\n    'pgf.rcfonts': False\n})\n\nx = np.array(np.arange(-1.9,2,0.1))\ny_pos_corr = np.tan(x/1.7)\ny_neg_corr = np.tan(-x/1.7)\ny_no_corr = np.random.uniform(low=-1.9, high=1.9, size=len(x))\n\nfig, axes = plt.subplots(1, 3, figsize=(15, 5))\nfor ax in axes:\n    ax.set(aspect='equal')\n    ax.set(xlim=(-2, 2), ylim=(-2, 2))\n    ax.xaxis.set_major_locator(plt.MaxNLocator(3))\n    ax.yaxis.set_major_locator(plt.MaxNLocator(3))\n\n# 1 corr\nsns.scatterplot(ax=axes[0], x=x, y=y_pos_corr, color=\".3\")\naxes[0].set_title(r'$\\rho = 1$')\n\n# 0 corr\nsns.scatterplot(ax=axes[1], x=x, y=y_no_corr, color=\".3\")\naxes[1].set_title(r'$\\rho \\approx 0$')\n\n# -1 corr\nsns.scatterplot(ax=axes[2], x=x, y=y_neg_corr, color=\".3\")\naxes[2].set_title(r'$\\rho = -1$')\n\n# fig.savefig(\"spearman_corr.pdf\", bbox_inches='tight')\nplt.show()"
      ]
    }
  ],
  "metadata": {
    "kernelspec": {
      "display_name": "Python 3",
      "language": "python",
      "name": "python3"
    },
    "language_info": {
      "codemirror_mode": {
        "name": "ipython",
        "version": 3
      },
      "file_extension": ".py",
      "mimetype": "text/x-python",
      "name": "python",
      "nbconvert_exporter": "python",
      "pygments_lexer": "ipython3",
      "version": "3.8.5"
    }
  },
  "nbformat": 4,
  "nbformat_minor": 0
}