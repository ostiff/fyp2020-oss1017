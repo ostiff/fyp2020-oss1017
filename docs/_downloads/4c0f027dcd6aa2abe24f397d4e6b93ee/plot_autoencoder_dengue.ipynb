{
  "cells": [
    {
      "cell_type": "code",
      "execution_count": null,
      "metadata": {
        "collapsed": false
      },
      "outputs": [],
      "source": [
        "%matplotlib inline"
      ]
    },
    {
      "cell_type": "markdown",
      "metadata": {},
      "source": [
        "\n# Simple autoencoder for dengue clustering\n\nTraining attributes: `age`, `weight`, `plt`, `haematocrit_percent`,\n`body_temperature`.\n\nAttributes used in cluster comparison: `bleeding`, `shock`, `bleeding_gum`,\n`abdominal_pain`, `ascites`, `bleeding_mucosal`, `bleeding_skin`.\n"
      ]
    },
    {
      "cell_type": "code",
      "execution_count": null,
      "metadata": {
        "collapsed": false
      },
      "outputs": [],
      "source": [
        "import warnings\nimport pandas as pd\nimport numpy as np\nimport torch\nfrom torch.utils.data import DataLoader\nfrom sklearn.model_selection import train_test_split\nfrom sklearn import preprocessing\nfrom sklearn.cluster import KMeans\nimport matplotlib.pyplot as plt\nfrom matplotlib.colors import ListedColormap\nfrom tableone import TableOne\n\nfrom pkgname.core.AE.autoencoder import Autoencoder, train_autoencoder, plot_autoencoder_loss, get_device, set_seed\nfrom pkgname.utils.data_loader import load_dengue, IQR_rule\nfrom pkgname.utils.plot_utils import plotBox, formatTable, colours\nfrom pkgname.utils.log_utils import Logger\n\nlogger = Logger('AE_Dengue', enable=True)\n\nSEED = 0\nN_CLUSTERS = 3\n\n# Set seed\nset_seed(SEED)\n\n# Get device\ndevice = get_device(usegpu=False)\n\nnum_epochs = 150\nlearning_rate = 0.00005\nbatch_size = 16\nlatent_dim = 2\n\nfeatures = [\"dsource\",\"date\", \"age\", \"gender\", \"weight\", \"bleeding\", \"plt\",\n            \"shock\", \"haematocrit_percent\", \"bleeding_gum\", \"abdominal_pain\",\n            \"ascites\", \"bleeding_mucosal\", \"bleeding_skin\", \"body_temperature\"]\n\ndf = load_dengue(usecols=['study_no']+features)\n\nfor feat in features:\n    df[feat] = df.groupby('study_no')[feat].ffill().bfill()\n\ndf = df.loc[df['age'] <= 18]\ndf = df.dropna()\n\ndf = df.groupby(by=\"study_no\", dropna=False).agg(\n    dsource=pd.NamedAgg(column=\"dsource\", aggfunc=\"last\"),\n    date=pd.NamedAgg(column=\"date\", aggfunc=\"last\"),\n    age=pd.NamedAgg(column=\"age\", aggfunc=\"max\"),\n    gender=pd.NamedAgg(column=\"gender\", aggfunc=\"first\"),\n    weight=pd.NamedAgg(column=\"weight\", aggfunc=np.mean),\n    bleeding=pd.NamedAgg(column=\"bleeding\", aggfunc=\"max\"),\n    plt=pd.NamedAgg(column=\"plt\", aggfunc=\"min\"),\n    shock=pd.NamedAgg(column=\"shock\", aggfunc=\"max\"),\n    haematocrit_percent=pd.NamedAgg(column=\"haematocrit_percent\", aggfunc=\"max\"),\n    bleeding_gum=pd.NamedAgg(column=\"bleeding_gum\", aggfunc=\"max\"),\n    abdominal_pain=pd.NamedAgg(column=\"abdominal_pain\", aggfunc=\"max\"),\n    ascites=pd.NamedAgg(column=\"ascites\", aggfunc=\"max\"),\n    bleeding_mucosal=pd.NamedAgg(column=\"bleeding_mucosal\", aggfunc=\"max\"),\n    bleeding_skin=pd.NamedAgg(column=\"bleeding_skin\", aggfunc=\"max\"),\n    body_temperature=pd.NamedAgg(column=\"body_temperature\", aggfunc=np.mean),\n).dropna()\n\ndf = IQR_rule(df, ['plt'])\n\nmapping = {'Female': 0, 'Male': 1}\ndf = df.replace({'gender': mapping})\n\ninfo_feat = [\"dsource\", \"shock\", \"bleeding\", \"bleeding_gum\", \"abdominal_pain\", \"ascites\",\n           \"bleeding_mucosal\", \"bleeding_skin\", \"gender\"]\ndata_feat = [\"age\", \"weight\", \"plt\", \"haematocrit_percent\", \"body_temperature\"]\n\n\ntrain, test = train_test_split(df, test_size=0.2, random_state=SEED)\n\ntrain_data = train[data_feat]\ntest_data = test[data_feat]\ntrain_info = train[info_feat]\ntest_info = test[info_feat]\n\nscaler = preprocessing.MinMaxScaler().fit(train_data)\n\ntrain_scaled = scaler.transform(train_data.to_numpy())\ntest_scaled = scaler.transform(test_data.to_numpy())\n\nloader_train = DataLoader(train_scaled, batch_size, shuffle=True)\nloader_test = DataLoader(test_scaled, batch_size, shuffle=False)\nloader_train_no_shuffle = DataLoader(train_scaled, batch_size, shuffle=False)\n\n\n# Additional parameters\ninput_size = len(data_feat)\nlayers=[5]\nmodel = Autoencoder(input_size=input_size,\n                    layers=layers,\n                    latent_dim=latent_dim,\n                    device=device).to(device)\n\n# Optimizer\noptimizer = torch.optim.Adam(model.parameters(), lr=learning_rate)\n\n# Train\nlosses = train_autoencoder(model, optimizer, loader_train, loader_test, num_epochs,\n                           # animation_data=loader_train_no_shuffle,\n                           # animation_colour=[train_info['shock'],\n                           #                   train_info['bleeding'],\n                           #                   train_info['ascites'],\n                           #                   train_info['abdominal_pain'],\n                           #                   train_info['bleeding_mucosal'],\n                           #                   train_info['bleeding_gum'],\n                           #                   train_info['bleeding_skin'],\n                           #                   train_info['gender']],\n                           # animation_labels=['Shock', 'Bleeding', 'Ascites', 'Abdominal pain',\n                           #                   'Bleeding mucosal', 'Bleeding gum',\n                           #                   'Bleeding skin', 'Gender'],\n                           # animation_path='animation.gif'\n                           )\n\n# Save model\nlogger.save_object(model)"
      ]
    },
    {
      "cell_type": "code",
      "execution_count": null,
      "metadata": {
        "collapsed": false
      },
      "outputs": [],
      "source": [
        "# Plot losses\nplot = plot_autoencoder_loss(losses, show=False, printout=False)\nlogger.add_plt(plot)\nplt.show()"
      ]
    },
    {
      "cell_type": "code",
      "execution_count": null,
      "metadata": {
        "collapsed": false
      },
      "outputs": [],
      "source": [
        "colours = colours[:N_CLUSTERS]\n\n# Encode test set and plot in 2D (assumes latent_dim = 2)\n\nencoded_test = model.encode_inputs(loader_test)\nencoded_train = model.encode_inputs(loader_train_no_shuffle)\n\n\nplt.scatter(encoded_test[:, 0], encoded_test[:, 1], c=test_info['shock'])\nplt.title('AE shock in latent space (testing data)')\nlogger.add_plt(plt.gcf())\nplt.show()"
      ]
    },
    {
      "cell_type": "code",
      "execution_count": null,
      "metadata": {
        "collapsed": false
      },
      "outputs": [],
      "source": [
        "plt.scatter(encoded_train[:, 0], encoded_train[:, 1], c=train_info['shock'])\nplt.title('AE shock in latent space (training data)')\nlogger.add_plt(plt.gcf())\nplt.show()"
      ]
    },
    {
      "cell_type": "code",
      "execution_count": null,
      "metadata": {
        "collapsed": false
      },
      "outputs": [],
      "source": [
        "clusters_test = KMeans(n_clusters=N_CLUSTERS, random_state=SEED).fit_predict(encoded_test)\nclusters_train = KMeans(n_clusters=N_CLUSTERS, random_state=SEED).fit_predict(encoded_train)\n\nlabels = [f\"Cluster {i}\" for i in range(N_CLUSTERS)]\n\nscatter = plt.scatter(encoded_test[:, 0], encoded_test[:, 1], c=clusters_test, cmap=ListedColormap(colours))\nplt.legend(handles=scatter.legend_elements()[0], labels=labels)\nplt.title('AE k-means (testing data)')\nlogger.add_plt(plt.gcf())\nplt.show()"
      ]
    },
    {
      "cell_type": "code",
      "execution_count": null,
      "metadata": {
        "collapsed": false
      },
      "outputs": [],
      "source": [
        "scatter = plt.scatter(encoded_train[:, 0], encoded_train[:, 1], c=clusters_train, cmap=ListedColormap(colours))\nplt.legend(handles=scatter.legend_elements()[0], labels=labels)\nplt.title('AE k-means (training data)')\nlogger.add_plt(plt.gcf())\nplt.show()"
      ]
    },
    {
      "cell_type": "code",
      "execution_count": null,
      "metadata": {
        "collapsed": false
      },
      "outputs": [],
      "source": [
        "# Table\nwith warnings.catch_warnings():\n    warnings.simplefilter(\"ignore\")\n\n    mapping = {0: 'Female', 1: 'Male'}\n    table_df = test.replace({'gender': mapping})\n\n    table_df['cluster'] = clusters_test\n\ncolumns = info_feat+data_feat\nnonnormal = list(table_df[columns].select_dtypes(include='number').columns)\ncategorical = list(set(columns).difference(set(nonnormal)))\ncolumns = sorted(categorical) + sorted(nonnormal)\n\nrename = {'haematocrit_percent': 'hct',\n          'body_temperature': 'temperature'}\n\ntable = TableOne(table_df, columns=columns, categorical=categorical, nonnormal=nonnormal,\n                 groupby='cluster', rename=rename, missing=False)\n\nhtml = formatTable(table, colours, labels)\nlogger.append_html(html.render())\nhtml"
      ]
    },
    {
      "cell_type": "code",
      "execution_count": null,
      "metadata": {
        "collapsed": false
      },
      "outputs": [],
      "source": [
        "fig, html = plotBox(data=test_info,\n                    features=info_feat,\n                    clusters=clusters_test,\n                    colours=colours,\n                    title=\"Attributes not used in training\",\n                    )\nlogger.append_html(html)\nfig"
      ]
    },
    {
      "cell_type": "code",
      "execution_count": null,
      "metadata": {
        "collapsed": false
      },
      "outputs": [],
      "source": [
        "fig, html = plotBox(data=test_data,\n                    features=data_feat,\n                    clusters=clusters_test,\n                    colours=colours,\n                    title=\"Attributes used in training\",\n                    )\nlogger.append_html(html)\nfig"
      ]
    },
    {
      "cell_type": "markdown",
      "metadata": {},
      "source": [
        "## Logging\n\n"
      ]
    },
    {
      "cell_type": "code",
      "execution_count": null,
      "metadata": {
        "collapsed": false
      },
      "outputs": [],
      "source": [
        "# Log parameters\nlogger.save_parameters(\n    {\n        'SEED': SEED,\n        'N_CLUSTERS': N_CLUSTERS,\n        'device': str(device),\n        'num_epochs': num_epochs,\n        'learning_rate': learning_rate,\n        'batch_size': batch_size,\n        'latent_dim': latent_dim,\n        'input_size':input_size,\n        'layers':layers,\n        'features': features,\n        'info_feat': info_feat,\n        'data_feat': data_feat\n    }\n)\n\nlogger.create_report()"
      ]
    }
  ],
  "metadata": {
    "kernelspec": {
      "display_name": "Python 3",
      "language": "python",
      "name": "python3"
    },
    "language_info": {
      "codemirror_mode": {
        "name": "ipython",
        "version": 3
      },
      "file_extension": ".py",
      "mimetype": "text/x-python",
      "name": "python",
      "nbconvert_exporter": "python",
      "pygments_lexer": "ipython3",
      "version": "3.8.5"
    }
  },
  "nbformat": 4,
  "nbformat_minor": 0
}