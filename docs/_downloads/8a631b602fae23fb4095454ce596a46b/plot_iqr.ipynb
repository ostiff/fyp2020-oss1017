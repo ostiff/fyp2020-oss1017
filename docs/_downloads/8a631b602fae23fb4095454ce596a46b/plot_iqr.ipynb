{
  "cells": [
    {
      "cell_type": "code",
      "execution_count": null,
      "metadata": {
        "collapsed": false
      },
      "outputs": [],
      "source": [
        "%matplotlib inline"
      ]
    },
    {
      "cell_type": "markdown",
      "metadata": {},
      "source": [
        "\n# IQR Transformer\n"
      ]
    },
    {
      "cell_type": "code",
      "execution_count": null,
      "metadata": {
        "collapsed": false
      },
      "outputs": [],
      "source": [
        "# Sklearn libraries\nfrom sklearn.base import BaseEstimator\nfrom sklearn.base import TransformerMixin\n\n# --------------------------------------------------------------------------\n#                       Inter-Quantile Range filter\n# --------------------------------------------------------------------------\nclass IQRTransformer(BaseEstimator, TransformerMixin):\n    \"\"\"Description...\n\n    .. note: Does it make to do it for different classes?\n    .. note: __repr__ using scikits methods?\n    \"\"\"\n\n    def __init__(self, iqrrange=[25, 75], coefficient=1.5):\n        \"\"\"The constructor\"\"\"\n        self.iqrrange = iqrrange\n        self.coefficient = coefficient\n        self.lower_coefs_ = None\n        self.upper_coefs_ = None\n\n    def __repr__(self):\n        \"\"\"The representation\"\"\"\n        return \"IQRFilter(iqrrange=%s, coefficient=%s)\" % \\\n               (self.iqrrange, self.coefficient)\n\n    # --------------------------\n    # helper methods\n    # --------------------------\n    def _fit(self, X, y=None):\n        \"\"\"This method computes the lower and upper percentiles\n        \"\"\"\n        # Compute lower and uper quartiles\n        lower_quartiles, upper_quartiles = \\\n            np.nanpercentile(X, self.iqrrange, axis=0)\n\n        # Compute the interquantile range\n        iqrs = (upper_quartiles - lower_quartiles) * self.coefficient\n\n        # Set parameters\n        return lower_quartiles - iqrs, upper_quartiles + iqrs\n\n    def _transform(self, X, y=None):\n        \"\"\"This method filters single category.\n\n        Parameters\n        ----------\n        X :\n\n        Returns\n        -------\n        np.ndarray\n        \"\"\"\n        # Copy X\n        F = np.copy(X)\n\n        # Indexes\n        is_lower = F < self.lower_coefs_[0, :]\n        is_upper = F > self.upper_coefs_[0, :]\n\n        # Filter\n        F[is_lower | is_upper] = np.nan\n\n        # Return\n        return F\n\n    # --------------------------\n    # main methods\n    # --------------------------\n    def fit(self, X, y=None):\n        \"\"\"This method fits single category.\n\n        Parameters\n        ----------\n        X :\n\n        Returns\n        -------\n        IQRFIlter instance\n        \"\"\"\n        # Create the array coefficients\n        self.lower_coefs_, self.upper_coefs_ = self._fit(X)\n\n        # Format to array\n        self.lower_coefs_ = self.lower_coefs_.reshape(1, -1)\n        self.upper_coefs_ = self.upper_coefs_.reshape(1, -1)\n\n        # Return\n        return self\n\n    def transform(self, X, y=None):\n        \"\"\" This method...\n        \"\"\"\n        # The object has not been previously fitted\n        if self.lower_coefs_ is None or self.upper_coefs_ is None:\n            raise TypeError(\"The instance IQRFilter has not been fitted.\")\n\n        # Return\n        return self._transform(X, y)\n\n\nif __name__ == '__main__':\n\n    # Import\n    import numpy as np\n    import warnings\n\n    # Import specific\n    from sklearn.datasets import make_classification\n\n    # ------------------------------------\n    # basic configuration\n    # ------------------------------------\n    # Ignore all the warnings\n    warnings.simplefilter('ignore')\n\n    # Set print options\n    np.set_printoptions(precision=2)\n\n    # ------------------------------------\n    # create data\n    # ------------------------------------\n    # Create feature data\n    data = np.array([[1, 2, 3, 4],\n                     [5, 6, 7, 8],\n                     [9, 1, 2, 3],\n                     [1, 2, 3, 4],\n                     [1, 2, 3, 3],\n                     [3, 7, 3, 4],\n                     [1, 2, 3, 3],\n                     [3, 7, 3, 4],\n                     [1, 2, 3, 4],\n                     [3, 6, 3, 4],\n                     [2, 2, -55, 55]], np.float64)\n\n    # Create categories\n    y = np.array([1, 1, 1, 1, 1, 1, 0, 0, 0, 0, 0])\n\n    # --------------\n    # IQR filtering\n    # --------------\n    # Create filter object\n    iqr = IQRTransformer(iqrrange=[25, 75], coefficient=1.5)\n\n    # .. note: There is no need to pass y, it is just for\n    #          compatibility with other transformers.\n\n    # Fit and transform\n    print(\"\\nOriginal:\")\n    print(data)\n    print(\"\\nTransformed:\")\n    print(iqr.fit_transform(data))\n    print(\"\\nTransformed:\")\n    print(iqr.fit_transform(data, y))"
      ]
    }
  ],
  "metadata": {
    "kernelspec": {
      "display_name": "Python 3",
      "language": "python",
      "name": "python3"
    },
    "language_info": {
      "codemirror_mode": {
        "name": "ipython",
        "version": 3
      },
      "file_extension": ".py",
      "mimetype": "text/x-python",
      "name": "python",
      "nbconvert_exporter": "python",
      "pygments_lexer": "ipython3",
      "version": "3.8.5"
    }
  },
  "nbformat": 4,
  "nbformat_minor": 0
}