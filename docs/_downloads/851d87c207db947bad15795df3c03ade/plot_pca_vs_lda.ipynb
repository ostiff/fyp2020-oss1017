{
  "cells": [
    {
      "cell_type": "code",
      "execution_count": null,
      "metadata": {
        "collapsed": false
      },
      "outputs": [],
      "source": [
        "%matplotlib inline"
      ]
    },
    {
      "cell_type": "markdown",
      "metadata": {},
      "source": [
        "\n# PCA vs. LDA\n\n2D to 1D with two classes.\n"
      ]
    },
    {
      "cell_type": "code",
      "execution_count": null,
      "metadata": {
        "collapsed": false
      },
      "outputs": [],
      "source": [
        "import pandas as pd\nimport seaborn as sns\nimport matplotlib.pyplot as plt\n\nfrom sklearn.preprocessing import StandardScaler\nfrom sklearn.decomposition import PCA\nfrom sklearn.discriminant_analysis import LinearDiscriminantAnalysis\n\n# Import data\ndf = pd.read_csv('data.csv')\nX = df[['x', 'y']].to_numpy()\nlabels = df['label'].to_numpy()\nX = StandardScaler().fit_transform(X)\n\n# PCA: Get PC and transformed data\npca = PCA(n_components=1).fit(X)\npc_data = pca.transform(X).flatten()\npc = pca.components_[0]\n\n# LDA: Get LD line and transformed data\nlda = LinearDiscriminantAnalysis(n_components=1).fit(X, labels)\nld_data = lda.transform(X).flatten()\nld = lda.scalings_.flatten()\n\n# PLot data\nplot = sns.JointGrid()\nsns.scatterplot(x=X[:,0], y=X[:,1], hue=labels, ax=plot.ax_joint)\nsns.kdeplot(x=pc_data, ax=plot.ax_marg_x)\nsns.kdeplot(y=-ld_data, hue=labels, ax=plot.ax_marg_y)\n\nplot.ax_joint.axline((0,0), pc, linewidth=2)\nplot.ax_joint.axline((0,0), ld, linewidth=2)\n\nplt.show()"
      ]
    }
  ],
  "metadata": {
    "kernelspec": {
      "display_name": "Python 3",
      "language": "python",
      "name": "python3"
    },
    "language_info": {
      "codemirror_mode": {
        "name": "ipython",
        "version": 3
      },
      "file_extension": ".py",
      "mimetype": "text/x-python",
      "name": "python",
      "nbconvert_exporter": "python",
      "pygments_lexer": "ipython3",
      "version": "3.8.5"
    }
  },
  "nbformat": 4,
  "nbformat_minor": 0
}