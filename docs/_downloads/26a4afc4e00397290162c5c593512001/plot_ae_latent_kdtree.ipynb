{
  "cells": [
    {
      "cell_type": "code",
      "execution_count": null,
      "metadata": {
        "collapsed": false
      },
      "outputs": [],
      "source": [
        "%matplotlib inline"
      ]
    },
    {
      "cell_type": "markdown",
      "metadata": {},
      "source": [
        "\n# KDTree for fast retrieval of nearest neighbours\n\nModel: Simple auto-encoder.\n\n.. todo:: Document example\n"
      ]
    },
    {
      "cell_type": "code",
      "execution_count": null,
      "metadata": {
        "collapsed": false
      },
      "outputs": [],
      "source": [
        "import os\nimport pandas as pd\nimport numpy as np\nimport pickle\nfrom torch.utils.data import DataLoader\nfrom sklearn.model_selection import train_test_split\nfrom sklearn import preprocessing\nfrom sklearn.neighbors import KDTree\nimport matplotlib.pyplot as plt\nfrom matplotlib.colors import ListedColormap\nfrom tableone import TableOne\n\nfrom pkgname.core.AE.vae import get_device, set_seed\nfrom pkgname.utils.data_loader import load_dengue, IQR_rule\nfrom pkgname.utils.plot_utils import plotBox, formatTable\nfrom pkgname.utils.log_utils import Logger\nfrom definitions import ROOT_DIR\n\nlogger = Logger('KDTree_VAE_Dengue', enable=True)\n\nSEED = 0\nbatch_size = 16\nMODEL_PATH = os.path.join(ROOT_DIR, 'examples', 'autoencoder', 'model')\nLEAF_SIZE = 40\n\n\n# Set seed\nset_seed(SEED)\n\n# Get device\ndevice = get_device(False)\n\nfeatures = [\"dsource\",\"date\", \"age\", \"gender\", \"weight\", \"bleeding\", \"plt\",\n            \"shock\", \"haematocrit_percent\", \"bleeding_gum\", \"abdominal_pain\",\n            \"ascites\", \"bleeding_mucosal\", \"bleeding_skin\", \"body_temperature\"]\n\ndf = load_dengue(usecols=['study_no']+features)\n\nfor feat in features:\n    df[feat] = df.groupby('study_no')[feat].ffill().bfill()\n\ndf = df.loc[df['age'] <= 18]\ndf = df.dropna()\n\ndf = df.groupby(by=\"study_no\", dropna=False).agg(\n    dsource=pd.NamedAgg(column=\"dsource\", aggfunc=\"last\"),\n    date=pd.NamedAgg(column=\"date\", aggfunc=\"last\"),\n    age=pd.NamedAgg(column=\"age\", aggfunc=\"max\"),\n    gender=pd.NamedAgg(column=\"gender\", aggfunc=\"first\"),\n    weight=pd.NamedAgg(column=\"weight\", aggfunc=np.mean),\n    bleeding=pd.NamedAgg(column=\"bleeding\", aggfunc=\"max\"),\n    plt=pd.NamedAgg(column=\"plt\", aggfunc=\"min\"),\n    shock=pd.NamedAgg(column=\"shock\", aggfunc=\"max\"),\n    haematocrit_percent=pd.NamedAgg(column=\"haematocrit_percent\", aggfunc=\"max\"),\n    bleeding_gum=pd.NamedAgg(column=\"bleeding_gum\", aggfunc=\"max\"),\n    abdominal_pain=pd.NamedAgg(column=\"abdominal_pain\", aggfunc=\"max\"),\n    ascites=pd.NamedAgg(column=\"ascites\", aggfunc=\"max\"),\n    bleeding_mucosal=pd.NamedAgg(column=\"bleeding_mucosal\", aggfunc=\"max\"),\n    bleeding_skin=pd.NamedAgg(column=\"bleeding_skin\", aggfunc=\"max\"),\n    body_temperature=pd.NamedAgg(column=\"body_temperature\", aggfunc=np.mean),\n).dropna()\n\ndf = IQR_rule(df, ['plt'])\n\nmapping = {'Female': 0, 'Male': 1}\ndf = df.replace({'gender': mapping})\n\ninfo_feat = [\"dsource\", \"shock\", \"bleeding\", \"bleeding_gum\", \"abdominal_pain\", \"ascites\",\n           \"bleeding_mucosal\", \"bleeding_skin\", \"gender\"]\ndata_feat = [\"age\", \"weight\", \"plt\", \"haematocrit_percent\", \"body_temperature\"]\n\n\ntrain, test = train_test_split(df, test_size=0.2, random_state=SEED)\n\ntrain_data = train[data_feat]\ntest_data = test[data_feat]\ntrain_info = train[info_feat]\ntest_info = test[info_feat]\n\nscaler = preprocessing.MinMaxScaler().fit(train_data)\n\ntrain_scaled = scaler.transform(train_data.to_numpy())\ntest_scaled = scaler.transform(test_data.to_numpy())\n\nloader_train = DataLoader(train_scaled, batch_size, shuffle=True)\nloader_test = DataLoader(test_scaled, batch_size, shuffle=False)"
      ]
    },
    {
      "cell_type": "markdown",
      "metadata": {},
      "source": [
        "## Encode test inputs\n\n\n"
      ]
    },
    {
      "cell_type": "code",
      "execution_count": null,
      "metadata": {
        "collapsed": false
      },
      "outputs": [],
      "source": [
        "model = pickle.load(open(MODEL_PATH, 'rb'))\nencoded_test = model.encode_inputs(loader_test)\nplt.scatter(encoded_test[:, 0], encoded_test[:, 1])\nplt.title(\"Encoded testset\")\nlogger.add_plt(plt.gcf())\nplt.show()"
      ]
    },
    {
      "cell_type": "markdown",
      "metadata": {},
      "source": [
        "## KDTree\nHighlighted: k points closest to selected point.\n\n"
      ]
    },
    {
      "cell_type": "code",
      "execution_count": null,
      "metadata": {
        "collapsed": false
      },
      "outputs": [],
      "source": [
        "tree = KDTree(encoded_test, leaf_size=LEAF_SIZE)\nidx = tree.query(encoded_test[:1], k=100, return_distance=False)\n\nc = [1 if (i in idx) else 0 for i in range(len(encoded_test))]\n\nplt.scatter(encoded_test[:, 0], encoded_test[:, 1], c=c)\nplt.title(\"Encoded testset\")\nlogger.add_plt(plt.gcf())\nplt.show()"
      ]
    },
    {
      "cell_type": "code",
      "execution_count": null,
      "metadata": {
        "collapsed": false
      },
      "outputs": [],
      "source": [
        "# Table\n\nmapping = {0: 'Female', 1: 'Male'}\ntable_df = test.replace({'gender': mapping})\n\ntable_df['cluster'] = c\n\ncolumns = info_feat+data_feat\nnonnormal = list(table_df[columns].select_dtypes(include='number').columns)\ncategorical = list(set(columns).difference(set(nonnormal)))\ncolumns = sorted(categorical) + sorted(nonnormal)\n\nrename = {'haematocrit_percent': 'hct',\n          'body_temperature': 'temperature'}\n\ntable = TableOne(table_df, columns=columns, categorical=categorical, nonnormal=nonnormal,\n                 groupby='cluster', rename=rename, missing=False)\n\nhtml = formatTable(table, [\"red\", \"blue\"], [\"Not selected\", \"Selected\"])\nlogger.append_html(html.render())\nhtml"
      ]
    },
    {
      "cell_type": "markdown",
      "metadata": {},
      "source": [
        "## Logging\n\n"
      ]
    },
    {
      "cell_type": "code",
      "execution_count": null,
      "metadata": {
        "collapsed": false
      },
      "outputs": [],
      "source": [
        "# Log parameters\nlogger.save_parameters(\n    {\n        'SEED': SEED,\n        'model_path': MODEL_PATH,\n        'leaf_size': LEAF_SIZE,\n        'device': str(device),\n        'batch_size': batch_size,\n        'features': features,\n        'info_feat': info_feat,\n        'data_feat': data_feat\n    }\n)\n\nlogger.create_report()"
      ]
    }
  ],
  "metadata": {
    "kernelspec": {
      "display_name": "Python 3",
      "language": "python",
      "name": "python3"
    },
    "language_info": {
      "codemirror_mode": {
        "name": "ipython",
        "version": 3
      },
      "file_extension": ".py",
      "mimetype": "text/x-python",
      "name": "python",
      "nbconvert_exporter": "python",
      "pygments_lexer": "ipython3",
      "version": "3.8.5"
    }
  },
  "nbformat": 4,
  "nbformat_minor": 0
}