{
  "cells": [
    {
      "cell_type": "code",
      "execution_count": null,
      "metadata": {
        "collapsed": false
      },
      "outputs": [],
      "source": [
        "%matplotlib inline"
      ]
    },
    {
      "cell_type": "markdown",
      "metadata": {},
      "source": [
        "\n# t-SNE: Dengue dataset\n\n..............\n"
      ]
    },
    {
      "cell_type": "code",
      "execution_count": null,
      "metadata": {
        "collapsed": false
      },
      "outputs": [],
      "source": [
        "# Libraries\nimport pandas as pd\nimport numpy as np\nfrom sklearn.manifold import TSNE\nfrom sklearn.cluster import DBSCAN\nfrom sklearn import preprocessing\nimport matplotlib.pyplot as plt\n\nfrom pkgname.utils.data_loader import load_dengue\npd.set_option('display.max_columns', None)\n\n\nSEED = 0\nnp.random.seed(SEED)"
      ]
    },
    {
      "cell_type": "markdown",
      "metadata": {},
      "source": [
        "## Dataset\n\nLoad dengue dataset. Perform forward and backwards fill after grouping by patient.\nDoes not make use of the `d001` dataset because it does not contain: `abdominal_pain`,\n`bleeding_mucosal`, `bleeding_skin`, `body_temperature`.\nTo reduce computation time aggregate patient data to only have one tuple per patient.\n\n"
      ]
    },
    {
      "cell_type": "code",
      "execution_count": null,
      "metadata": {
        "collapsed": false
      },
      "outputs": [],
      "source": [
        "df = load_dengue(usedefault=True)\n\nmapping = {'Female': 1, 'Male': 2, True: 1, False: 0}\ndf = df.replace({'gender': mapping, 'bleeding': mapping, 'shock': mapping,\n                 'bleeding_gum': mapping, 'abdominal_pain': mapping, 'ascites': mapping,\n                 'bleeding_mucosal': mapping, 'bleeding_skin': mapping})\n\nfeatures = [\"date\", \"age\", \"gender\", \"weight\", \"bleeding\", \"plt\",\n            \"shock\", \"haematocrit_percent\", \"bleeding_gum\", \"abdominal_pain\",\n            \"ascites\", \"bleeding_mucosal\", \"bleeding_skin\", \"body_temperature\"]\n\nfor feat in features:\n    df[feat] = df.groupby('study_no')[feat].ffill().bfill()\n\ndf = df.loc[df['age'] <= 18]\ndf = df.dropna()\n\ndf = df.groupby(by=\"study_no\", dropna=False).agg(\n    date=pd.NamedAgg(column=\"date\", aggfunc=\"last\"),\n    age=pd.NamedAgg(column=\"age\", aggfunc=\"max\"),\n    gender=pd.NamedAgg(column=\"gender\", aggfunc=\"first\"),\n    weight=pd.NamedAgg(column=\"weight\", aggfunc=np.mean),\n    bleeding=pd.NamedAgg(column=\"bleeding\", aggfunc=\"max\"),\n    plt=pd.NamedAgg(column=\"plt\", aggfunc=\"max\"),\n    shock=pd.NamedAgg(column=\"shock\", aggfunc=\"max\"),\n    haematocrit_percent=pd.NamedAgg(column=\"haematocrit_percent\", aggfunc=\"max\"),\n    bleeding_gum=pd.NamedAgg(column=\"bleeding_gum\", aggfunc=\"max\"),\n    abdominal_pain=pd.NamedAgg(column=\"abdominal_pain\", aggfunc=\"max\"),\n    ascites=pd.NamedAgg(column=\"ascites\", aggfunc=\"max\"),\n    bleeding_mucosal=pd.NamedAgg(column=\"bleeding_mucosal\", aggfunc=\"max\"),\n    bleeding_skin=pd.NamedAgg(column=\"bleeding_skin\", aggfunc=\"max\"),\n    body_temperature=pd.NamedAgg(column=\"body_temperature\", aggfunc=np.mean),\n).dropna()"
      ]
    },
    {
      "cell_type": "markdown",
      "metadata": {},
      "source": [
        "## t-SNE\n\nUse t-SNE on the z-score scaled data.\n\n"
      ]
    },
    {
      "cell_type": "code",
      "execution_count": null,
      "metadata": {
        "collapsed": false
      },
      "outputs": [],
      "source": [
        "info = df[[\"date\", \"age\", \"gender\", \"weight\"]]\ndata = df[[\"bleeding\", \"plt\",\n            \"shock\", \"haematocrit_percent\", \"bleeding_gum\", \"abdominal_pain\",\n            \"ascites\", \"bleeding_mucosal\", \"bleeding_skin\", \"body_temperature\"]]\n\nscaler = preprocessing.StandardScaler()\nx = scaler.fit_transform(data.values)\n\nX_embedded = TSNE(n_components=2, perplexity=500, random_state=SEED).fit_transform(x)"
      ]
    },
    {
      "cell_type": "markdown",
      "metadata": {},
      "source": [
        "## DBSCAN\n\nIdentify clusters using DBSCAN\n\n"
      ]
    },
    {
      "cell_type": "code",
      "execution_count": null,
      "metadata": {
        "collapsed": false
      },
      "outputs": [],
      "source": [
        "clustering = DBSCAN(eps=10, min_samples=5).fit(X_embedded)"
      ]
    },
    {
      "cell_type": "markdown",
      "metadata": {},
      "source": [
        "## Plotting\n\n"
      ]
    },
    {
      "cell_type": "code",
      "execution_count": null,
      "metadata": {
        "collapsed": false
      },
      "outputs": [],
      "source": [
        "plt.scatter(X_embedded[:,0], X_embedded[:,1], c=clustering.labels_)\nplt.title('t-SNE + DBSCAN')\nplt.show()\n\ninfo['cluster'] = clustering.labels_\n\n_, ax0 = plt.subplots(3, 1, figsize=(5, 15))\ninfo.boxplot('age','cluster', ax=ax0[0])\ninfo.boxplot('gender','cluster', ax=ax0[1])\ninfo.boxplot('weight','cluster', ax=ax0[2])\nplt.show()\n\nstats = info.groupby(by=\"cluster\", dropna=False).agg(\n    age=pd.NamedAgg(column=\"age\", aggfunc=np.mean),\n    gender=pd.NamedAgg(column=\"gender\", aggfunc=np.mean),\n    weight=pd.NamedAgg(column=\"weight\", aggfunc=np.mean),\n)\n\nprint(stats)\n\n\ndata['cluster'] = clustering.labels_\n\n_, ax1 = plt.subplots(10, 1, figsize=(5, 50))\n\nfeatures = [\"bleeding\", \"plt\", \"shock\", \"haematocrit_percent\", \"bleeding_gum\",\n            \"abdominal_pain\", \"ascites\", \"bleeding_mucosal\", \"bleeding_skin\",\n            \"body_temperature\"]\n\nfor i, feat in enumerate(features):\n    print(feat)\n    data.boxplot(feat,'cluster', ax=ax1[i])\n\nplt.show()"
      ]
    }
  ],
  "metadata": {
    "kernelspec": {
      "display_name": "Python 3",
      "language": "python",
      "name": "python3"
    },
    "language_info": {
      "codemirror_mode": {
        "name": "ipython",
        "version": 3
      },
      "file_extension": ".py",
      "mimetype": "text/x-python",
      "name": "python",
      "nbconvert_exporter": "python",
      "pygments_lexer": "ipython3",
      "version": "3.8.5"
    }
  },
  "nbformat": 4,
  "nbformat_minor": 0
}