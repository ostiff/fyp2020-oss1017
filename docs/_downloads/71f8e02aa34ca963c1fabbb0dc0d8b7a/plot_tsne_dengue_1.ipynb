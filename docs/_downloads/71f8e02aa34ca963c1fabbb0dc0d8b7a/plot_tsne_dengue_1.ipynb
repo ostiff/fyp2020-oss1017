{
  "cells": [
    {
      "cell_type": "code",
      "execution_count": null,
      "metadata": {
        "collapsed": false
      },
      "outputs": [],
      "source": [
        "%matplotlib inline"
      ]
    },
    {
      "cell_type": "markdown",
      "metadata": {},
      "source": [
        "\n# t-SNE: Dengue dataset 1\n\nTraining attributes: `bleeding`, `plt`, `shock`, `haematocrit_percent`,\n `bleeding_gum`, `abdominal_pain`, `ascites`, `bleeding_mucosal`,\n  `bleeding_skin`, `body_temperature`.\n\nAttributes used in cluster comparison: `age`, `gender`, `weight`.\n"
      ]
    },
    {
      "cell_type": "code",
      "execution_count": null,
      "metadata": {
        "collapsed": false
      },
      "outputs": [],
      "source": [
        "# Libraries\nimport pandas as pd\nimport numpy as np\nimport warnings\nfrom sklearn.manifold import TSNE\nfrom sklearn.cluster import DBSCAN\nfrom sklearn import preprocessing\nimport matplotlib.pyplot as plt\nfrom matplotlib.colors import ListedColormap\nfrom tableone import TableOne\n\nfrom pkgname.utils.data_loader import load_dengue\nfrom pkgname.utils.plot_utils import plotBox, formatTable\n\npd.set_option('display.max_columns', None)\n\n\nSEED = 0\nnp.random.seed(SEED)"
      ]
    },
    {
      "cell_type": "markdown",
      "metadata": {},
      "source": [
        "## Dataset\n\nLoad dengue dataset. Perform forward and backwards fill after grouping by patient.\nDoes not make use of the `d001` dataset because it does not contain: `abdominal_pain`,\n`bleeding_mucosal`, `bleeding_skin`, `body_temperature`.\nTo reduce computation time aggregate patient data to only have one tuple per patient.\n\n"
      ]
    },
    {
      "cell_type": "code",
      "execution_count": null,
      "metadata": {
        "collapsed": false
      },
      "outputs": [],
      "source": [
        "df = load_dengue(usedefault=True)\n\nfeatures = [\"date\", \"age\", \"gender\", \"weight\", \"bleeding\", \"plt\",\n            \"shock\", \"haematocrit_percent\", \"bleeding_gum\", \"abdominal_pain\",\n            \"ascites\", \"bleeding_mucosal\", \"bleeding_skin\", \"body_temperature\"]\n\nfor feat in features:\n    df[feat] = df.groupby('study_no')[feat].ffill().bfill()\n\ndf = df.loc[df['age'] <= 18]\ndf = df.dropna()\n\ndf = df.groupby(by=\"study_no\", dropna=False).agg(\n    date=pd.NamedAgg(column=\"date\", aggfunc=\"last\"),\n    age=pd.NamedAgg(column=\"age\", aggfunc=\"max\"),\n    gender=pd.NamedAgg(column=\"gender\", aggfunc=\"first\"),\n    weight=pd.NamedAgg(column=\"weight\", aggfunc=np.mean),\n    bleeding=pd.NamedAgg(column=\"bleeding\", aggfunc=\"max\"),\n    plt=pd.NamedAgg(column=\"plt\", aggfunc=\"max\"),\n    shock=pd.NamedAgg(column=\"shock\", aggfunc=\"max\"),\n    haematocrit_percent=pd.NamedAgg(column=\"haematocrit_percent\", aggfunc=\"max\"),\n    bleeding_gum=pd.NamedAgg(column=\"bleeding_gum\", aggfunc=\"max\"),\n    abdominal_pain=pd.NamedAgg(column=\"abdominal_pain\", aggfunc=\"max\"),\n    ascites=pd.NamedAgg(column=\"ascites\", aggfunc=\"max\"),\n    bleeding_mucosal=pd.NamedAgg(column=\"bleeding_mucosal\", aggfunc=\"max\"),\n    bleeding_skin=pd.NamedAgg(column=\"bleeding_skin\", aggfunc=\"max\"),\n    body_temperature=pd.NamedAgg(column=\"body_temperature\", aggfunc=np.mean),\n).dropna()\n\nmapping = {'Female': 0, 'Male': 1}\nbefore_mapping = df\ndf = df.replace({'gender': mapping})"
      ]
    },
    {
      "cell_type": "markdown",
      "metadata": {},
      "source": [
        "## t-SNE\n\nUse t-SNE on the z-score scaled data.\n\n"
      ]
    },
    {
      "cell_type": "code",
      "execution_count": null,
      "metadata": {
        "collapsed": false
      },
      "outputs": [],
      "source": [
        "info_feat = [\"age\", \"gender\", \"weight\"]\ndata_feat = [\"bleeding\", \"plt\",\n            \"shock\", \"haematocrit_percent\", \"bleeding_gum\", \"abdominal_pain\",\n            \"ascites\", \"bleeding_mucosal\", \"bleeding_skin\", \"body_temperature\"]\n\ninfo = df[info_feat]\ndata = df[data_feat]\n\nscaler = preprocessing.StandardScaler()\nx = scaler.fit_transform(data.values)\n\nX_embedded = TSNE(n_components=2, perplexity=500,\n                  random_state=SEED, n_jobs=-1).fit_transform(x)"
      ]
    },
    {
      "cell_type": "markdown",
      "metadata": {},
      "source": [
        "## DBSCAN\n\nIdentify clusters using DBSCAN\n\n"
      ]
    },
    {
      "cell_type": "code",
      "execution_count": null,
      "metadata": {
        "collapsed": false
      },
      "outputs": [],
      "source": [
        "clustering = DBSCAN(eps=10, min_samples=5).fit(X_embedded)\noutliers = -1 in clustering.labels_\nclusters = [x+1 for x in clustering.labels_] if outliers else clustering.labels_"
      ]
    },
    {
      "cell_type": "markdown",
      "metadata": {},
      "source": [
        "## Plotting\n\n"
      ]
    },
    {
      "cell_type": "code",
      "execution_count": null,
      "metadata": {
        "collapsed": false
      },
      "outputs": [],
      "source": [
        "N_CLUSTERS = len(set(clusters))\n\ncolours = [\"red\", \"blue\", \"limegreen\", \"orangered\", \"yellow\",\n           \"violet\", \"salmon\", \"slategrey\", \"green\", \"crimson\"][:N_CLUSTERS]\n\nscatter = plt.scatter(X_embedded[:,0], X_embedded[:,1], c=clusters, cmap=ListedColormap(colours))\n\nif outliers:\n    labels = [\"Outliers\"] + [f\"Cluster {i}\" for i in range(N_CLUSTERS-1)]\nelse:\n    labels= [f\"Cluster {i}\" for i in range(N_CLUSTERS)]\n\nplt.legend(handles=scatter.legend_elements()[0], labels=labels)\nplt.title('t-SNE + DBSCAN')\nplt.show()"
      ]
    },
    {
      "cell_type": "markdown",
      "metadata": {},
      "source": [
        "## Cluster analysis\n\nTable\n\n"
      ]
    },
    {
      "cell_type": "code",
      "execution_count": null,
      "metadata": {
        "collapsed": false
      },
      "outputs": [],
      "source": [
        "with warnings.catch_warnings():\n    warnings.simplefilter(\"ignore\")\n\n    before_mapping['cluster'] = clusters\n\ncolumns = info_feat+data_feat\nnonnormal = list(before_mapping[columns].select_dtypes(include='number').columns)\ncategorical = list(set(columns).difference(set(nonnormal)))\ncolumns = sorted(categorical) + sorted(nonnormal)\n\nrename = {'haematocrit_percent': 'hct',\n          'body_temperature': 'temperature'}\n\ntable = TableOne(before_mapping, columns=columns, categorical=categorical, nonnormal=nonnormal,\n                 groupby='cluster', rename=rename, missing=False)\n\nhtml = formatTable(table, colours, labels)\nhtml"
      ]
    },
    {
      "cell_type": "markdown",
      "metadata": {},
      "source": [
        "These attributes were not used to train the model.\n\n"
      ]
    },
    {
      "cell_type": "code",
      "execution_count": null,
      "metadata": {
        "collapsed": false
      },
      "outputs": [],
      "source": [
        "fig = plotBox(data=info,\n              features=info_feat,\n              clusters=clusters,\n              colours=colours,\n              labels=labels,\n              title=\"Attributes not used in training\",\n              #path=\"a.html\"\n              )\nfig"
      ]
    },
    {
      "cell_type": "markdown",
      "metadata": {},
      "source": [
        "The following attributes were used to train the model.\n\n"
      ]
    },
    {
      "cell_type": "code",
      "execution_count": null,
      "metadata": {
        "collapsed": false
      },
      "outputs": [],
      "source": [
        "fig = plotBox(data=data,\n              features=data_feat,\n              clusters=clusters,\n              colours=colours,\n              labels=labels,\n              title=\"Attributes used in training\",\n              #path=\"b.html\"\n              )\nfig"
      ]
    }
  ],
  "metadata": {
    "kernelspec": {
      "display_name": "Python 3",
      "language": "python",
      "name": "python3"
    },
    "language_info": {
      "codemirror_mode": {
        "name": "ipython",
        "version": 3
      },
      "file_extension": ".py",
      "mimetype": "text/x-python",
      "name": "python",
      "nbconvert_exporter": "python",
      "pygments_lexer": "ipython3",
      "version": "3.8.5"
    }
  },
  "nbformat": 4,
  "nbformat_minor": 0
}