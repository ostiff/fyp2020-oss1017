{
  "cells": [
    {
      "cell_type": "code",
      "execution_count": null,
      "metadata": {
        "collapsed": false
      },
      "outputs": [],
      "source": [
        "%matplotlib inline"
      ]
    },
    {
      "cell_type": "markdown",
      "metadata": {},
      "source": [
        "\n# SOM: Dengue dataset\n\n..TODO: Add description\n\nTraining attributes: `age`, `weight`, `plt`, `haematocrit_percent`,\n`body_temperature`.\n\nAttributes used in cluster comparison: `bleeding`, `shock`, `bleeding_gum`,\n`abdominal_pain`, `ascites`, `bleeding_mucosal`, `bleeding_skin`.\n"
      ]
    },
    {
      "cell_type": "code",
      "execution_count": null,
      "metadata": {
        "collapsed": false
      },
      "outputs": [],
      "source": [
        "import os\nimport sys\nsys.path.insert(0, os.path.abspath('.'))\nimport warnings\nimport pandas as pd\nimport numpy as np\nimport matplotlib.pyplot as plt\nfrom matplotlib import rcParams\nfrom matplotlib.colors import ListedColormap\nimport matplotlib.gridspec as gridspec\nfrom minisom import MiniSom\nfrom sklearn import preprocessing\nfrom sklearn.cluster import KMeans\nfrom tableone import TableOne\n\n# Utils\nfrom pkgname.utils.som_utils import diff_graph_hex, feature_maps, project_hex\nfrom pkgname.utils.data_loader import load_dengue, IQR_rule\nfrom pkgname.utils.plot_utils import plotBox, formatTable, colours\nfrom pkgname.utils.log_utils import Logger\nfrom pkgname.core.AE.autoencoder import set_seed\nfrom pkgname.utils.print_utils import suppress_stderr, suppress_stdout\nimport pkgname.core.evaluation.dr_evaluation as dr_evaluation\n\nimport matplotlib as mpl\n# mpl.use(\"pgf\")\nmpl.rcParams.update({\n    # \"pgf.texsystem\": \"pdflatex\",\n    'font.family': 'serif',\n    # 'text.usetex': True,\n    # 'font.size': 18,\n})\n\nlogger = Logger('SOM_Dengue', enable=False)\n\n# Configuration\nrcParams.update({'figure.autolayout': True})\n\nN_CLUSTERS = 3\nSOM_X_SIZE = 55\nSOM_Y_SIZE = 13\nSOM_SIGMA = 10\nSOM_lr = 0.25\nSOM_ACTIVATION_DIST = 'euclidean'\nSOM_NEIGHBOURHOOD = 'bubble'\nSEED = 0\nnp.random.seed(SEED)\nset_seed(SEED)\n\n# %-----------\n# Load dataset\n# ------------\n\nfeatures = [\"dsource\",\"date\", \"age\", \"gender\", \"weight\", \"bleeding\", \"plt\",\n            \"shock\", \"haematocrit_percent\", \"bleeding_gum\", \"abdominal_pain\",\n            \"ascites\", \"bleeding_mucosal\", \"bleeding_skin\", \"body_temperature\"]\n\ndf = load_dengue(usecols=['study_no']+features)\n\nfor feat in features:\n    df[feat] = df.groupby('study_no')[feat].ffill().bfill()\n\ndf = df.loc[df['age'] <= 18]\ndf = df.dropna()\n\ndf = df.groupby(by=\"study_no\", dropna=False).agg(\n    dsource=pd.NamedAgg(column=\"dsource\", aggfunc=\"last\"),\n    date=pd.NamedAgg(column=\"date\", aggfunc=\"last\"),\n    age=pd.NamedAgg(column=\"age\", aggfunc=\"max\"),\n    gender=pd.NamedAgg(column=\"gender\", aggfunc=\"first\"),\n    weight=pd.NamedAgg(column=\"weight\", aggfunc=np.mean),\n    bleeding=pd.NamedAgg(column=\"bleeding\", aggfunc=\"max\"),\n    plt=pd.NamedAgg(column=\"plt\", aggfunc=\"min\"),\n    shock=pd.NamedAgg(column=\"shock\", aggfunc=\"max\"),\n    haematocrit_percent=pd.NamedAgg(column=\"haematocrit_percent\", aggfunc=\"max\"),\n    bleeding_gum=pd.NamedAgg(column=\"bleeding_gum\", aggfunc=\"max\"),\n    abdominal_pain=pd.NamedAgg(column=\"abdominal_pain\", aggfunc=\"max\"),\n    ascites=pd.NamedAgg(column=\"ascites\", aggfunc=\"max\"),\n    bleeding_mucosal=pd.NamedAgg(column=\"bleeding_mucosal\", aggfunc=\"max\"),\n    bleeding_skin=pd.NamedAgg(column=\"bleeding_skin\", aggfunc=\"max\"),\n    body_temperature=pd.NamedAgg(column=\"body_temperature\", aggfunc=np.mean),\n).dropna()\n\ndf = IQR_rule(df, ['plt'])\n\nmapping = {'Female': 0, 'Male': 1}\nbefore_mapping = df.copy()\n\ndf = df.replace({'gender': mapping})\n\ninfo_feat = [\"shock\", \"bleeding\", \"bleeding_gum\", \"abdominal_pain\", \"ascites\",\n           \"bleeding_mucosal\", \"bleeding_skin\", \"gender\"]\ndata_feat = [\"age\", \"weight\", \"plt\", \"haematocrit_percent\", \"body_temperature\"]\n\ninfo = df[info_feat]\ndata = df[data_feat]\nprint('len', len(data.index))\nscaler = preprocessing.StandardScaler()\nx = scaler.fit_transform(data.values)\n\n# ----------------------\n# Train SOM\n# ----------------------\n# Create SOM\n\nwith suppress_stderr() and suppress_stdout():\n    som = MiniSom(SOM_X_SIZE, SOM_Y_SIZE, x.shape[1],\n        topology='hexagonal',\n        activation_distance=SOM_ACTIVATION_DIST,\n        neighborhood_function=SOM_NEIGHBOURHOOD,\n        sigma=SOM_SIGMA, learning_rate=SOM_lr,\n        random_seed=SEED)\n\n    # Train\n    som.pca_weights_init(x)\n    som.train_random(x, 1000000, verbose=True)\n\nprojected_points = project_hex(som, x)\n\nlogger.save_object(projected_points, \"som_embedded\")\n\ndiff_graph_hex(som, show=False, printout=False)\nplt.savefig('som_diff_graph.pdf', bbox_inches='tight')\nlogger.add_plt(plt.gcf())\nplt.show()\n\nfeature_maps(som, feature_names=data_feat, cols=2, show=False, printout=False)\nlogger.add_plt(plt.gcf())\nplt.show()\n\n# Evaluate dimensionality reduction\n# Distance metrics\nres, fig = dr_evaluation.distance_metrics(x, projected_points, n_points=1000, method_name='SOM', verbose=True)\nlogger.add_plt(plt.gcf(), ext='png')\nplt.show()\nlogger.add_parameters(res)\n\n# Density metrics\nres, fig = dr_evaluation.density_metrics(info, projected_points, [\"shock\", \"bleeding\", \"bleeding_gum\", \"abdominal_pain\", \"ascites\",\n           \"bleeding_mucosal\", \"bleeding_skin\"], 'SOM')\nlogger.add_plt(plt.gcf(), ext='png')\nplt.show()\nlogger.add_parameters(res)\n\n\n# ------------------------\n# Shock label distribution\n# ------------------------\nlabel_names = {False:'False', True:'True',0:'False', 1:'True'}\ntarget = info['shock'].to_numpy()\nlabels_map = som.labels_map(x, [label_names[t] for t in target])\n\nfig = plt.figure(figsize=(15, 4))\nthe_grid = gridspec.GridSpec(SOM_Y_SIZE, SOM_X_SIZE, fig)\nfor position in labels_map.keys():\n    label_fracs = [labels_map[position][l] for l in label_names.values()]\n    plt.subplot(the_grid[SOM_Y_SIZE-1-position[1],\n                         position[0]], aspect=1)\n    patches, texts = plt.pie(label_fracs)\nplt.subplots_adjust(wspace=0, hspace=0)\n\nplt.legend(patches, label_names.values(), bbox_to_anchor=(-25,-2), title=\"Shock\")\n# plt.savefig('som_shock_pies.pdf', dpi=300, bbox_inches='tight')\nplt.show()\n\n\n# ----------\n# Clustering\n# ----------\n\ncolours = colours[:N_CLUSTERS]\n\nproj = project_hex(som, x)\n\n# Perform clustering on encoded inputs\ncluster = KMeans(n_clusters=N_CLUSTERS, random_state=SEED).fit_predict(proj)\n\nlabels = [f\"Cluster {i}\" for i in range(1,N_CLUSTERS+1)]\n\nscatter = plt.scatter(proj[:, 0], proj[:, 1], c=cluster, cmap=ListedColormap(colours))\nplt.legend(handles=scatter.legend_elements()[0], labels=labels, loc=\"upper right\")\nplt.savefig('som_k_means.pdf', bbox_inches='tight')\nlogger.add_plt(plt.gcf())\nplt.show()"
      ]
    },
    {
      "cell_type": "code",
      "execution_count": null,
      "metadata": {
        "collapsed": false
      },
      "outputs": [],
      "source": [
        "# ----------------\n# Cluster analysis\n# ----------------\n#\n# Table\nwith warnings.catch_warnings():\n    warnings.simplefilter(\"ignore\")\n\n    before_mapping['cluster'] = cluster\n\ncolumns = info_feat+data_feat\nnonnormal = list(before_mapping[columns].select_dtypes(include='number').columns)\ncategorical = list(set(columns).difference(set(nonnormal))) + ['dsource']\ncolumns = sorted(categorical) + sorted(nonnormal)\n\nrename = {'haematocrit_percent': 'hct',\n          'body_temperature': 'temperature'}\n\ntable = TableOne(before_mapping, columns=columns, categorical=categorical, nonnormal=nonnormal,\n                 groupby='cluster', rename=rename, missing=False)\n\n\nhtml = formatTable(table, colours, labels)\nlogger.append_html(html.render())\nhtml"
      ]
    },
    {
      "cell_type": "markdown",
      "metadata": {},
      "source": [
        "These attributes were not used to train the model.\n\n"
      ]
    },
    {
      "cell_type": "code",
      "execution_count": null,
      "metadata": {
        "collapsed": false
      },
      "outputs": [],
      "source": [
        "fig, html = plotBox(data=info,\n                    features=info_feat,\n                    clusters=cluster,\n                    colours=colours,\n                    labels=labels,\n                    title=\"Attributes not used in training\",\n                    )\nlogger.append_html(html)\nfig"
      ]
    },
    {
      "cell_type": "markdown",
      "metadata": {},
      "source": [
        "The following attributes were used to train the model.\n\n"
      ]
    },
    {
      "cell_type": "code",
      "execution_count": null,
      "metadata": {
        "collapsed": false
      },
      "outputs": [],
      "source": [
        "fig, html = plotBox(data=data,\n                    features=data_feat,\n                    clusters=cluster,\n                    colours=colours,\n                    labels=labels,\n                    title=\"Attributes used in training\",\n                    )\nlogger.append_html(html)\nfig\n\n\nlogger.save_parameters(\n    {\n        'SEED': SEED,\n        'features': features,\n        'info_feat': info_feat,\n        'data_feat': data_feat,\n        'SOM_X_SIZE': SOM_X_SIZE,\n        'SOM_Y_SIZE': SOM_Y_SIZE,\n        'SOM_SIGMA': SOM_SIGMA,\n        'SOM_lr': SOM_lr,\n        'SOM_ACTIVATION_DIST': SOM_ACTIVATION_DIST,\n        'SOM_NEIGHBOURHOOD': SOM_NEIGHBOURHOOD\n    }\n)\n\nlogger.create_report()"
      ]
    }
  ],
  "metadata": {
    "kernelspec": {
      "display_name": "Python 3",
      "language": "python",
      "name": "python3"
    },
    "language_info": {
      "codemirror_mode": {
        "name": "ipython",
        "version": 3
      },
      "file_extension": ".py",
      "mimetype": "text/x-python",
      "name": "python",
      "nbconvert_exporter": "python",
      "pygments_lexer": "ipython3",
      "version": "3.8.5"
    }
  },
  "nbformat": 4,
  "nbformat_minor": 0
}