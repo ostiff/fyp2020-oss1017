{
  "cells": [
    {
      "cell_type": "code",
      "execution_count": null,
      "metadata": {
        "collapsed": false
      },
      "outputs": [],
      "source": [
        "%matplotlib inline"
      ]
    },
    {
      "cell_type": "markdown",
      "metadata": {},
      "source": [
        "\n# Dimensionality reduction analysis\n\nMetrics used to analyse results of dimensionality reduction techniques.\n"
      ]
    },
    {
      "cell_type": "code",
      "execution_count": null,
      "metadata": {
        "collapsed": false
      },
      "outputs": [],
      "source": [
        "import os\nimport sys\nimport pickle\nimport pandas as pd\nimport numpy as np\nfrom scipy import linalg\nimport alphashape\nfrom scipy.spatial.distance import cdist\nfrom scipy.spatial import procrustes\nfrom scipy.stats import spearmanr, pearsonr\nfrom sklearn import mixture\nfrom sklearn import preprocessing\nfrom sklearn.decomposition import PCA\nfrom torch.utils.data import DataLoader\n\nfrom seaborn import color_palette\nimport matplotlib as mpl\nimport matplotlib.pyplot as plt\n\nfrom pkgname.core.AE.autoencoder import get_device, set_seed\nfrom pkgname.utils.data_loader import load_dengue, IQR_rule\nfrom pkgname.utils.plot_utils import adjust_lightness\nfrom definitions import ROOT_DIR\n\nsys.path.insert(0, os.path.abspath('.'))\nmpl.rcParams.update({'figure.autolayout': True})\n\n\ndef plot_ellipse(means, covariances, plot, colours):\n    areas = []\n\n    for i, (mean, covar, colour) in enumerate(zip(\n            means, covariances, colours)):\n        v, w = linalg.eigh(covar)\n        v = 2. * np.sqrt(2.) * np.sqrt(v)\n        u = w[0] / linalg.norm(w[0])\n\n        # Plot an ellipse to show the Gaussian component\n        angle = np.arctan(u[1] / u[0])\n        angle = 180. * angle / np.pi  # convert to degrees\n        ell = mpl.patches.Ellipse(mean, v[0], v[1], 180. + angle, edgecolor=colour, fill=False, lw=3, ls='--')\n        ell.set_clip_box(plot.bbox)\n        plot.add_artist(ell)\n\n        areas.append(np.pi * v[0] * v[1] / 4)\n\n    print(f'Gaussian area ratio: {areas[1] / areas[0]}')\n\n\ndef plot_polygon(points, alpha, colour):\n    poly = alphashape.alphashape(points, alpha)\n\n    if poly.geom_type == 'Polygon':\n        plt.plot(*poly.exterior.xy, lw=3, ls='--', c=colour)\n        area = poly.area\n    else:\n        if alpha > 0:\n            area = plot_polygon(points, max(0, alpha - 0.5), colour)\n        else:\n            raise IOError('Shape is not a polygon.')\n\n    return area\n\n\ndef eval_dim_reduction(original_points, original_dist, new_points, labels, label_name, method_name, colours):\n    outline_colours = [adjust_lightness(c, 0.5) for c in colours]\n    new_points = preprocessing.MinMaxScaler().fit_transform(new_points)\n\n    print('#########################################')\n    print(f'# {method_name}')\n\n    new_dist = cdist(new_points, new_points).flatten()\n\n    rows = 2\n    cols = 2\n\n    fig = plt.figure(dpi=400)\n\n    # Sheppard Diagram\n    plt.subplot(rows, cols, 1)\n    plt.scatter(new_dist, original_dist, s=1)\n    plt.xlabel(\"Encoded points distance\")\n    plt.ylabel(\"Original distance (scaled data)\")\n    plt.title(f\"Sheppard diagram ({method_name})\")\n\n    # Correlation old vs new distances\n    corr = pearsonr(original_dist, new_dist)\n    print(f'Corr {method_name} distances: {corr[0]}; p-val: {corr[1]}')\n\n    # Procrustes\n    padded_data = np.c_[new_points, np.zeros(N_points), np.zeros(N_points), np.zeros(N_points)]\n    proc = procrustes(original_points, padded_data)\n    print(f'Procrustes {method_name}: {proc[2]}')\n\n    # GMM with 1 component\n    plot = plt.subplot(rows, cols, 2)\n    plt.scatter(new_points[:, 0], new_points[:, 1], c=colours[labels], s=8)\n    plt.xlabel(\"x\")\n    plt.ylabel(\"y\")\n    plt.title(f\"{method_name} gmm ratio ({label_name})\")\n\n    gmm_all = mixture.BayesianGaussianMixture(n_components=1, covariance_type='full').fit(new_points)\n    gmm_attr = mixture.BayesianGaussianMixture(n_components=1, covariance_type='full').fit(new_points[labels == 1])\n    means = np.concatenate([gmm_all.means_,gmm_attr.means_])\n    covs = np.concatenate([gmm_all.covariances_,gmm_attr.covariances_])\n    plot_ellipse(means, covs, plot, outline_colours)\n\n    # Convex hulls ratio\n    plt.subplot(rows, cols, 3)\n    plt.scatter(new_points[:, 0], new_points[:, 1], c=colours[labels], s=8)\n    plt.xlabel(\"x\")\n    plt.ylabel(\"y\")\n    plt.title(f\"{method_name} convex hulls ({label_name})\")\n\n    hull_all = plot_polygon(new_points, 0.0, outline_colours[0])\n    hull_atr = plot_polygon(new_points[labels == 1], 0.0, outline_colours[1])\n\n    print(f'Convex hull area ratio: {hull_atr / hull_all}')\n\n    # Concave hulls ratio\n    plt.subplot(rows, cols, 4)\n    plt.scatter(new_points[:, 0], new_points[:, 1], c=colours[labels], s=8)\n    plt.xlabel(\"x\")\n    plt.ylabel(\"y\")\n    plt.title(f\"{method_name} concave hulls ({label_name})\")\n    hull_all = plot_polygon(new_points, 5.0, outline_colours[0])\n    hull_atr = plot_polygon(new_points[labels == 1], 5.0, outline_colours[1])\n\n    print(f'Concave hull area ratio: {hull_atr / hull_all}')\n\n    plt.show()\n\n    print()\n\n\n# --------------\n# Load data\n# --------------\n\nSEED = 0\nnp.random.seed(SEED)\n\nbatch_size = 16\nN_points = 1000\nMODEL_PATH = os.path.join(ROOT_DIR, 'examples', 'autoencoder', 'model')\nTSNE_POINTS_PATH = os.path.join(ROOT_DIR, 'examples', 'result_analysis', 'points', 'tsne_embedded')\nSOM_POINTS_PATH = os.path.join(ROOT_DIR, 'examples', 'result_analysis', 'points', 'som_embedded')\n\n# Set seed\nset_seed(SEED)\n\n# Get device\ndevice = get_device(False)\n\nnp.random.seed(SEED)\nset_seed(SEED)\n\nfeatures = [\"dsource\",\"date\", \"age\", \"gender\", \"weight\", \"bleeding\", \"plt\",\n            \"shock\", \"haematocrit_percent\", \"bleeding_gum\", \"abdominal_pain\",\n            \"ascites\", \"bleeding_mucosal\", \"bleeding_skin\", \"body_temperature\"]\n\ndf = load_dengue(usecols=['study_no']+features)\n\nfor feat in features:\n    df[feat] = df.groupby('study_no')[feat].ffill().bfill()\n\ndf = df.loc[df['age'] <= 18]\ndf = df.dropna()\n\ndf = df.groupby(by=\"study_no\", dropna=False).agg(\n    dsource=pd.NamedAgg(column=\"dsource\", aggfunc=\"last\"),\n    date=pd.NamedAgg(column=\"date\", aggfunc=\"last\"),\n    age=pd.NamedAgg(column=\"age\", aggfunc=\"max\"),\n    gender=pd.NamedAgg(column=\"gender\", aggfunc=\"first\"),\n    weight=pd.NamedAgg(column=\"weight\", aggfunc=np.mean),\n    bleeding=pd.NamedAgg(column=\"bleeding\", aggfunc=\"max\"),\n    plt=pd.NamedAgg(column=\"plt\", aggfunc=\"min\"),\n    shock=pd.NamedAgg(column=\"shock\", aggfunc=\"max\"),\n    haematocrit_percent=pd.NamedAgg(column=\"haematocrit_percent\", aggfunc=\"max\"),\n    bleeding_gum=pd.NamedAgg(column=\"bleeding_gum\", aggfunc=\"max\"),\n    abdominal_pain=pd.NamedAgg(column=\"abdominal_pain\", aggfunc=\"max\"),\n    ascites=pd.NamedAgg(column=\"ascites\", aggfunc=\"max\"),\n    bleeding_mucosal=pd.NamedAgg(column=\"bleeding_mucosal\", aggfunc=\"max\"),\n    bleeding_skin=pd.NamedAgg(column=\"bleeding_skin\", aggfunc=\"max\"),\n    body_temperature=pd.NamedAgg(column=\"body_temperature\", aggfunc=np.mean),\n).dropna()\n\ndf = IQR_rule(df, ['plt'])\n\nmapping = {'Female': 0, 'Male': 1}\nbefore_mapping = df.copy()\n\ndf = df.replace({'gender': mapping})\n\ninfo_feat = [\"shock\", \"bleeding\", \"bleeding_gum\", \"abdominal_pain\", \"ascites\",\n             \"bleeding_mucosal\", \"bleeding_skin\", \"gender\"]\ndata_feat = [\"age\", \"weight\", \"plt\", \"haematocrit_percent\", \"body_temperature\"]\n\ninfo = df[info_feat]\ndata = df[data_feat]\n\nscaler = preprocessing.MinMaxScaler().fit(data)\n\n# Points to sample\nind_list = np.random.choice(len(df.index), N_points)\ndf = df.iloc[ind_list]\n\ndata = df[data_feat]\ninfo = df[info_feat]\n\nscaled = scaler.transform(data)\nloader = DataLoader(scaled, batch_size, shuffle=False)\nog_dist = cdist(scaled, scaled).flatten()\n\ncolours = np.array(color_palette('pastel', 2).as_hex())\nlabels = info['shock'].to_numpy().astype(int)"
      ]
    },
    {
      "cell_type": "markdown",
      "metadata": {},
      "source": [
        "## AE\nResults show distances between points are relatively well preserved and points\nin the latent space\n\n"
      ]
    },
    {
      "cell_type": "code",
      "execution_count": null,
      "metadata": {
        "collapsed": false
      },
      "outputs": [],
      "source": [
        "model = pickle.load(open(MODEL_PATH, 'rb'))\nencoded_ae = model.encode_inputs(loader)\n\neval_dim_reduction(scaled, og_dist, encoded_ae, labels, 'shock', 'AE', colours)"
      ]
    },
    {
      "cell_type": "markdown",
      "metadata": {},
      "source": [
        "## PCA\n\n"
      ]
    },
    {
      "cell_type": "code",
      "execution_count": null,
      "metadata": {
        "collapsed": false
      },
      "outputs": [],
      "source": [
        "pca = PCA(n_components=2).fit(scaled)\npca_points = pca.transform(scaled)\n\neval_dim_reduction(scaled, og_dist, pca_points, labels, 'shock', 'PCA', colours)"
      ]
    },
    {
      "cell_type": "markdown",
      "metadata": {},
      "source": [
        "## t-SNE\n\n"
      ]
    },
    {
      "cell_type": "code",
      "execution_count": null,
      "metadata": {
        "collapsed": false
      },
      "outputs": [],
      "source": [
        "tsne_points = np.take(pickle.load(open(TSNE_POINTS_PATH, 'rb')), ind_list, axis=0)\n\neval_dim_reduction(scaled, og_dist, tsne_points, labels, 'shock', 't-SNE', colours)"
      ]
    },
    {
      "cell_type": "markdown",
      "metadata": {},
      "source": [
        "## SOM\n\n"
      ]
    },
    {
      "cell_type": "code",
      "execution_count": null,
      "metadata": {
        "collapsed": false
      },
      "outputs": [],
      "source": [
        "som_points = np.take(pickle.load(open(SOM_POINTS_PATH, 'rb')), ind_list, axis=0)\n\neval_dim_reduction(scaled, og_dist, som_points, labels, 'shock', 'SOM', colours)"
      ]
    }
  ],
  "metadata": {
    "kernelspec": {
      "display_name": "Python 3",
      "language": "python",
      "name": "python3"
    },
    "language_info": {
      "codemirror_mode": {
        "name": "ipython",
        "version": 3
      },
      "file_extension": ".py",
      "mimetype": "text/x-python",
      "name": "python",
      "nbconvert_exporter": "python",
      "pygments_lexer": "ipython3",
      "version": "3.8.5"
    }
  },
  "nbformat": 4,
  "nbformat_minor": 0
}