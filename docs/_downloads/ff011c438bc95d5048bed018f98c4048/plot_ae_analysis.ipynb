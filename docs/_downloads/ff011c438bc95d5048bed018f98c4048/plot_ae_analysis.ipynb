{
  "cells": [
    {
      "cell_type": "code",
      "execution_count": null,
      "metadata": {
        "collapsed": false
      },
      "outputs": [],
      "source": [
        "%matplotlib inline"
      ]
    },
    {
      "cell_type": "markdown",
      "metadata": {},
      "source": [
        "\n# Dimensionality reduction analysis\n\nMetrics used to analyse results of dimensionality reduction techniques.\n"
      ]
    },
    {
      "cell_type": "code",
      "execution_count": null,
      "metadata": {
        "collapsed": false
      },
      "outputs": [],
      "source": [
        "import os\nimport sys\nsys.path.insert(0, os.path.abspath('.'))\n\nimport pandas as pd\nimport numpy as np\nimport pickle\nfrom torch.utils.data import DataLoader\nfrom sklearn import preprocessing\nfrom sklearn.decomposition import PCA\nfrom scipy.spatial.distance import cdist\nfrom scipy.spatial import procrustes\nfrom scipy.stats import spearmanr, pearsonr\n\nimport matplotlib.pyplot as plt\n\nfrom pkgname.core.AE.autoencoder import get_device, set_seed\nfrom pkgname.utils.data_loader import load_dengue, IQR_rule\nfrom definitions import ROOT_DIR\n\n# --------------\n# Load data\n# --------------\n\nSEED = 0\nnp.random.seed(SEED)\n\nbatch_size = 16\nN_points = 1000\nMODEL_PATH = os.path.join(ROOT_DIR, 'examples', 'autoencoder', 'model')\nTSNE_POINTS_PATH = os.path.join(ROOT_DIR, 'examples', 'result_analysis', 'points', 'tsne_embedded')\nSOM_POINTS_PATH = os.path.join(ROOT_DIR, 'examples', 'result_analysis', 'points', 'som_embedded')\n\n# Set seed\nset_seed(SEED)\n\n# Get device\ndevice = get_device(False)\n\nfeatures = [\"dsource\", \"date\", \"age\", \"gender\", \"weight\", \"bleeding\", \"plt\",\n            \"shock\", \"haematocrit_percent\", \"bleeding_gum\", \"abdominal_pain\",\n            \"ascites\", \"bleeding_mucosal\", \"bleeding_skin\", \"body_temperature\"]\ninfo_feat = [\"dsource\", \"shock\", \"bleeding\", \"bleeding_gum\", \"abdominal_pain\", \"ascites\",\n             \"bleeding_mucosal\", \"bleeding_skin\", \"gender\"]\ndata_feat = [\"age\", \"weight\", \"plt\", \"haematocrit_percent\", \"body_temperature\"]\n\ndf = load_dengue(usecols=['study_no'] + features)\ndf = df.loc[df['age'] <= 18]\n\ndf = df.dropna(subset=data_feat + ['date'])\n\nfor feat in features:\n    df[feat] = df.groupby('study_no')[feat].ffill().bfill()\n\ndf = df.dropna()\n\ndf = df.groupby(by=\"study_no\", dropna=False).agg(\n    dsource=pd.NamedAgg(column=\"dsource\", aggfunc=\"last\"),\n    date=pd.NamedAgg(column=\"date\", aggfunc=\"last\"),\n    age=pd.NamedAgg(column=\"age\", aggfunc=\"max\"),\n    gender=pd.NamedAgg(column=\"gender\", aggfunc=\"first\"),\n    weight=pd.NamedAgg(column=\"weight\", aggfunc=np.mean),\n    bleeding=pd.NamedAgg(column=\"bleeding\", aggfunc=\"max\"),\n    plt=pd.NamedAgg(column=\"plt\", aggfunc=\"min\"),\n    shock=pd.NamedAgg(column=\"shock\", aggfunc=\"max\"),\n    haematocrit_percent=pd.NamedAgg(column=\"haematocrit_percent\", aggfunc=\"max\"),\n    bleeding_gum=pd.NamedAgg(column=\"bleeding_gum\", aggfunc=\"max\"),\n    abdominal_pain=pd.NamedAgg(column=\"abdominal_pain\", aggfunc=\"max\"),\n    ascites=pd.NamedAgg(column=\"ascites\", aggfunc=\"max\"),\n    bleeding_mucosal=pd.NamedAgg(column=\"bleeding_mucosal\", aggfunc=\"max\"),\n    bleeding_skin=pd.NamedAgg(column=\"bleeding_skin\", aggfunc=\"max\"),\n    body_temperature=pd.NamedAgg(column=\"body_temperature\", aggfunc=np.mean),\n).dropna()\n\nmapping = {'Female': 0, 'Male': 1}\ndf = df.replace({'gender': mapping})\n\ndf = IQR_rule(df, ['plt'])\ndata = df[data_feat]\n\nscaler = preprocessing.MinMaxScaler().fit(data)\n\n# Points to sample\nind_list = np.random.choice(len(df.index), N_points)\ndf = df.iloc[ind_list]\n\ndata = df[data_feat]\ninfo = df[info_feat]\n\nscaled = scaler.transform(data)\nloader = DataLoader(scaled, batch_size, shuffle=False)"
      ]
    },
    {
      "cell_type": "markdown",
      "metadata": {},
      "source": [
        "## AE\nResults show distances between points are relatively well preserved and points\nin the latent space\n\n"
      ]
    },
    {
      "cell_type": "code",
      "execution_count": null,
      "metadata": {
        "collapsed": false
      },
      "outputs": [],
      "source": [
        "model = pickle.load(open(MODEL_PATH, 'rb'))\nencoded_ae = model.encode_inputs(loader)\n\nog_dist = cdist(scaled, scaled).flatten()\nae_dist = cdist(encoded_ae, encoded_ae).flatten()\n\nplt.scatter(ae_dist, og_dist, s=1)\nplt.xlabel(\"Encoded points distance\")\nplt.ylabel(\"Original distance (scaled data)\")\nplt.title(\"Sheppard diagram (AE)\")\nplt.show()"
      ]
    },
    {
      "cell_type": "code",
      "execution_count": null,
      "metadata": {
        "collapsed": false
      },
      "outputs": [],
      "source": [
        "plt.scatter(encoded_ae[:,0], encoded_ae[:,1], c=info['shock'])\nplt.xlabel(\"x\")\nplt.ylabel(\"y\")\nplt.title(\"AE reduced data (shock)\")\nplt.show()\n\ncorr = pearsonr(og_dist, ae_dist)\nprint(f'Corr AE distances: {corr[0]}; p-val: {corr[1]}')\n\npadded_ae = np.c_[encoded_ae, np.zeros(N_points), np.zeros(N_points), np.zeros(N_points) ]\nproc = procrustes(scaled, padded_ae)\nprint(f'AE procrustes: {proc[2]}')"
      ]
    },
    {
      "cell_type": "markdown",
      "metadata": {},
      "source": [
        "## PCA\n\n"
      ]
    },
    {
      "cell_type": "code",
      "execution_count": null,
      "metadata": {
        "collapsed": false
      },
      "outputs": [],
      "source": [
        "pca = PCA(n_components=2).fit(scaled)\npca_points = pca.transform(scaled)\n\npca_dist = cdist(pca_points, pca_points).flatten()\n\nplt.scatter(pca_dist, og_dist, s=1)\nplt.xlabel(\"Encoded points distance\")\nplt.ylabel(\"Original distance (scaled data)\")\nplt.title(\"Sheppard diagram (PCA)\")\nplt.show()"
      ]
    },
    {
      "cell_type": "code",
      "execution_count": null,
      "metadata": {
        "collapsed": false
      },
      "outputs": [],
      "source": [
        "plt.scatter(pca_points[:,0], pca_points[:,1], c=info['shock'])\nplt.xlabel(\"x\")\nplt.ylabel(\"y\")\nplt.title(\"PCA reduced data (shock)\")\nplt.show()\n\ncorr = pearsonr(og_dist, pca_dist)\nprint(f'Corr PCA distances: {corr[0]}; p-val: {corr[1]}')\n\npadded_pca = np.c_[pca_points, np.zeros(N_points), np.zeros(N_points), np.zeros(N_points) ]\nproc = procrustes(scaled, padded_pca)\nprint(f'PCA procrustes: {proc[2]}')"
      ]
    },
    {
      "cell_type": "markdown",
      "metadata": {},
      "source": [
        "## t-SNE\n\n"
      ]
    },
    {
      "cell_type": "code",
      "execution_count": null,
      "metadata": {
        "collapsed": false
      },
      "outputs": [],
      "source": [
        "tsne_points = np.take(pickle.load(open(TSNE_POINTS_PATH, 'rb')), ind_list, axis=0)\n\ntsne_dist = cdist(tsne_points, tsne_points).flatten()\n\nplt.scatter(tsne_dist, og_dist, s=1)\nplt.xlabel(\"Encoded points distance\")\nplt.ylabel(\"Original distance (scaled data)\")\nplt.title(\"Sheppard diagram (t-SNE)\")\nplt.show()"
      ]
    },
    {
      "cell_type": "code",
      "execution_count": null,
      "metadata": {
        "collapsed": false
      },
      "outputs": [],
      "source": [
        "plt.scatter(tsne_points[:,0], tsne_points[:,1], c=info['shock'])\nplt.xlabel(\"x\")\nplt.ylabel(\"y\")\nplt.title(\"t-SNE reduced data (shock)\")\nplt.show()\n\ncorr = pearsonr(og_dist, tsne_dist)\nprint(f'Corr t-SNE distances: {corr[0]}; p-val: {corr[1]}')\n\npadded_tsne = np.c_[tsne_points, np.zeros(N_points), np.zeros(N_points), np.zeros(N_points) ]\nproc = procrustes(scaled, padded_tsne)\nprint(f'TSNE procrustes: {proc[2]}')"
      ]
    },
    {
      "cell_type": "markdown",
      "metadata": {},
      "source": [
        "## SOM\n\n"
      ]
    },
    {
      "cell_type": "code",
      "execution_count": null,
      "metadata": {
        "collapsed": false
      },
      "outputs": [],
      "source": [
        "som_points = np.take(pickle.load(open(SOM_POINTS_PATH, 'rb')), ind_list, axis=0)\n\nsom_dist = cdist(som_points, som_points).flatten()\n\nplt.scatter(som_dist, og_dist, s=1)\nplt.xlabel(\"Encoded points distance\")\nplt.ylabel(\"Original distance (scaled data)\")\nplt.title(\"Sheppard diagram (SOM)\")\nplt.show()"
      ]
    },
    {
      "cell_type": "code",
      "execution_count": null,
      "metadata": {
        "collapsed": false
      },
      "outputs": [],
      "source": [
        "plt.scatter(som_points[:,0], som_points[:,1], c=info['shock'])\nplt.xlabel(\"x\")\nplt.ylabel(\"y\")\nplt.title(\"SOM reduced data (shock)\")\nplt.show()\n\ncorr = pearsonr(og_dist, som_dist)\nprint(f'Corr SOM distances: {corr[0]}; p-val: {corr[1]}')\n\npadded_som = np.c_[som_points, np.zeros(N_points), np.zeros(N_points), np.zeros(N_points) ]\nproc = procrustes(scaled, padded_som)\nprint(f'SOM procrustes: {proc[2]}')"
      ]
    }
  ],
  "metadata": {
    "kernelspec": {
      "display_name": "Python 3",
      "language": "python",
      "name": "python3"
    },
    "language_info": {
      "codemirror_mode": {
        "name": "ipython",
        "version": 3
      },
      "file_extension": ".py",
      "mimetype": "text/x-python",
      "name": "python",
      "nbconvert_exporter": "python",
      "pygments_lexer": "ipython3",
      "version": "3.8.5"
    }
  },
  "nbformat": 4,
  "nbformat_minor": 0
}