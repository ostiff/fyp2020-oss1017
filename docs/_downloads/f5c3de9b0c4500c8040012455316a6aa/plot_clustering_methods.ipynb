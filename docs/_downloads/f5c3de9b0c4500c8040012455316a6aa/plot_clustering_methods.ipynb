{
  "cells": [
    {
      "cell_type": "code",
      "execution_count": null,
      "metadata": {
        "collapsed": false
      },
      "outputs": [],
      "source": [
        "%matplotlib inline"
      ]
    },
    {
      "cell_type": "markdown",
      "metadata": {},
      "source": [
        "\n# Clustering method comparison\n"
      ]
    },
    {
      "cell_type": "code",
      "execution_count": null,
      "metadata": {
        "collapsed": false
      },
      "outputs": [],
      "source": [
        "import numpy as np\nimport seaborn as sns\nimport matplotlib\nimport matplotlib.pyplot as plt\n\nfrom sklearn import cluster, datasets, mixture\nfrom sklearn.preprocessing import StandardScaler\n\n# matplotlib.use(\"pgf\")\nmatplotlib.rcParams.update({\n    # \"pgf.texsystem\": \"pdflatex\",\n    'font.family': 'serif',\n    # 'text.usetex': True,\n})\n\nSEED = 1\nnp.random.seed(SEED)"
      ]
    },
    {
      "cell_type": "markdown",
      "metadata": {},
      "source": [
        "## Generate datasets\n\n"
      ]
    },
    {
      "cell_type": "code",
      "execution_count": null,
      "metadata": {
        "collapsed": false
      },
      "outputs": [],
      "source": [
        "n_samples = 1100\n\nnoisy_moons = datasets.make_moons(n_samples=n_samples, noise=.06)\nblobs = datasets.make_blobs(n_samples=n_samples,\n                            cluster_std=[1.0, 2.8, 0.5],\n                            random_state=SEED)\n\ndatasets = [\n    (noisy_moons, {'eps': .3, 'n_clusters': 2}),\n    (blobs, {'eps': .19, 'n_clusters': 3})]"
      ]
    },
    {
      "cell_type": "markdown",
      "metadata": {},
      "source": [
        "## Create figure\n\n"
      ]
    },
    {
      "cell_type": "code",
      "execution_count": null,
      "metadata": {
        "collapsed": false
      },
      "outputs": [],
      "source": [
        "fig, axes = plt.subplots(2, 3, figsize=(3 * 2 + 3, 6))\naxes = axes.flatten()\nfor ax in axes:\n    ax.set(aspect='equal')\n    ax.set(xlim=(-2.5, 2.5), ylim=(-2.5, 2.5))\n    ax.get_xaxis().set_ticks([])\n    ax.get_yaxis().set_ticks([])\n\nplot_num = 0\n\nfor i_dataset, (dataset, params) in enumerate(datasets):\n    X, y = dataset\n    X = StandardScaler().fit_transform(X)\n\n    clustering_algorithms = (\n        (r'k-Means', cluster.KMeans(n_clusters=params['n_clusters'])),\n        (r'DBSCAN', cluster.DBSCAN(eps=params['eps'])),\n        (r'GMM', mixture.GaussianMixture(n_components=params['n_clusters']))\n    )\n\n    for name, algorithm in clustering_algorithms:\n\n        algorithm.fit(X)\n\n        if hasattr(algorithm, 'labels_'):\n            y_pred = algorithm.labels_.astype(int)\n        else:\n            y_pred = algorithm.predict(X)\n\n        if i_dataset == 0:\n            axes[plot_num].set_title(name)\n\n        colors = np.array(sns.color_palette(\"pastel\", as_cmap=True))\n        colors = np.insert(colors, 0, \"#737373\")\n        colors = dict(zip(list(range(-1,len(colors)-1)), colors))\n\n        sns.scatterplot(ax=axes[plot_num], x=X[:, 0], y=X[:, 1], size=4,\n                        hue=y_pred, palette=colors, legend=False)\n\n        plot_num += 1\n\nfig.tight_layout(h_pad=1, w_pad=2)\n# fig.savefig(\"clustering_methods.pdf\", bbox_inches='tight')\nplt.show()"
      ]
    }
  ],
  "metadata": {
    "kernelspec": {
      "display_name": "Python 3",
      "language": "python",
      "name": "python3"
    },
    "language_info": {
      "codemirror_mode": {
        "name": "ipython",
        "version": 3
      },
      "file_extension": ".py",
      "mimetype": "text/x-python",
      "name": "python",
      "nbconvert_exporter": "python",
      "pygments_lexer": "ipython3",
      "version": "3.8.5"
    }
  },
  "nbformat": 4,
  "nbformat_minor": 0
}