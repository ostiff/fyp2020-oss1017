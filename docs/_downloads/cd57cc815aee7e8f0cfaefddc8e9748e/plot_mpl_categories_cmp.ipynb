{
  "cells": [
    {
      "cell_type": "code",
      "execution_count": null,
      "metadata": {
        "collapsed": false
      },
      "outputs": [],
      "source": [
        "%matplotlib inline"
      ]
    },
    {
      "cell_type": "markdown",
      "metadata": {},
      "source": [
        "\n# Kde\n"
      ]
    },
    {
      "cell_type": "code",
      "execution_count": null,
      "metadata": {
        "collapsed": false
      },
      "outputs": [],
      "source": [
        "# Library\nimport pickle\nimport pandas as pd\nimport numpy as np\nimport matplotlib as mpl\n\n# Specific\nfrom torch.utils.data import DataLoader\nfrom sklearn.preprocessing import MinMaxScaler\nfrom sklearn.neighbors import KDTree\nfrom tableone import TableOne\n\n# Specific\nfrom pkgname.core.AE.autoencoder import get_device, set_seed\nfrom pkgname.utils.data_loader import load_dengue, IQR_rule\nfrom pkgname.utils.plot_utils import  format_table_bootstrap\nfrom definitions import ROOT_DIR\n\n# Local (also configures mpl and pd)\nimport _utils\n\n# ------------------------------\n# Constants\n# ------------------------------\n# Load constants\nfeatures = _utils.features\nothers = _utils.others\nmappings = _utils.mappings\naggregation = _utils.aggregation\ncmaps = _utils.cmaps\n\noutcomes = [\n    \"severe\",\n    \"warning\",\n    \"mild\",\n]\n\n# Ensure all outcomes are in aggregation\nfor c in outcomes:\n    if c not in aggregation:\n        print(\"Adding... %23s | max\" % c)\n        aggregation[c] = 'max'\n\n# ------------------------------\n# Load data\n# ------------------------------\n# Load data\ndata = _utils.load_data()\n\n# Liver abnormal\ndata['liver_abnormal'] = \\\n    data.liver_acute | \\\n    data.liver_involved | \\\n    data.liver_failure | \\\n    data.liver_severe | \\\n    data.jaundice\n\n# Kidney abnormal\ndata['kidney_abnormal'] = \\\n    data.skidney\n\n# Create features\ndata['severe_leak'] = \\\n    data.ascites | \\\n    data.overload | \\\n    data.oedema_pulmonary | \\\n    data.respiratory_distress | \\\n    data.oedema | \\\n    data.pleural_effusion | \\\n    data.effusion\n\n# Bleeding\ndata['severe_bleed'] = \\\n    data.bleeding_gi | \\\n    data.bleeding_urine # useless\n\n# Organ impairment\ndata['severe_organ'] = \\\n    data.cns_abnormal | \\\n    data.neurology.astype(bool) | \\\n    data.liver_abnormal | \\\n    data.kidney_abnormal | \\\n    (data.ast.fillna(0) >= 1000) | \\\n    (data.alt.fillna(0) >= 1000)\n\n# Category: severe\ndata['severe'] = \\\n    data.severe_leak | \\\n    data.severe_bleed | \\\n    data.severe_organ | \\\n    data.shock\n\n# Category: warning WHO\ndata['warning'] = \\\n    data.abdominal_pain | \\\n    data.abdominal_tenderness | \\\n    data.vomiting | \\\n    data.ascites | \\\n    data.pleural_effusion | \\\n    data.bleeding_mucosal | \\\n    data.restlessness | \\\n    data.lethargy | \\\n    (data.liver_palpation_size.fillna(0) > 2)\n\n# Category: mild\ndata['mild'] = ~(data.severe | data.warning)\n\n# Raw after very basic cleaning\nraw = data.copy(deep=True)\n\n# Filter data (age, iqr, ...)\n# .. note: Although previously we were filtering only\n#          for adults, there is an interesting patient\n#          (01nva-003-2164) who is 19 years old.\n#\n# .. note: Platelets has a very clear outliers 50000\n#          which influences the quartile selection\n#          in the quartile range rule (IQR)\n\ndata = data[data.age.between(0.0, 20.0)]\ndata = data[data.plt < 50000]\n#data = data.fillna('ffill') # no need if keeping max/min\n#data = data.fillna('bfill') # no need if keeping max/min\n\n# Filter outliers\ndata = IQR_rule(data, [\n    'plt',\n    #'haematocrit_percent',\n    #'body_temperature'\n])\n\n# Convert dtypes\ndata = data.convert_dtypes()\n\n# Rename\n# .. note: Done after convert_dtypes so that\n#          it remains 0 or 1, otherwise it will\n#          be transformed to boolean feature.\n#          (its ok too).\ndata = data.replace(mappings)\n\n# Show dtypes\nprint(\"\\nDtypes:\")\nprint(data.dtypes)\n\n# ------------------------------\n# Aggregate to worse combo\n# ------------------------------\n# Get worst state for patient\ndata_w = data.copy(deep=True) \\\n    .groupby(by=\"study_no\", dropna=False) \\\n    .agg(aggregation) \\\n    .dropna(how='any', subset=features)\n\n# Get full data\ndata_f = data.copy(deep=True) \\\n    .dropna(how='any', subset=features)\n\n# Show data\nprint(\"\\nData Full:\")\nprint(data_f)\nprint(\"\\nData Agg:\")\nprint(data_w)\nprint(data_w[outcomes].sum())\nprint(\"\\nData 01NVA:\")\nprint(data_w[data_w.dsource == '01nva'])\n\n\n# ------------------------------\n# Load Model\n# ------------------------------\n# Load model\nmodel = _utils.load_model()\n\n# Show\nprint(\"\\nModel:\")\nprint(model)\n\n# ------------------------------\n# Projections\n# ------------------------------\n# .. note: The scaling method should have also\n#          been saved when training the model.\n# Scaler\nscaler = MinMaxScaler().fit(data_f[features])\n\n# Include encoded in aggregated\ndata_w[['x', 'y']] = model.encode_inputs( \\\n    DataLoader(scaler.transform(data_w[features]),\n         16, shuffle=False))\n\n# Include encoded in full (filtered)\ndata_f[['x', 'y']] = model.encode_inputs( \\\n    DataLoader(scaler.transform(data_f[features]),\n         16, shuffle=False))\n\n# Show\nprint(\"\\nScaler:\")\nprint(scaler)\nprint(\"\\nData:\")\nprint(data_w)\n\n\n# ------------------------------\n# Visualization\n# ------------------------------\n# Libraries\nimport matplotlib.pyplot as plt\n\n# Specific\nfrom _utils import kde_mpl_plot\nfrom _utils import kde_mpl_compute\nfrom _utils import kde_mpl\n\n# ------------------------------------\n# Show interesting outcomes (contours)\n# ------------------------------------\n# Figure with kdes\nf1, axes1 = plt.subplots(1, 3, figsize=(15, 4),\n    sharex=True, sharey=True)\n\n# Loop\nfor i, c in enumerate(outcomes):\n    # Select dataset\n    aux = data_w[data_w[c] == 1]\n    # Plot kde\n    kde_mpl(aux.x, aux.y, ax=axes1.flat[i],\n        contour=True, cmap=cmaps.get(c, 'Reds'),\n        xlim=(data_w.x.min(), data_w.x.max()),\n        ylim=(data_w.y.min(), data_w.y.max()))\n    # Configure\n    axes1.flat[i].set(aspect='equal',\n        title='%s (%s)' % (c.title(), aux.shape[0]))\n\n\n\n# -------------------------------------\n# Plot aggregated categories\n# -------------------------------------\n# Copy 01nva data\naux = data_w[data_w.dsource == '01nva']\naux['study_no'] = aux.index \\\n    .to_series().str.split('-').str[-1]\n\n# Create basic rule\ncriteria = list(zip(*[\n    (aux.study_no.between('2001', '2034'), 'Severe'),\n    (aux.study_no.between('2101', '2112'), 'Severe'),\n    (aux.study_no.between('2201', '2236'), 'Severe'),\n    (aux.study_no.between('2151', '2196'), 'Mild'),\n    (aux.study_no == '2162', 'Unique'),\n]))\n\n# Apply rule (default False)\naux.loc[:, 'category'] = np.select(criteria[0],\n                                   criteria[1],\n                                   'None')\n\n# Display\nfor i,g in aux.groupby('category'):\n    axes1.flat[0].scatter(g.x, g.y,\n        s=8, linewidth=0.5, edgecolor='k',\n        label=i)\n    axes1.flat[0].legend()\n\n\n# -------------------------------------\n# Plot daily categories\n# -------------------------------------\n# Copy 01nva data\naux = data_f[data_f.dsource == '01nva']\naux['study_no'] = aux.study_no \\\n    .str.split('-').str[-1]\n\n# Create basic rule\ncriteria = list(zip(*[\n    (aux.study_no.between('2001', '2034'), 'Severe'),\n    (aux.study_no.between('2101', '2112'), 'Severe'),\n    (aux.study_no.between('2201', '2236'), 'Severe'),\n    (aux.study_no.between('2151', '2196'), 'Mild'),\n    (aux.study_no == '2162', 'Unique'),\n]))\n\n# Apply rule (default False)\naux.loc[:, 'category'] = np.select(criteria[0],\n                                   criteria[1],\n                                   'None')\n\n# Display\nfor i,g in aux.groupby('category'):\n    axes1.flat[1].scatter(g.x, g.y,\n        s=8, linewidth=0.5, edgecolor='k',\n        label=i)\n    axes1.flat[1].legend()\n\n# -------------------------------------\n# Plot all patients\n# -------------------------------------\n# Select all 01nva data and clean\naux = raw[raw.dsource == '01nva'] \\\n    .copy(deep=True) \\\n    .dropna(how='any', subset=features) \\\n    .sort_values(by=['study_no',\n                     'day_from_admission'])\n\n# Include encoded in full (filtered)\naux[['x', 'y']] = model.encode_inputs( \\\n    DataLoader(scaler.transform(aux[features]),\n         16, shuffle=False))\n# Add study_no\naux['study_no'] = aux.study_no \\\n    .str.split('-').str[-1]\n\n# Issue with >18 because model trained only with children.\naux = aux[aux.age <= 18]\n\n# Create basic rule\ncriteria = list(zip(*[\n    (aux.study_no.between('2001', '2034'), 'Severe'),\n    (aux.study_no.between('2101', '2112'), 'Severe'),\n    (aux.study_no.between('2201', '2236'), 'Severe'),\n    (aux.study_no.between('2151', '2196'), 'Mild'),\n    (aux.study_no == '2162', 'Unique'),\n]))\n\n# Apply rule (default False)\naux['category'] = np.select(criteria[0],\n                            criteria[1],\n                            'None')\n\n# Display\nfor i,g in aux.groupby('category'):\n    axes1.flat[2].scatter(g.x, g.y,\n        s=8, linewidth=0.5, edgecolor='k',\n        label=i)\n    axes1.flat[2].legend()\n\n# Configure\nplt.tight_layout()\n\n# Show\nplt.show()"
      ]
    }
  ],
  "metadata": {
    "kernelspec": {
      "display_name": "Python 3",
      "language": "python",
      "name": "python3"
    },
    "language_info": {
      "codemirror_mode": {
        "name": "ipython",
        "version": 3
      },
      "file_extension": ".py",
      "mimetype": "text/x-python",
      "name": "python",
      "nbconvert_exporter": "python",
      "pygments_lexer": "ipython3",
      "version": "3.8.5"
    }
  },
  "nbformat": 4,
  "nbformat_minor": 0
}