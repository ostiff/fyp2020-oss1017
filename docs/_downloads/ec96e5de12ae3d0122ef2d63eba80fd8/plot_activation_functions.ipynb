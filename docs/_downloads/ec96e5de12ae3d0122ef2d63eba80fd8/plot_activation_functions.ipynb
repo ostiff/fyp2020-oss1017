{
  "cells": [
    {
      "cell_type": "code",
      "execution_count": null,
      "metadata": {
        "collapsed": false
      },
      "outputs": [],
      "source": [
        "%matplotlib inline"
      ]
    },
    {
      "cell_type": "markdown",
      "metadata": {},
      "source": [
        "\n# Activation functions\n"
      ]
    },
    {
      "cell_type": "code",
      "execution_count": null,
      "metadata": {
        "collapsed": false
      },
      "outputs": [],
      "source": [
        "import numpy as np\nimport seaborn as sns\nimport matplotlib\nimport matplotlib.pyplot as plt\n\n# matplotlib.use(\"pgf\")\nmatplotlib.rcParams.update({\n    # \"pgf.texsystem\": \"pdflatex\",\n    'font.family': 'serif',\n    # 'text.usetex': True,\n    'font.size': 18,\n    'pgf.rcfonts': False\n})\n\n\ndef relu(x):\n    \"\"\"Returns a ReLU.\"\"\"\n    return np.maximum(x, 0)\n\n\ndef sigmoid(x):\n    \"\"\"Returns a Sigmoid.\"\"\"\n    return 1 / (1 + np.exp(-x))\n\n\n\npoints = 300\nx = np.linspace(-4, 4, num=points)\n\nfig, axes = plt.subplots(1, 2, figsize=(10, 3))\naxes = axes.flatten()\nfor ax in axes:\n    ax.xaxis.set_major_locator(plt.MaxNLocator(3))\n    ax.yaxis.set_major_locator(plt.MaxNLocator(3))\n\naxes[0].set(xlim=(-1.3, 1.3), ylim=(-0.1, 1.3))\naxes[1].set(xlim=(-4, 4), ylim=(-0.1, 1.1))\n\nsns.set_theme()\n\n\nsns.lineplot(ax=axes[0], x=x, y=relu(x), color=\".3\")\naxes[0].set_title(r'ReLU')\n\nsns.lineplot(ax=axes[1], x=x, y=sigmoid(x), color=\".3\")\naxes[1].set_title(r'Sigmoid')\n\n\n# fig.savefig(\"ae_activation_functions.pdf\", bbox_inches='tight')\nplt.show()"
      ]
    }
  ],
  "metadata": {
    "kernelspec": {
      "display_name": "Python 3",
      "language": "python",
      "name": "python3"
    },
    "language_info": {
      "codemirror_mode": {
        "name": "ipython",
        "version": 3
      },
      "file_extension": ".py",
      "mimetype": "text/x-python",
      "name": "python",
      "nbconvert_exporter": "python",
      "pygments_lexer": "ipython3",
      "version": "3.8.5"
    }
  },
  "nbformat": 4,
  "nbformat_minor": 0
}