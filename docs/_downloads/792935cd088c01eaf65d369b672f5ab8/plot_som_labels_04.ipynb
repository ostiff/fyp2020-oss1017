{
  "cells": [
    {
      "cell_type": "code",
      "execution_count": null,
      "metadata": {
        "collapsed": false
      },
      "outputs": [],
      "source": [
        "%matplotlib inline"
      ]
    },
    {
      "cell_type": "markdown",
      "metadata": {},
      "source": [
        "\n# Plot SOM w/ Labelling\n\nProject labels onto Node difference map.\n\nThe standard deviation of the clusters in the dataset was increased compared\nto `sphx_glr__examples_som_plot_som_sample_01.py` to illustrate how nodes\ncan host datapoints with different labels.\n"
      ]
    },
    {
      "cell_type": "code",
      "execution_count": null,
      "metadata": {
        "collapsed": false
      },
      "outputs": [],
      "source": [
        "# Generic libraries\nimport pandas as pd\nimport numpy as np\n\n# Other\nimport matplotlib.pyplot as plt\nfrom matplotlib import rcParams\nfrom minisom import MiniSom\nfrom sklearn.datasets import make_blobs\nfrom sklearn import preprocessing\n\n# Utils\nfrom pkgname.utils.som_utils import diff_graph_hex, project_labels\n\n# Configuration\nrcParams.update({'figure.autolayout': True})\n\n\n# ----------------------\n# Create dataset\n# ----------------------\nSEED = 0\nN_CLUSTERS = 6\nN_SAMPLES = N_CLUSTERS * 100\nN_FEATURES = 16\n\n# Show information\nprint(\"The dataset has {dim} dimensions and {clusters} clusters.\"\n      .format(dim=N_FEATURES, clusters=N_CLUSTERS))\n\n# Create dataset\nx, y = make_blobs(n_samples=N_SAMPLES,\n                  n_features=N_FEATURES,\n                  centers=N_CLUSTERS,\n                  cluster_std=6,\n                  random_state=SEED)\n\n# Scale data\nscaler = preprocessing.MinMaxScaler()\nx = scaler.fit_transform(x)\n\n# ----------------------\n# Train SOM\n# ----------------------\n# Create SOM\nsom = MiniSom(20, 20, x.shape[1],\n    topology='hexagonal',\n    activation_distance='euclidean',\n    neighborhood_function='gaussian',\n    sigma=2.5, learning_rate=.5,\n    random_seed=SEED)\n\n# Train\nsom.pca_weights_init(x)\nsom.train_random(x, 1000, verbose=True)\n\ndiff_graph_hex(som, show=True, printout=False)\n\nproject_labels(som, x, y, show=True, printout=False)"
      ]
    }
  ],
  "metadata": {
    "kernelspec": {
      "display_name": "Python 3",
      "language": "python",
      "name": "python3"
    },
    "language_info": {
      "codemirror_mode": {
        "name": "ipython",
        "version": 3
      },
      "file_extension": ".py",
      "mimetype": "text/x-python",
      "name": "python",
      "nbconvert_exporter": "python",
      "pygments_lexer": "ipython3",
      "version": "3.8.5"
    }
  },
  "nbformat": 4,
  "nbformat_minor": 0
}