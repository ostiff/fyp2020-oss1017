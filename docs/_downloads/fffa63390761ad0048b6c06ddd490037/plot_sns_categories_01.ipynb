{
  "cells": [
    {
      "cell_type": "code",
      "execution_count": null,
      "metadata": {
        "collapsed": false
      },
      "outputs": [],
      "source": [
        "%matplotlib inline"
      ]
    },
    {
      "cell_type": "markdown",
      "metadata": {},
      "source": [
        "\n# Seaborn (incomplete!)\n\nTrying to display things with seaborn.\n"
      ]
    },
    {
      "cell_type": "code",
      "execution_count": null,
      "metadata": {
        "collapsed": false
      },
      "outputs": [],
      "source": [
        "# Library\nimport pickle\nimport pandas as pd\nimport numpy as np\nimport matplotlib as mpl\n\n# Specific\nfrom torch.utils.data import DataLoader\nfrom sklearn.preprocessing import MinMaxScaler\n\n# Specific\nfrom pkgname.core.AE.autoencoder import get_device, set_seed\nfrom pkgname.utils.data_loader import load_dengue, IQR_rule\n\n# ----------------------------\n# set basic configuration\n# ----------------------------\n# Matplotlib options\nmpl.rc('font', size=8)\nmpl.rc('legend', fontsize=6)\nmpl.rc('xtick', labelsize=6)\nmpl.rc('ytick', labelsize=6)\n\n# Set pandas configuration.\npd.set_option('display.max_colwidth', 14)\npd.set_option('display.width', 150)\npd.set_option('display.precision', 4)\n\n# ------------------------------\n# Constants\n# ------------------------------\nfeatures = [\n    \"age\",\n    \"weight\",\n    \"plt\",\n    \"haematocrit_percent\",\n    \"body_temperature\"\n]\n\noutcomes = [\n    \"severe\",\n    \"warning\",\n    \"mild\",\n]\n\nothers = [\n    'study_no',\n    'dsource',\n    'date'\n]\n\nmappings = {\n    'gender': {\n        'Female': 0,\n        'Male': 1\n    }\n}\n\naggregation = {\n    'dsource': 'last',\n    'date': 'last',\n    'age': 'max',\n    'weight': 'mean',\n    'plt': 'min',\n    'haematocrit_percent': 'max',\n    'body_temperature': 'mean',\n    'gender': 'first',\n}\n\ncmaps = {\n    'warning': 'Oranges',\n    'severe': 'Reds',\n    'mild': 'Blues'\n}\n\nnrows, ncols = 1, 3\n\n# ------------------------------\n# Load data\n# ------------------------------\n# Load data\ndata = pd.read_csv('resources/datasets/combined_tidy_v0.0.10.csv')\n\n# Liver abnormal\ndata['liver_abnormal'] = \\\n    data.liver_acute | \\\n    data.liver_involved | \\\n    data.liver_failure | \\\n    data.liver_severe | \\\n    data.jaundice\n\n# Kidney abnormal\ndata['kidney_abnormal'] = \\\n    data.skidney\n\n# Create features\ndata['severe_leak'] = \\\n    data.ascites | \\\n    data.overload | \\\n    data.oedema_pulmonary | \\\n    data.respiratory_distress | \\\n    data.oedema | \\\n    data.pleural_effusion | \\\n    data.effusion\n\n# Bleeding\ndata['severe_bleed'] = \\\n    data.bleeding_gi | \\\n    data.bleeding_urine # useless\n\n# Organ impairment\ndata['severe_organ'] = \\\n    data.cns_abnormal | \\\n    data.neurology.astype(bool) | \\\n    data.liver_abnormal | \\\n    data.kidney_abnormal | \\\n    (data.ast.fillna(0) >= 1000) | \\\n    (data.alt.fillna(0) >= 1000)\n\n# Category: severe\ndata['severe'] = \\\n    data.severe_leak | \\\n    data.severe_bleed | \\\n    data.severe_organ | \\\n    data.shock\n\n# Category: warning WHO\ndata['warning'] = \\\n    data.abdominal_pain | \\\n    data.abdominal_tenderness | \\\n    data.vomiting | \\\n    data.ascites | \\\n    data.pleural_effusion | \\\n    data.bleeding_mucosal | \\\n    data.restlessness | \\\n    data.lethargy | \\\n    (data.liver_palpation_size.fillna(0) > 2)\n\n# Category: mild\ndata['mild'] = ~(data.severe | data.warning)\n\n# Fill empty values (be careful!)\nfor c in outcomes:\n    data[c] = data[c].fillna(0)\n\n# Ensure all outcomes are in aggregation\nfor c in outcomes:\n    if c not in aggregation:\n        print(\"Adding... %23s | max\" % c)\n        aggregation[c] = 'max'\n\n# Filter data (age, iqr, ...)\ndata = data[data.age.between(0.0, 18.0)]\ndata = data[data.plt < 50000]\n\n# Filter outliers\ndata = IQR_rule(data, [\n    'plt',\n])\n\n# Rename\n# .. note: Done after convert_dtypes so that\n#          it remains 0 or 1, otherwise it will\n#          be transformed to boolean feature.\n#          (its ok too).\ndata = data.replace(mappings)\n\n# Show dtypes\nprint(\"\\nDtypes:\")\nprint(data.dtypes)\n\n# Get worst state for patient\ndata = data.groupby(by=\"study_no\", dropna=False) \\\n    .agg(aggregation).dropna()\n\n# Show data\nprint(\"\\nData:\")\nprint(data)\nprint(data.index.nunique())\nprint(data[outcomes].sum().sort_values())\n\n\n# ------------------------------\n# Load Model\n# ------------------------------\n# Load model\nmodel_path = 'resources/models/ae_sig_3'\nmodel = pickle.load(open(model_path, 'rb'))\n\n# Show\nprint(\"\\nModel:\")\nprint(model)\n\n# ------------------------------\n# Projections\n# ------------------------------\n# .. note: The scaling method should have also been\n#          saved when training the model.\n# Features\ndatap = data[features].copy(deep=True)\n\n# Scale first\ndatap = MinMaxScaler().fit_transform(datap)\n\n# Encode\nencoded = model.encode_inputs( \\\n    DataLoader(datap, 16, shuffle=False))\n\n# Show\nprint(\"\\nEncoded:\")\nprint(encoded)\n\n# Include in original dataset\ndata[['x', 'y']] = encoded\n\n# Show\nprint(\"\\nData:\")\nprint(data)\n\n\n# ------------------------------\n# Visualization\n# ------------------------------\n# Libraries\nimport matplotlib\nimport seaborn as sns\nimport matplotlib.pyplot as plt\n\n\n# ------------------------------------\n# Show interesting outcomes (contours)\n# ------------------------------------\n# Figure with kdes\nf5, axes5 = plt.subplots(nrows, ncols, figsize=(15, 4),\n    sharex=True, sharey=True)\n\n# Loop\nfor i, c in enumerate(outcomes):\n    # Select dataset\n    aux = data[data[c] == 1]\n    # Plot kde\n    sns.kdeplot(x=aux.x, y=aux.y,\n        ax=axes5.flat[i], levels=14,\n        fill=True, palette=mpl.cm.get_cmap('Reds')\n    )\n    # Configure\n    axes5.flat[i].set(aspect='equal',\n        title='%s (%s)' % (c, aux.shape[0]))\n\n# Configure\nplt.tight_layout()\n\n# Show\nplt.show()"
      ]
    }
  ],
  "metadata": {
    "kernelspec": {
      "display_name": "Python 3",
      "language": "python",
      "name": "python3"
    },
    "language_info": {
      "codemirror_mode": {
        "name": "ipython",
        "version": 3
      },
      "file_extension": ".py",
      "mimetype": "text/x-python",
      "name": "python",
      "nbconvert_exporter": "python",
      "pygments_lexer": "ipython3",
      "version": "3.8.5"
    }
  },
  "nbformat": 4,
  "nbformat_minor": 0
}