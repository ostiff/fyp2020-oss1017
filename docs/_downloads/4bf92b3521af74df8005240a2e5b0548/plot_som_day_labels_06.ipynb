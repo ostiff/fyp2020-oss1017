{
  "cells": [
    {
      "cell_type": "code",
      "execution_count": null,
      "metadata": {
        "collapsed": false
      },
      "outputs": [],
      "source": [
        "%matplotlib inline"
      ]
    },
    {
      "cell_type": "markdown",
      "metadata": {},
      "source": [
        "\n# Plot SOM w/ day labels for one patient\n\n.................\n"
      ]
    },
    {
      "cell_type": "code",
      "execution_count": null,
      "metadata": {
        "collapsed": false
      },
      "outputs": [],
      "source": [
        "import pandas as pd\nfrom minisom import MiniSom\nfrom sklearn import preprocessing\nimport datetime as dt\n\nfrom pkgname.utils.som_utils import *\n\npath = '../../data/daily-profile.csv'\nSEED = 0\n\nTIME_PERIODS = 4\n\nGENERAL_COLS = [\"_uid\", \"dateResult\", \"GenderID\", \"patient_age\", \"covid_confirmed\"]\n\nFBC_features = [\"EOS\", \"MONO\", \"BASO\", \"NEUT\",\n                \"RBC\", \"WBC\", \"MCHC\", \"MCV\",\n                \"LY\", \"HCT\", \"RDW\", \"HGB\",\n                \"MCH\", \"PLT\", \"MPV\", \"NRBCA\"]\n\nFBC_remove = [\"WBC\", \"HGB\", \"HCT\", \"MCV\"]   # remove because they have\n                                            # correlations to other columns of over 0.9\n\npanel_features = [item for item in FBC_features if item not in FBC_remove]\n\ndf = pd.read_csv(path, usecols=panel_features+GENERAL_COLS)\ndf = df.dropna()\n\n# Pick a patient at random and label the different days on the SOM\npid = df.sample(n=1).iloc[0]['_uid']\npatient_df = df.loc[df['_uid'] == pid]\n\ndf = df.drop(columns=[\"_uid\", \"patient_age\", \"GenderID\", \"dateResult\", \"covid_confirmed\"])\n\nfeature_names = df.columns\n\nx = df.values #returns a numpy array\n#scaler = preprocessing.MinMaxScaler()\nscaler = preprocessing.StandardScaler()\nx = scaler.fit_transform(x)\n\nsom = MiniSom(22, 22, x.shape[1],\n    topology='hexagonal',\n    activation_distance='euclidean',\n    neighborhood_function='gaussian',\n    sigma=2, learning_rate=.5,\n    random_seed=SEED)\n\n# Train\nsom.pca_weights_init(x)\nsom.train_random(x, 1000000, verbose=True)\n\n\ndiff_graph_hex(som, show=True, printout=False)\nfeature_maps(som, feature_names, cols=4, show=True, printout=False)\n\npatient_df = patient_df.sort_values(by=['dateResult'])\np_data = patient_df.drop(columns=[\"_uid\", \"patient_age\", \"GenderID\", \"dateResult\", \"covid_confirmed\"]).values\nnumber_samples(som, p_data, show=True, printout=False)"
      ]
    }
  ],
  "metadata": {
    "kernelspec": {
      "display_name": "Python 3",
      "language": "python",
      "name": "python3"
    },
    "language_info": {
      "codemirror_mode": {
        "name": "ipython",
        "version": 3
      },
      "file_extension": ".py",
      "mimetype": "text/x-python",
      "name": "python",
      "nbconvert_exporter": "python",
      "pygments_lexer": "ipython3",
      "version": "3.8.5"
    }
  },
  "nbformat": 4,
  "nbformat_minor": 0
}