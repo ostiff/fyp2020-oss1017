{
  "cells": [
    {
      "cell_type": "code",
      "execution_count": null,
      "metadata": {
        "collapsed": false
      },
      "outputs": [],
      "source": [
        "%matplotlib inline"
      ]
    },
    {
      "cell_type": "markdown",
      "metadata": {},
      "source": [
        "\n# SOM Dimensionality Reduction (II)\n\nThis code is equivalent to `sphx_glr__examples_som_plot_som_sample_01.py`\nbut uses the library ``minisom``. Note that the visualisation produced is not as\nnice as ``SimpSOM``. Yet this can achieve through ``matplotlib`` or ``seaborn``.\n\nSee https://github.com/JustGlowing/minisom/blob/master/examples\n\n<div class=\"alert alert-danger\"><h4>Warning</h4><p>``minisom`` is computationally more efficient than ``SimpSOM``</p></div>\n"
      ]
    },
    {
      "cell_type": "code",
      "execution_count": null,
      "metadata": {
        "collapsed": false
      },
      "outputs": [],
      "source": [
        "# Generic libraries\nimport pandas as pd\nimport numpy as np\nimport matplotlib.pyplot as plt\n\n# Other\nfrom matplotlib import rcParams\nfrom minisom import MiniSom\nfrom sklearn.datasets import make_blobs\nfrom sklearn import preprocessing\n\n# Configuration\nrcParams.update({'figure.autolayout': True})\n\n\n# ----------------------\n# Create dataset\n# ----------------------\nSEED = 0\nN_CLUSTERS = 6\nN_SAMPLES = N_CLUSTERS * 100\nN_FEATURES = 16\n\n# Show information\nprint(\"The dataset has {dim} dimensions and {clusters} clusters.\"\n      .format(dim=N_FEATURES, clusters=N_CLUSTERS))\n\n# Create dataset\nx, y = make_blobs(n_samples=N_SAMPLES,\n                  n_features=N_FEATURES,\n                  centers=N_CLUSTERS,\n                  cluster_std=3,\n                  random_state=SEED)\n\n# Scale data\nscaler = preprocessing.MinMaxScaler()\nx = scaler.fit_transform(x)\n\n# ----------------------\n# Train SOM\n# ----------------------\n# Create SOM\nsom = MiniSom(20, 20, x.shape[1],\n    neighborhood_function='gaussian',\n    sigma=1.5, learning_rate=.5,\n    random_seed=SEED)\n\n# Train\nsom.pca_weights_init(x)\nsom.train_random(x, 1000, verbose=True)\n\n# Compute projections\nprj = np.array([som.winner(e) for e  in x])\n\n# Get weights\nW = som.get_weights()\n\n# -------------\n# Plot overall\n# -------------\n# Create figure\nf, ax = plt.subplots(1, 1, figsize=(6, 6))\n\n# Plot\ncs = plt.pcolor(som.distance_map().T)\nplt.scatter(prj[:, 0], prj[:, 1], c=y, cmap='rainbow')\nax.set(title='Nodes Grid w Weights Difference',\n       xticks=[], yticks=[], aspect='equal')\n\n# Add colorbar\ncbar = f.colorbar(cs, shrink=0.78)\n\n# -------------------\n# Plot feature planes\n# -------------------\n# Create figure\nf, axes = plt.subplots(4, 4, figsize=(8,8))\naxes = axes.flatten()\n\n# Plot feature planes\nfor i, f in enumerate(range(N_FEATURES)):\n    axes[i].pcolor(W[:, :, f].T)\n    axes[i].set(title='Feature %s' % f, aspect='equal',\n        yticks=[], xticks=[])\n\n# Set axes\nplt.suptitle(\"Node Grid w Feature #i\")\nplt.tight_layout()\n\n# Show\nplt.show()"
      ]
    }
  ],
  "metadata": {
    "kernelspec": {
      "display_name": "Python 3",
      "language": "python",
      "name": "python3"
    },
    "language_info": {
      "codemirror_mode": {
        "name": "ipython",
        "version": 3
      },
      "file_extension": ".py",
      "mimetype": "text/x-python",
      "name": "python",
      "nbconvert_exporter": "python",
      "pygments_lexer": "ipython3",
      "version": "3.7.7"
    }
  },
  "nbformat": 4,
  "nbformat_minor": 0
}