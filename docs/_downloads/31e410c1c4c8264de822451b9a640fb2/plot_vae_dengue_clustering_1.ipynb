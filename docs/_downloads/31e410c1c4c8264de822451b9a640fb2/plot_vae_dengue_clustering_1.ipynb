{
  "cells": [
    {
      "cell_type": "code",
      "execution_count": null,
      "metadata": {
        "collapsed": false
      },
      "outputs": [],
      "source": [
        "%matplotlib inline"
      ]
    },
    {
      "cell_type": "markdown",
      "metadata": {},
      "source": [
        "\n# Beta-VAE used for clustering\n\nType of Variational Auto-Encoder where the KL divergence term in the loss\nfunction is weighted by a parameter `beta`.\n"
      ]
    },
    {
      "cell_type": "markdown",
      "metadata": {},
      "source": [
        "## Imports and reproducibility\n\nSet seed for reproducibility.\n\n"
      ]
    },
    {
      "cell_type": "code",
      "execution_count": null,
      "metadata": {
        "collapsed": false
      },
      "outputs": [],
      "source": [
        "import os\nimport warnings\nimport pandas as pd\nimport torch\nfrom torch.utils.data import DataLoader\nfrom sklearn.model_selection import train_test_split\nfrom sklearn import preprocessing\nfrom sklearn.cluster import KMeans\nimport matplotlib.pyplot as plt\nfrom matplotlib.colors import ListedColormap\nfrom plotly.subplots import make_subplots\nimport plotly.graph_objects as go\n\nfrom definitions import DATA_DIR\nfrom pkgname.core.VAE.vae import VAE, train_vae, plot_vae_loss, get_device, set_seed\n\nSEED = 0\nN_CLUSTERS = 3\n\n# Set seed\nset_seed(SEED)\n\n# Get device\ndevice = get_device(False)"
      ]
    },
    {
      "cell_type": "markdown",
      "metadata": {},
      "source": [
        "## Hyperparameters\n\n"
      ]
    },
    {
      "cell_type": "code",
      "execution_count": null,
      "metadata": {
        "collapsed": false
      },
      "outputs": [],
      "source": [
        "num_epochs = 20\nlearning_rate = 0.0001\nbatch_size = 16\nlatent_dim = 2\nbeta = 0"
      ]
    },
    {
      "cell_type": "markdown",
      "metadata": {},
      "source": [
        "## Load data\n\n``dengue.csv`` is a pre-processed version of the main dataset.\n\n\n"
      ]
    },
    {
      "cell_type": "code",
      "execution_count": null,
      "metadata": {
        "collapsed": false
      },
      "outputs": [],
      "source": [
        "df = pd.read_csv(os.path.join(DATA_DIR, 'dengue.csv'))\n\ninfo_feat = [\"shock\", \"bleeding\", \"bleeding_gum\", \"abdominal_pain\", \"ascites\",\n           \"bleeding_mucosal\", \"bleeding_skin\", ]\n\ndata_feat = [\"age\", \"weight\", \"plt\", \"haematocrit_percent\", \"body_temperature\"]\n\ntrain, test = train_test_split(df, test_size=0.2, random_state=SEED)\n\ntrain_data = train[data_feat]\ntest_data = test[data_feat]\ntrain_info = train[info_feat]\ntest_info = test[info_feat]\n\nscaler = preprocessing.MinMaxScaler().fit(train_data)\n\ntrain_scaled = scaler.transform(train_data.to_numpy())\ntest_scaled = scaler.transform(test_data.to_numpy())\n\nloader_train = DataLoader(train_scaled, batch_size, shuffle=True)\nloader_test = DataLoader(test_scaled, batch_size, shuffle=False)"
      ]
    },
    {
      "cell_type": "markdown",
      "metadata": {},
      "source": [
        "## Beta-VAE\n\n"
      ]
    },
    {
      "cell_type": "code",
      "execution_count": null,
      "metadata": {
        "collapsed": false
      },
      "outputs": [],
      "source": [
        "# Additional parameters\ninput_size = len(train_data.columns)\nlayers=[15,10,5]\nmodel = VAE(device=device, latent_dim=latent_dim, input_size=input_size, layers=layers).to(device)\n\n# Optimizer\noptimizer = torch.optim.Adam(model.parameters(), lr=learning_rate)\n\n# Train\nlosses = train_vae(model, optimizer, loader_train, loader_test, num_epochs, beta)\n\n# Plot losses\nplot_vae_loss(losses, show=True, printout=False)"
      ]
    },
    {
      "cell_type": "markdown",
      "metadata": {},
      "source": [
        "## Clustering\n\n"
      ]
    },
    {
      "cell_type": "code",
      "execution_count": null,
      "metadata": {
        "collapsed": false
      },
      "outputs": [],
      "source": [
        "colours = [\"red\", \"blue\", \"limegreen\", \"orangered\", \"yellow\",\n           \"violet\", \"salmon\", \"slategrey\", \"green\", \"crimson\"][:N_CLUSTERS]\n\n# Encode test set and plot in 2D (assumes latent_dim = 2)\nencoded_test = model.encode_inputs(loader_test)\nplt.scatter(encoded_test[:, 0], encoded_test[:, 1])\nplt.show()\n\n# Perform clustering on encoded inputs\ncluster = KMeans(n_clusters=N_CLUSTERS, random_state=SEED).fit_predict(encoded_test)\nscatter = plt.scatter(encoded_test[:, 0], encoded_test[:, 1], c=cluster, cmap=ListedColormap(colours))\nplt.legend(handles=scatter.legend_elements()[0], labels=[f\"Cluster {i}\" for i in range(N_CLUSTERS)])\nplt.show()"
      ]
    },
    {
      "cell_type": "markdown",
      "metadata": {},
      "source": [
        "## Cluster analysis\n\nThese attributes were not used to train the model.\n\n"
      ]
    },
    {
      "cell_type": "code",
      "execution_count": null,
      "metadata": {
        "collapsed": false
      },
      "outputs": [],
      "source": [
        "with warnings.catch_warnings():\n    warnings.simplefilter(\"ignore\")\n\n    test_info['cluster'] = cluster\n\n    cols = 2\n    rows = (len(info_feat) + 1) // 2\n    fig = make_subplots(rows=rows, cols=cols, vertical_spacing=0.05)\n\n    for i, feat in enumerate(info_feat):\n        for j in range(N_CLUSTERS):\n            fig.add_trace(\n                go.Box(\n                    y=test_info[test_info['cluster'] == j][feat].values,\n                    boxpoints='outliers', boxmean=True, name=f\"Cluster {j}\",\n                    marker=dict(color=colours[j]),\n                ),\n                row = (i // cols) + 1, col = (i % cols) + 1\n            )\n        fig.update_yaxes(title_text=feat, row=(i // cols) + 1, col=(i % cols) + 1)\n\n    fig.update_xaxes(showticklabels=False)\n    fig.update_layout(height=477*rows//2, title_text=\"Attributes not used in training\", showlegend=False)\nfig"
      ]
    },
    {
      "cell_type": "markdown",
      "metadata": {},
      "source": [
        "The following attributes were used to train the model.\n\n"
      ]
    },
    {
      "cell_type": "code",
      "execution_count": null,
      "metadata": {
        "collapsed": false
      },
      "outputs": [],
      "source": [
        "with warnings.catch_warnings():\n    warnings.simplefilter(\"ignore\")\n\n    test_data['cluster'] = cluster\n\n    cols = 2\n    rows =  (len(data_feat) + 1) // 2\n    fig = make_subplots(rows=rows, cols=cols, vertical_spacing=0.05, horizontal_spacing= 0.2)\n\n    for i, feat in enumerate(data_feat):\n        for j in range(N_CLUSTERS):\n            fig.add_trace(\n                go.Box(\n                    y=test_data[test_data['cluster'] == j][feat].values,\n                    boxpoints='outliers', boxmean=True, name=f\"Cluster {j}\",\n                    marker=dict(color=colours[j]),\n                ),\n                row = (i // cols) + 1, col = (i % cols) + 1\n            )\n        fig.update_yaxes(title_text=feat, row=(i // cols) + 1, col=(i % cols) + 1)\n\n    fig.update_xaxes(showticklabels=False)\n    fig.update_layout(height=477*rows, title_text=\"Attributes used in training\", showlegend=False)\n\nfig"
      ]
    }
  ],
  "metadata": {
    "kernelspec": {
      "display_name": "Python 3",
      "language": "python",
      "name": "python3"
    },
    "language_info": {
      "codemirror_mode": {
        "name": "ipython",
        "version": 3
      },
      "file_extension": ".py",
      "mimetype": "text/x-python",
      "name": "python",
      "nbconvert_exporter": "python",
      "pygments_lexer": "ipython3",
      "version": "3.8.5"
    }
  },
  "nbformat": 4,
  "nbformat_minor": 0
}