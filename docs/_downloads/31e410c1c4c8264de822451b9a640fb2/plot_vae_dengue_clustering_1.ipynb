{
  "cells": [
    {
      "cell_type": "code",
      "execution_count": null,
      "metadata": {
        "collapsed": false
      },
      "outputs": [],
      "source": [
        "%matplotlib inline"
      ]
    },
    {
      "cell_type": "markdown",
      "metadata": {},
      "source": [
        "\n# Beta-VAE used for clustering\n\nType of Variational Auto-Encoder where the KL divergence term in the loss\nfunction is weighted by a parameter `beta`.\n"
      ]
    },
    {
      "cell_type": "markdown",
      "metadata": {},
      "source": [
        "## Imports and reproducibility\n\nSet seed for reproducibility.\n\n"
      ]
    },
    {
      "cell_type": "code",
      "execution_count": null,
      "metadata": {
        "collapsed": false
      },
      "outputs": [],
      "source": [
        "import os\nimport warnings\nimport pandas as pd\nimport numpy as np\nimport torch\nfrom torch.utils.data import DataLoader\nfrom sklearn.model_selection import train_test_split\nfrom sklearn import preprocessing\nfrom sklearn.cluster import KMeans\nimport matplotlib.pyplot as plt\nfrom matplotlib.colors import ListedColormap\nfrom tableone import TableOne\n\nfrom definitions import DATA_DIR\nfrom pkgname.core.VAE.vae import VAE, train_vae, plot_vae_loss, get_device, set_seed\nfrom pkgname.utils.data_loader import load_dengue\nfrom pkgname.utils.plot_utils import plotBox, formatTable\n\nSEED = 0\nN_CLUSTERS = 3\n\n# Set seed\nset_seed(SEED)\n\n# Get device\ndevice = get_device(False)"
      ]
    },
    {
      "cell_type": "markdown",
      "metadata": {},
      "source": [
        "## Hyperparameters\n\n"
      ]
    },
    {
      "cell_type": "code",
      "execution_count": null,
      "metadata": {
        "collapsed": false
      },
      "outputs": [],
      "source": [
        "num_epochs = 20\nlearning_rate = 0.0001\nbatch_size = 16\nlatent_dim = 2\nbeta = 0"
      ]
    },
    {
      "cell_type": "markdown",
      "metadata": {},
      "source": [
        "## Load data\n\n``dengue.csv`` is a pre-processed version of the main dataset.\n\n\n"
      ]
    },
    {
      "cell_type": "code",
      "execution_count": null,
      "metadata": {
        "collapsed": false
      },
      "outputs": [],
      "source": [
        "df = load_dengue(usedefault=True)\n\nfeatures = [\"date\", \"age\", \"gender\", \"weight\", \"bleeding\", \"plt\",\n            \"shock\", \"haematocrit_percent\", \"bleeding_gum\", \"abdominal_pain\",\n            \"ascites\", \"bleeding_mucosal\", \"bleeding_skin\", \"body_temperature\"]\n\nfor feat in features:\n    df[feat] = df.groupby('study_no')[feat].ffill().bfill()\n\ndf = df.loc[df['age'] <= 18]\ndf = df.dropna()\n\ndf = df.groupby(by=\"study_no\", dropna=False).agg(\n    date=pd.NamedAgg(column=\"date\", aggfunc=\"last\"),\n    age=pd.NamedAgg(column=\"age\", aggfunc=\"max\"),\n    gender=pd.NamedAgg(column=\"gender\", aggfunc=\"first\"),\n    weight=pd.NamedAgg(column=\"weight\", aggfunc=np.mean),\n    bleeding=pd.NamedAgg(column=\"bleeding\", aggfunc=\"max\"),\n    plt=pd.NamedAgg(column=\"plt\", aggfunc=\"max\"),\n    shock=pd.NamedAgg(column=\"shock\", aggfunc=\"max\"),\n    haematocrit_percent=pd.NamedAgg(column=\"haematocrit_percent\", aggfunc=\"max\"),\n    bleeding_gum=pd.NamedAgg(column=\"bleeding_gum\", aggfunc=\"max\"),\n    abdominal_pain=pd.NamedAgg(column=\"abdominal_pain\", aggfunc=\"max\"),\n    ascites=pd.NamedAgg(column=\"ascites\", aggfunc=\"max\"),\n    bleeding_mucosal=pd.NamedAgg(column=\"bleeding_mucosal\", aggfunc=\"max\"),\n    bleeding_skin=pd.NamedAgg(column=\"bleeding_skin\", aggfunc=\"max\"),\n    body_temperature=pd.NamedAgg(column=\"body_temperature\", aggfunc=np.mean),\n).dropna()\n\nmapping = {'Female': 0, 'Male': 1}\ndf = df.replace({'gender': mapping})\n\ninfo_feat = [\"shock\", \"gender\", \"bleeding\", \"bleeding_gum\", \"abdominal_pain\", \"ascites\",\n           \"bleeding_mucosal\", \"bleeding_skin\", ]\n\ndata_feat = [\"age\", \"weight\", \"plt\", \"haematocrit_percent\", \"body_temperature\"]\n\ntrain, test = train_test_split(df, test_size=0.2, random_state=SEED)\n\ntrain_data = train[data_feat]\ntest_data = test[data_feat]\ntrain_info = train[info_feat]\ntest_info = test[info_feat]\n\nscaler = preprocessing.MinMaxScaler().fit(train_data)\n\ntrain_scaled = scaler.transform(train_data.to_numpy())\ntest_scaled = scaler.transform(test_data.to_numpy())\n\nloader_train = DataLoader(train_scaled, batch_size, shuffle=True)\nloader_test = DataLoader(test_scaled, batch_size, shuffle=False)"
      ]
    },
    {
      "cell_type": "markdown",
      "metadata": {},
      "source": [
        "## Beta-VAE\n\n"
      ]
    },
    {
      "cell_type": "code",
      "execution_count": null,
      "metadata": {
        "collapsed": false
      },
      "outputs": [],
      "source": [
        "# Additional parameters\ninput_size = len(train_data.columns)\nlayers=[15,10,5]\nmodel = VAE(device=device, latent_dim=latent_dim, input_size=input_size, layers=layers).to(device)\n\n# Optimizer\noptimizer = torch.optim.Adam(model.parameters(), lr=learning_rate)\n\n# Train\nlosses = train_vae(model, optimizer, loader_train, loader_test, num_epochs, beta)\n\n# Plot losses\nplot_vae_loss(losses, show=True, printout=False)"
      ]
    },
    {
      "cell_type": "markdown",
      "metadata": {},
      "source": [
        "## Clustering\n\n"
      ]
    },
    {
      "cell_type": "code",
      "execution_count": null,
      "metadata": {
        "collapsed": false
      },
      "outputs": [],
      "source": [
        "colours = [\"red\", \"blue\", \"limegreen\", \"orangered\", \"yellow\",\n           \"violet\", \"salmon\", \"slategrey\", \"green\", \"crimson\"][:N_CLUSTERS]\n\n# Encode test set and plot in 2D (assumes latent_dim = 2)\nencoded_test = model.encode_inputs(loader_test)\nplt.scatter(encoded_test[:, 0], encoded_test[:, 1])\nplt.show()\n\n# Perform clustering on encoded inputs\ncluster = KMeans(n_clusters=N_CLUSTERS, random_state=SEED).fit_predict(encoded_test)\n\nlabels = [f\"Cluster {i}\" for i in range(N_CLUSTERS)]\n\nscatter = plt.scatter(encoded_test[:, 0], encoded_test[:, 1], c=cluster, cmap=ListedColormap(colours))\nplt.legend(handles=scatter.legend_elements()[0], labels=labels)\nplt.show()"
      ]
    },
    {
      "cell_type": "markdown",
      "metadata": {},
      "source": [
        "## Cluster analysis\n\nTable\n\n"
      ]
    },
    {
      "cell_type": "code",
      "execution_count": null,
      "metadata": {
        "collapsed": false
      },
      "outputs": [],
      "source": [
        "with warnings.catch_warnings():\n    warnings.simplefilter(\"ignore\")\n\n    mapping = {0: 'Female', 1: 'Male'}\n    table_df = test.replace({'gender': mapping})\n\n    table_df['cluster'] = cluster\n\ncolumns = info_feat+data_feat\nnonnormal = list(table_df[columns].select_dtypes(include='number').columns)\ncategorical = list(set(columns).difference(set(nonnormal)))\ncolumns = sorted(categorical) + sorted(nonnormal)\n\nrename = {'haematocrit_percent': 'hct',\n          'body_temperature': 'temperature'}\n\ntable = TableOne(table_df, columns=columns, categorical=categorical, nonnormal=nonnormal,\n                 groupby='cluster', rename=rename, missing=False)\n\nhtml = formatTable(table, colours, labels)\nhtml"
      ]
    },
    {
      "cell_type": "markdown",
      "metadata": {},
      "source": [
        "These attributes were not used to train the model.\n\n"
      ]
    },
    {
      "cell_type": "code",
      "execution_count": null,
      "metadata": {
        "collapsed": false
      },
      "outputs": [],
      "source": [
        "fig = plotBox(data=test_info,\n              features=info_feat,\n              clusters=cluster,\n              colours=colours,\n              title=\"Attributes not used in training\",\n              #path=\"a.html\"\n              )\nfig"
      ]
    },
    {
      "cell_type": "markdown",
      "metadata": {},
      "source": [
        "The following attributes were used to train the model.\n\n"
      ]
    },
    {
      "cell_type": "code",
      "execution_count": null,
      "metadata": {
        "collapsed": false
      },
      "outputs": [],
      "source": [
        "fig = plotBox(data=test_data,\n              features=data_feat,\n              clusters=cluster,\n              colours=colours,\n              title=\"Attributes used in training\",\n              #path=\"b.html\"\n              )\nfig"
      ]
    }
  ],
  "metadata": {
    "kernelspec": {
      "display_name": "Python 3",
      "language": "python",
      "name": "python3"
    },
    "language_info": {
      "codemirror_mode": {
        "name": "ipython",
        "version": 3
      },
      "file_extension": ".py",
      "mimetype": "text/x-python",
      "name": "python",
      "nbconvert_exporter": "python",
      "pygments_lexer": "ipython3",
      "version": "3.8.5"
    }
  },
  "nbformat": 4,
  "nbformat_minor": 0
}