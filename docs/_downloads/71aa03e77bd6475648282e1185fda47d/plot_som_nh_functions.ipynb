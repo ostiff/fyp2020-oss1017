{
  "cells": [
    {
      "cell_type": "code",
      "execution_count": null,
      "metadata": {
        "collapsed": false
      },
      "outputs": [],
      "source": [
        "%matplotlib inline"
      ]
    },
    {
      "cell_type": "markdown",
      "metadata": {},
      "source": [
        "\n# SOM neighbourhood functions\n"
      ]
    },
    {
      "cell_type": "code",
      "execution_count": null,
      "metadata": {
        "collapsed": false
      },
      "outputs": [],
      "source": [
        "import numpy as np\nimport seaborn as sns\nimport matplotlib\nimport matplotlib.pyplot as plt\n\n# matplotlib.use(\"pgf\")\nmatplotlib.rcParams.update({\n    # \"pgf.texsystem\": \"pdflatex\",\n    'font.family': 'serif',\n    # 'text.usetex': True,\n    'font.size': 18,\n    'pgf.rcfonts': False\n})\n\n\ndef gaussian(x, c, sigma):\n    \"\"\"Returns a Gaussian centered in c.\"\"\"\n    d = 2 * sigma * sigma\n    y = np.exp(-np.power(x - c, 2) / d)\n    return y\n\n\ndef mexican_hat(x, c, sigma):\n    \"\"\"Mexican hat centered in c.\"\"\"\n    p = np.power(x - c, 2)\n    d = 2 * sigma * sigma\n    return (np.exp(-p / d) * (1 - 2 / d * p)).T\n\n\ndef bubble(x, c, sigma):\n    \"\"\"Constant function centered in c with spread sigma.\"\"\"\n    y = np.logical_and(x > c - sigma, x < c + sigma)\n    return y\n\n\ndef triangle(x, c, sigma):\n    \"\"\"Triangular function centered in c with spread sigma.\"\"\"\n    triangle_x = (-abs(c - x)) + sigma\n    triangle_x[triangle_x < 0] = 0.\n    return triangle_x\n\n\npoints = 250\nx = np.linspace(-3.5, 3.5, num=points)\n\nfig, axes = plt.subplots(2, 2, figsize=(10, 10))\naxes = axes.flatten()\nfor ax in axes:\n    ax.set_box_aspect(1)\n    ax.set(xlim=(-3.5, 3.5), ylim=(-0.7, 1.25))\n    ax.xaxis.set_major_locator(plt.MaxNLocator(3))\n    ax.yaxis.set_major_locator(plt.MaxNLocator(2))\n\nsns.lineplot(ax=axes[0], x=x, y=gaussian(x,0,1), color=\".3\")\naxes[0].set_title(r'Gaussian')\n\nsns.lineplot(ax=axes[1], x=x, y=bubble(x,0,1), color=\".3\")\naxes[1].set_title(r'Bubble')\n\nsns.lineplot(ax=axes[2], x=x, y=mexican_hat(x,0,1), color=\".3\")\naxes[2].set_title(r'Mexican hat')\n\nsns.lineplot(ax=axes[3], x=x, y=triangle(x,0,1), color=\".3\")\naxes[3].set_title(r'Triangle')\n\n# fig.savefig(\"som_nh_functions.pdf\", bbox_inches='tight')\nplt.show()"
      ]
    }
  ],
  "metadata": {
    "kernelspec": {
      "display_name": "Python 3",
      "language": "python",
      "name": "python3"
    },
    "language_info": {
      "codemirror_mode": {
        "name": "ipython",
        "version": 3
      },
      "file_extension": ".py",
      "mimetype": "text/x-python",
      "name": "python",
      "nbconvert_exporter": "python",
      "pygments_lexer": "ipython3",
      "version": "3.8.5"
    }
  },
  "nbformat": 4,
  "nbformat_minor": 0
}