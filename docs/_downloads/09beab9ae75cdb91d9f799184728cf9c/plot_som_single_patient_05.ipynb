{
  "cells": [
    {
      "cell_type": "code",
      "execution_count": null,
      "metadata": {
        "collapsed": false
      },
      "outputs": [],
      "source": [
        "%matplotlib inline"
      ]
    },
    {
      "cell_type": "markdown",
      "metadata": {},
      "source": [
        "\n# SOM using time-series\n\nSOM of lab-panels for a single patient over time.\n"
      ]
    },
    {
      "cell_type": "code",
      "execution_count": null,
      "metadata": {
        "collapsed": false
      },
      "outputs": [],
      "source": [
        "import pandas as pd\nfrom minisom import MiniSom\nfrom sklearn import preprocessing\nimport datetime as dt\n\nfrom pkgname.utils.som_utils import *\n\npath = '../../data/daily-profile.csv'\nSEED = 0\n\nTIME_PERIODS = 4\n\nGENERAL_COLS = [\"_uid\", \"dateResult\", \"GenderID\", \"patient_age\", \"covid_confirmed\"]\n\nBONE_features = [\"GLOB\",\"TP\",\"CALC\",\"CALCOR\",\"ALP\",\"PHOS\",\"ALB\"]\n\nFBC_features = [\"EOS\", \"MONO\", \"BASO\", \"NEUT\",\n                \"RBC\", \"WBC\", \"MCHC\", \"MCV\",\n                \"LY\", \"HCT\", \"RDW\", \"HGB\",\n                \"MCH\", \"PLT\", \"MPV\", \"NRBCA\"]\n\nFBC_remove = [\"WBC\", \"HGB\", \"HCT\", \"MCV\"]   # remove because they have\n                                            # correlations to other columns of over 0.9\n\npanel_features = [item for item in FBC_features if item not in FBC_remove]\n\ndf = pd.read_csv(path, usecols=panel_features+GENERAL_COLS)\ndf = df.dropna()\n\n# Get patient who has the most entries in the dataset\npid = df['_uid'].value_counts().index.tolist()[0]\ndf = df.loc[df['_uid'] == pid]\n\ny = df['dateResult'].values.tolist()\ndf = df.drop(columns=[\"_uid\", \"patient_age\", \"GenderID\", \"dateResult\", \"covid_confirmed\"])\n\nfeature_names = df.columns\n\nx = df.values #returns a numpy array\nscaler = preprocessing.MinMaxScaler()\n#scaler = preprocessing.StandardScaler()\nx = scaler.fit_transform(x)\n\ndates_list = [dt.datetime.strptime(date, \"%d/%m/%Y\").date() for date in y]\nstart = min(dates_list)\nend = max(dates_list)\ndelta_t = (end-start)/TIME_PERIODS\n\ndate_cutoffs = [[i*delta_t+start,(i+1)*delta_t+start] for i in range(TIME_PERIODS)]\n\n# TODO: Check if needed\ndate_cutoffs[0][0]=start\ndate_cutoffs[-1][1]=end\n\nlabels=[]\nfor date in dates_list:\n    for t in range(TIME_PERIODS):\n        if date <= date_cutoffs[t][1]:\n            labels.append(t)\n            break\n\nlabel_names = [str(date[0].strftime(\"%d/%m/%Y\"))+' - '+str(date[1].strftime(\"%d/%m/%Y\")) for date in date_cutoffs]\n\nsom = MiniSom(10, 10, x.shape[1],\n    topology='hexagonal',\n    activation_distance='euclidean',\n    neighborhood_function='gaussian',\n    sigma=1., learning_rate=.5,\n    random_seed=SEED)\n\n# Train\nsom.pca_weights_init(x)\nsom.train_random(x, 1000, verbose=True)\n\n\ndiff_graph_hex(som, show=True, printout=False)\nfeature_maps(som, feature_names, cols=4, show=True, printout=False)\nproject_labels(som, x, labels, label_names=label_names, show=True,printout=False)"
      ]
    }
  ],
  "metadata": {
    "kernelspec": {
      "display_name": "Python 3",
      "language": "python",
      "name": "python3"
    },
    "language_info": {
      "codemirror_mode": {
        "name": "ipython",
        "version": 3
      },
      "file_extension": ".py",
      "mimetype": "text/x-python",
      "name": "python",
      "nbconvert_exporter": "python",
      "pygments_lexer": "ipython3",
      "version": "3.8.5"
    }
  },
  "nbformat": 4,
  "nbformat_minor": 0
}