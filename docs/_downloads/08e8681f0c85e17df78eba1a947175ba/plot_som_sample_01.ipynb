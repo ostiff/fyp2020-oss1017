{
  "cells": [
    {
      "cell_type": "code",
      "execution_count": null,
      "metadata": {
        "collapsed": false
      },
      "outputs": [],
      "source": [
        "%matplotlib inline"
      ]
    },
    {
      "cell_type": "markdown",
      "metadata": {},
      "source": [
        "\n# SOM Dimensionality Reduction\n\nUse ``SimpSOM`` to reduce the dimensionality of a synthetic dataset.\n\nClustering performed using k-means.\n"
      ]
    },
    {
      "cell_type": "code",
      "execution_count": null,
      "metadata": {
        "collapsed": false
      },
      "outputs": [],
      "source": [
        "from pkgname.utils.print_utils import suppress_stdout\n\nimport SimpSOM as sps\nfrom sklearn.cluster import KMeans\nfrom sklearn.datasets import make_blobs\nfrom sklearn import preprocessing\nimport pandas as pd\nimport numpy as np\nimport matplotlib.pyplot as plt\nfrom matplotlib import rcParams\nrcParams.update({'figure.autolayout': True})\n\n\n\nSEED = 0"
      ]
    },
    {
      "cell_type": "markdown",
      "metadata": {},
      "source": [
        "## Synthetic Dataset\n\nDataset created using ``sklearn.datasets.make_blobs``.\n\n\n"
      ]
    },
    {
      "cell_type": "code",
      "execution_count": null,
      "metadata": {
        "collapsed": false
      },
      "outputs": [],
      "source": [
        "N_CLUSTERS = 6\nN_SAMPLES = N_CLUSTERS * 100\nN_FEATURES = 16\n\nprint(\"The dataset has {dim} dimensions and {clusters} clusters.\".format(dim=N_FEATURES, clusters=N_CLUSTERS))\n\nx, y = make_blobs(n_samples=N_SAMPLES,\n                  n_features=N_FEATURES,\n                  centers=N_CLUSTERS,\n                  cluster_std=3,\n                  random_state=SEED)\n\n# Scale data\nscaler = preprocessing.MinMaxScaler()\nx = scaler.fit_transform(x)"
      ]
    },
    {
      "cell_type": "markdown",
      "metadata": {},
      "source": [
        "## Self Organising Map\n\nInitialise and train model using the synthetic dataset.\nDisplay node weight difference graph.\n\n\n"
      ]
    },
    {
      "cell_type": "code",
      "execution_count": null,
      "metadata": {
        "collapsed": false
      },
      "outputs": [],
      "source": [
        "with suppress_stdout():\n    net = sps.somNet(20, 20, x, PBC=False)\n    net.train(0.01, 20000)\n\nnet.diff_graph(printout=False, show=True)"
      ]
    },
    {
      "cell_type": "markdown",
      "metadata": {},
      "source": [
        "## k-Means Clustering\n\nProject datapoints onto the map and extract their coordinates\nto use them in 2D k-Means clustering.\n\n\n"
      ]
    },
    {
      "cell_type": "code",
      "execution_count": null,
      "metadata": {
        "collapsed": false
      },
      "outputs": [],
      "source": [
        "prj=np.array(net.project(x, printout=False))\n\nkmeans = KMeans(n_clusters=N_CLUSTERS, random_state=SEED).fit(prj)\n\nplt.scatter(prj[:,0],prj[:,1], c=kmeans.labels_, cmap='rainbow')\nplt.show()"
      ]
    },
    {
      "cell_type": "markdown",
      "metadata": {},
      "source": [
        "## Clustering Results\n\nCompare dataset class labels to obtained clusters.\n\n\n\n"
      ]
    },
    {
      "cell_type": "code",
      "execution_count": null,
      "metadata": {
        "collapsed": false
      },
      "outputs": [],
      "source": [
        "data_labels = pd.Series(y, name='Class')\ncluster_labels = pd.Series([chr(ord(str(num))+17) for num in kmeans.labels_], name='Cluster')\nprint(pd.crosstab(data_labels, cluster_labels, dropna=False))"
      ]
    },
    {
      "cell_type": "markdown",
      "metadata": {},
      "source": [
        "## SOM individual feature maps\n\nDisplay feature maps for all features in the original dataset.\n\n\n\n"
      ]
    },
    {
      "cell_type": "code",
      "execution_count": null,
      "metadata": {
        "collapsed": false
      },
      "outputs": [],
      "source": [
        "for i in range(N_FEATURES):\n    net.nodes_graph(colnum=i, printout=False, show=True)"
      ]
    }
  ],
  "metadata": {
    "kernelspec": {
      "display_name": "Python 3",
      "language": "python",
      "name": "python3"
    },
    "language_info": {
      "codemirror_mode": {
        "name": "ipython",
        "version": 3
      },
      "file_extension": ".py",
      "mimetype": "text/x-python",
      "name": "python",
      "nbconvert_exporter": "python",
      "pygments_lexer": "ipython3",
      "version": "3.8.5"
    }
  },
  "nbformat": 4,
  "nbformat_minor": 0
}