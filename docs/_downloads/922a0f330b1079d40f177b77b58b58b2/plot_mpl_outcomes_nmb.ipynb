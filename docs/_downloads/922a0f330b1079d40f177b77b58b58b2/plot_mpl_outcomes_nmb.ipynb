{
  "cells": [
    {
      "cell_type": "code",
      "execution_count": null,
      "metadata": {
        "collapsed": false
      },
      "outputs": [],
      "source": [
        "%matplotlib inline"
      ]
    },
    {
      "cell_type": "markdown",
      "metadata": {},
      "source": [
        "\n# Outcomes (numbers)\n\nThis script is useful to understand the distribution\nover the 2D projected space of the different numeric\nfeatures and/or outcomes.\n"
      ]
    },
    {
      "cell_type": "code",
      "execution_count": null,
      "metadata": {
        "collapsed": false
      },
      "outputs": [],
      "source": [
        "# Library\nimport pickle\nimport pandas as pd\nimport numpy as np\nimport matplotlib as mpl\n\n# Specific\nfrom torch.utils.data import DataLoader\nfrom sklearn.preprocessing import MinMaxScaler\n\n# Specific\nfrom pkgname.core.AE.autoencoder import get_device, set_seed\nfrom pkgname.utils.data_loader import load_dengue, IQR_rule\n\n# Local\nimport _utils\n\n\n\n# ------------------------------\n# Constants\n# ------------------------------\n# Load constants\nfeatures = _utils.features\nothers = _utils.others\nmappings = _utils.mappings\naggregation = _utils.aggregation\ncmaps = _utils.cmaps\n\n# Define outcomes\noutcomes = [\n    \"age\",\n    \"weight\",\n    \"plt\",\n    \"haematocrit_percent\",\n    \"body_temperature\",\n    \"ast\",\n    \"alt\"\n]\n\n# Ensure all outcomes are in aggregation\nfor c in outcomes:\n    if c not in aggregation:\n        print(\"Adding... %23s | max\" % c)\n        aggregation[c] = 'max'\n\n# Define rows and columns\nnrows, ncols = 3, 3\n\n# ------------------------------\n# Load data\n# ------------------------------\n# Load data\ndata = _utils.load_data()\n\n# Filter data (age, iqr, ...)\ndata = data[data.age.between(0.0, 18.0)]\ndata = data[data.plt < 50000] # extreme outlier\ndata = data[data.ast < 1500]  # extreme outlier\n\n# Filter outliers\ndata = IQR_rule(data, [\n    'plt',\n    #'haematocrit_percent',\n    #'body_temperature'\n])\n\n# Show data\nprint(\"\\nData:\")\nprint(data)\nprint(data.dtypes)\nprint(data.index.nunique())\nprint(data[outcomes].count().sort_values())\n\n\n# ------------------------------\n# Load Model\n# ------------------------------\n# Load model\nmodel = _utils.load_model()\n\n# Show\nprint(\"\\nModel:\")\nprint(model)\n\n# ------------------------------\n# Projections\n# ------------------------------\n# .. note: Ideally the method to preprocess\n#          data should be included in the\n#          model (like a sklearn pipeline)\n# Features\ndatap = data[features].copy(deep=True)\n\n# Scale first\ndatap = MinMaxScaler().fit_transform(datap)\n\n# Encode\nencoded = model.encode_inputs( \\\n    DataLoader(datap, 16, shuffle=False))\n\n# Include in original dataset\ndata[['x', 'y']] = encoded\n\n# Show\nprint(\"\\nEncoded:\")\nprint(encoded)\nprint(\"\\nData:\")\nprint(data)\n\n\n# ------------------------------\n# Visualization\n# ------------------------------\n# Libraries\nimport matplotlib.pyplot as plt\n\n# Figure with hexbins\nf3, axes3 = plt.subplots(nrows, ncols,\n    figsize=(12, 9), sharex=True, sharey=True)\n\n# Loop\nfor i, c in enumerate(outcomes):\n    # Plot hexbin\n    m = axes3.flat[i].hexbin(data.x, data.y,\n        C=data[c], label=c, gridsize=30,\n        cmap=cmaps.get(c, 'Reds'))\n    # Configure\n    axes3.flat[i].set(aspect='equal',\n        title='%s (%s)' % (c, data[c].count()))\n    plt.colorbar(m, ax=axes3.flat[i])\n\n# Configure\nplt.tight_layout()\n\n# Show\nplt.show()"
      ]
    }
  ],
  "metadata": {
    "kernelspec": {
      "display_name": "Python 3",
      "language": "python",
      "name": "python3"
    },
    "language_info": {
      "codemirror_mode": {
        "name": "ipython",
        "version": 3
      },
      "file_extension": ".py",
      "mimetype": "text/x-python",
      "name": "python",
      "nbconvert_exporter": "python",
      "pygments_lexer": "ipython3",
      "version": "3.8.5"
    }
  },
  "nbformat": 4,
  "nbformat_minor": 0
}