{
  "cells": [
    {
      "cell_type": "code",
      "execution_count": null,
      "metadata": {
        "collapsed": false
      },
      "outputs": [],
      "source": [
        "%matplotlib inline"
      ]
    },
    {
      "cell_type": "markdown",
      "metadata": {},
      "source": [
        "\n# t-SNE: Dengue dataset 2\n\nTraining attributes: `age`, `gender`, `weight`, `plt`, `haematocrit_percent`,\n  `body_temperature`.\n\nAttributes used in cluster comparison: `bleeding`, `shock`, `bleeding_gum`,\n `abdominal_pain`, `ascites`, `bleeding_mucosal`, `bleeding_skin`.\n"
      ]
    },
    {
      "cell_type": "code",
      "execution_count": null,
      "metadata": {
        "collapsed": false
      },
      "outputs": [],
      "source": [
        "# Libraries\nimport pandas as pd\nimport numpy as np\nfrom sklearn.manifold import TSNE\nfrom sklearn.cluster import DBSCAN\nfrom sklearn import preprocessing\nimport matplotlib.pyplot as plt\n\nfrom pkgname.utils.data_loader import load_dengue\npd.set_option('display.max_columns', None)\n\n\nSEED = 0\nnp.random.seed(SEED)"
      ]
    },
    {
      "cell_type": "markdown",
      "metadata": {},
      "source": [
        "## Dataset\n\nLoad dengue dataset. Perform forward and backwards fill after grouping by patient.\nDoes not make use of the `d001` dataset because it does not contain: `abdominal_pain`,\n`bleeding_mucosal`, `bleeding_skin`, `body_temperature`.\nTo reduce computation time aggregate patient data to only have one tuple per patient.\n\n"
      ]
    },
    {
      "cell_type": "code",
      "execution_count": null,
      "metadata": {
        "collapsed": false
      },
      "outputs": [],
      "source": [
        "df = load_dengue(usedefault=True)\n\nmapping = {'Female': 1, 'Male': 2}\ndf = df.replace({'gender': mapping})\n\nfeatures = [\"date\", \"age\", \"gender\", \"weight\", \"bleeding\", \"plt\",\n            \"shock\", \"haematocrit_percent\", \"bleeding_gum\", \"abdominal_pain\",\n            \"ascites\", \"bleeding_mucosal\", \"bleeding_skin\", \"body_temperature\"]\n\nfor feat in features:\n    df[feat] = df.groupby('study_no')[feat].ffill().bfill()\n\ndf = df.loc[df['age'] <= 18]\n#df = df.dropna()\n\ndf = df.groupby(by=\"study_no\", dropna=False).agg(\n    date=pd.NamedAgg(column=\"date\", aggfunc=\"last\"),\n    age=pd.NamedAgg(column=\"age\", aggfunc=\"max\"),\n    gender=pd.NamedAgg(column=\"gender\", aggfunc=\"first\"),\n    weight=pd.NamedAgg(column=\"weight\", aggfunc=np.mean),\n    bleeding=pd.NamedAgg(column=\"bleeding\", aggfunc=\"max\"),\n    plt=pd.NamedAgg(column=\"plt\", aggfunc=\"max\"),\n    shock=pd.NamedAgg(column=\"shock\", aggfunc=\"max\"),\n    haematocrit_percent=pd.NamedAgg(column=\"haematocrit_percent\", aggfunc=\"max\"),\n    bleeding_gum=pd.NamedAgg(column=\"bleeding_gum\", aggfunc=\"max\"),\n    abdominal_pain=pd.NamedAgg(column=\"abdominal_pain\", aggfunc=\"max\"),\n    ascites=pd.NamedAgg(column=\"ascites\", aggfunc=\"max\"),\n    bleeding_mucosal=pd.NamedAgg(column=\"bleeding_mucosal\", aggfunc=\"max\"),\n    bleeding_skin=pd.NamedAgg(column=\"bleeding_skin\", aggfunc=\"max\"),\n    body_temperature=pd.NamedAgg(column=\"body_temperature\", aggfunc=np.mean),\n).dropna()\nprint(\"len\", len(df.index))"
      ]
    },
    {
      "cell_type": "markdown",
      "metadata": {},
      "source": [
        "## t-SNE\n\nUse t-SNE on the z-score scaled data.\n\n"
      ]
    },
    {
      "cell_type": "code",
      "execution_count": null,
      "metadata": {
        "collapsed": false
      },
      "outputs": [],
      "source": [
        "info_feat = [\"shock\", \"bleeding\", \"bleeding_gum\", \"abdominal_pain\", \"ascites\",\n           \"bleeding_mucosal\", \"bleeding_skin\", ]\ninfo_df = df[info_feat]\n\ndata_feat = [\"age\", \"weight\", \"plt\", \"haematocrit_percent\", \"body_temperature\"]\ndata_df = df[data_feat]\n\nscaler = preprocessing.StandardScaler()\nx = scaler.fit_transform(data_df.values)\n\nX_embedded = TSNE(n_components=2, perplexity=500, random_state=SEED).fit_transform(x)"
      ]
    },
    {
      "cell_type": "markdown",
      "metadata": {},
      "source": [
        "## DBSCAN\n\nIdentify clusters using DBSCAN\n\n"
      ]
    },
    {
      "cell_type": "code",
      "execution_count": null,
      "metadata": {
        "collapsed": false
      },
      "outputs": [],
      "source": [
        "clustering = DBSCAN(eps=10, min_samples=5).fit(X_embedded)"
      ]
    },
    {
      "cell_type": "markdown",
      "metadata": {},
      "source": [
        "## Plotting\n\n"
      ]
    },
    {
      "cell_type": "code",
      "execution_count": null,
      "metadata": {
        "collapsed": false
      },
      "outputs": [],
      "source": [
        "plt.scatter(X_embedded[:,0], X_embedded[:,1], c=clustering.labels_)\nplt.title('t-SNE + DBSCAN')\nplt.show()\n\n\ninfo_df['cluster'] = clustering.labels_\n\n_, ax1 = plt.subplots(len(info_feat), 1, figsize=(5, 5 * len(info_feat)))\n\nfor i, feat in enumerate(info_feat):\n    info_df.boxplot(feat,'cluster', ax=ax1[i], showmeans=True)\n\nplt.show()\n\n\n\ndata_df['cluster'] = clustering.labels_\n\n_, ax1 = plt.subplots(len(data_feat), 1, figsize=(5, 5 * len(data_feat)))\n\nfor i, feat in enumerate(data_feat):\n    data_df.boxplot(feat,'cluster', ax=ax1[i], showmeans=True)\n\nplt.show()"
      ]
    }
  ],
  "metadata": {
    "kernelspec": {
      "display_name": "Python 3",
      "language": "python",
      "name": "python3"
    },
    "language_info": {
      "codemirror_mode": {
        "name": "ipython",
        "version": 3
      },
      "file_extension": ".py",
      "mimetype": "text/x-python",
      "name": "python",
      "nbconvert_exporter": "python",
      "pygments_lexer": "ipython3",
      "version": "3.8.5"
    }
  },
  "nbformat": 4,
  "nbformat_minor": 0
}