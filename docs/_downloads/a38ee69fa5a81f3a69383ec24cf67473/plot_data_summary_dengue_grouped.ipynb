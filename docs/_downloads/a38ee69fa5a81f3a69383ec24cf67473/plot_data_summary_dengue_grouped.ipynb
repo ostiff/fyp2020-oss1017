{
  "cells": [
    {
      "cell_type": "code",
      "execution_count": null,
      "metadata": {
        "collapsed": false
      },
      "outputs": [],
      "source": [
        "%matplotlib inline"
      ]
    },
    {
      "cell_type": "markdown",
      "metadata": {},
      "source": [
        "\n# Dataset summary: Dengue -  grouped by patient\n\nReport generated using ``dataprep``.\n"
      ]
    },
    {
      "cell_type": "code",
      "execution_count": null,
      "metadata": {
        "collapsed": false
      },
      "outputs": [],
      "source": [
        "import pandas as pd\nimport numpy as np\nfrom dataprep.eda import create_report\nfrom pkgname.utils.data_loader import load_dengue\nfrom pkgname.utils.print_utils import suppress_stdout, suppress_stderr\n\nfeatures = [\"dsource\", \"age\", \"gender\", \"weight\", \"bleeding\", \"plt\",\n            \"shock\", \"haematocrit_percent\", \"bleeding_gum\", \"abdominal_pain\",\n            \"ascites\", \"bleeding_mucosal\", \"bleeding_skin\", \"body_temperature\"]\n\nwith suppress_stdout() and suppress_stderr():\n\n    df = load_dengue(usecols=['study_no']+features)\n\n    for feat in features:\n        df[feat] = df.groupby('study_no')[feat].ffill().bfill()\n\n    df = df.loc[df['age'] <= 18]\n    df = df.dropna()\n\n    df = df.groupby(by=\"study_no\", dropna=False).agg(\n        dsource=pd.NamedAgg(column=\"dsource\", aggfunc=\"last\"),\n        age=pd.NamedAgg(column=\"age\", aggfunc=\"max\"),\n        gender=pd.NamedAgg(column=\"gender\", aggfunc=\"first\"),\n        weight=pd.NamedAgg(column=\"weight\", aggfunc=np.mean),\n        bleeding=pd.NamedAgg(column=\"bleeding\", aggfunc=\"max\"),\n        plt=pd.NamedAgg(column=\"plt\", aggfunc=\"min\"),\n        shock=pd.NamedAgg(column=\"shock\", aggfunc=\"max\"),\n        haematocrit_percent=pd.NamedAgg(column=\"haematocrit_percent\", aggfunc=\"max\"),\n        bleeding_gum=pd.NamedAgg(column=\"bleeding_gum\", aggfunc=\"max\"),\n        abdominal_pain=pd.NamedAgg(column=\"abdominal_pain\", aggfunc=\"max\"),\n        ascites=pd.NamedAgg(column=\"ascites\", aggfunc=\"max\"),\n        bleeding_mucosal=pd.NamedAgg(column=\"bleeding_mucosal\", aggfunc=\"max\"),\n        bleeding_skin=pd.NamedAgg(column=\"bleeding_skin\", aggfunc=\"max\"),\n        body_temperature=pd.NamedAgg(column=\"body_temperature\", aggfunc=np.mean),\n    ).dropna()\n\n    report = create_report(df, title=\"Dengue dataset report\")\n\nreport"
      ]
    }
  ],
  "metadata": {
    "kernelspec": {
      "display_name": "Python 3",
      "language": "python",
      "name": "python3"
    },
    "language_info": {
      "codemirror_mode": {
        "name": "ipython",
        "version": 3
      },
      "file_extension": ".py",
      "mimetype": "text/x-python",
      "name": "python",
      "nbconvert_exporter": "python",
      "pygments_lexer": "ipython3",
      "version": "3.8.5"
    }
  },
  "nbformat": 4,
  "nbformat_minor": 0
}